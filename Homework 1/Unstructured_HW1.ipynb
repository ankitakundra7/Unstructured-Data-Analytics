{
  "nbformat": 4,
  "nbformat_minor": 0,
  "metadata": {
    "colab": {
      "name": "Unstructured_HW1.ipynb",
      "provenance": [],
      "collapsed_sections": [
        "LMVRWFXW2_xz",
        "9vza3lbF35x2"
      ]
    },
    "kernelspec": {
      "name": "python3",
      "display_name": "Python 3"
    },
    "language_info": {
      "name": "python"
    },
    "accelerator": "GPU"
  },
  "cells": [
    {
      "cell_type": "markdown",
      "metadata": {
        "id": "uu8_CD65DVBv"
      },
      "source": [
        "# **ANALYTICS FOR UNSTRUCTURED DATA: GROUP ASSIGNMENT #1**\n",
        "\n",
        "Group Members: Ohyoon Kwon(ok2364), Samuel Oh(io3279), Ankita Kundra(ak44675), Oluwaseun Ibitoye(oli63), Ambikha Maharaj(am84333)"
      ]
    },
    {
      "cell_type": "markdown",
      "metadata": {
        "id": "LMVRWFXW2_xz"
      },
      "source": [
        "#### **1. Which forum you chose (provide URL)**"
      ]
    },
    {
      "cell_type": "markdown",
      "metadata": {
        "id": "9vza3lbF35x2"
      },
      "source": [
        "#### We chose the 5000 oldest posts starting from March 2002, from the Edmunds.com Entry Level Luxury discussion forum : https://forums.edmunds.com/discussion/2864/general/x/entry-level-luxury-performance-sedans"
      ]
    },
    {
      "cell_type": "markdown",
      "metadata": {
        "id": "kb9D4KF04nK1"
      },
      "source": [
        "   ### **Task 1 & 2: Web Scraping:**"
      ]
    },
    {
      "cell_type": "code",
      "metadata": {
        "colab": {
          "base_uri": "https://localhost:8080/"
        },
        "id": "ZUJaSrXq5Epv",
        "outputId": "88e31d6d-2a89-4e26-de1b-81bfe1f8fe30"
      },
      "source": [
        "#Selenium is an open-source tool that automates web browsers.\n",
        "!pip install selenium\n",
        "!apt-get -q update   #Used to handle installation and removal of softwares and libraries\n",
        "!apt install -yq chromium-chromedriver #ChromeDriver is a separate executable that Selenium WebDriver uses to control Chrome.\n",
        "!cp /usr/lib/chromium-browser/chromedriver /usr/bin\n",
        "\n",
        "import sys\n",
        "sys.path.insert(0,'/usr/lib/chromium-browser/chromedriver')\n",
        "from selenium import webdriver \n",
        "#WebDriver is a browser automation framework that works with open source APIs. \n",
        "#The framework operates by accepting commands, sending those commands to a browser, and interacting with applications.\n",
        "chrome_options = webdriver.ChromeOptions()\n",
        "chrome_options.add_argument('--headless')\n",
        "chrome_options.add_argument('--no-sandbox')\n",
        "chrome_options.add_argument('--disable-dev-shm-usage')"
      ],
      "execution_count": 1,
      "outputs": [
        {
          "output_type": "stream",
          "name": "stdout",
          "text": [
            "Collecting selenium\n",
            "  Downloading selenium-3.141.0-py2.py3-none-any.whl (904 kB)\n",
            "\u001b[K     |████████████████████████████████| 904 kB 3.5 MB/s \n",
            "\u001b[?25hRequirement already satisfied: urllib3 in /usr/local/lib/python3.7/dist-packages (from selenium) (1.24.3)\n",
            "Installing collected packages: selenium\n",
            "Successfully installed selenium-3.141.0\n",
            "Get:1 http://security.ubuntu.com/ubuntu bionic-security InRelease [88.7 kB]\n",
            "Ign:2 https://developer.download.nvidia.com/compute/cuda/repos/ubuntu1804/x86_64  InRelease\n",
            "Get:3 http://ppa.launchpad.net/c2d4u.team/c2d4u4.0+/ubuntu bionic InRelease [15.9 kB]\n",
            "Ign:4 https://developer.download.nvidia.com/compute/machine-learning/repos/ubuntu1804/x86_64  InRelease\n",
            "Hit:5 https://developer.download.nvidia.com/compute/cuda/repos/ubuntu1804/x86_64  Release\n",
            "Hit:6 https://developer.download.nvidia.com/compute/machine-learning/repos/ubuntu1804/x86_64  Release\n",
            "Hit:7 http://archive.ubuntu.com/ubuntu bionic InRelease\n",
            "Get:8 http://archive.ubuntu.com/ubuntu bionic-updates InRelease [88.7 kB]\n",
            "Get:9 http://security.ubuntu.com/ubuntu bionic-security/main amd64 Packages [2,326 kB]\n",
            "Hit:10 http://ppa.launchpad.net/cran/libgit2/ubuntu bionic InRelease\n",
            "Get:11 https://cloud.r-project.org/bin/linux/ubuntu bionic-cran40/ InRelease [3,626 B]\n",
            "Hit:13 http://ppa.launchpad.net/deadsnakes/ppa/ubuntu bionic InRelease\n",
            "Get:14 http://security.ubuntu.com/ubuntu bionic-security/universe amd64 Packages [1,428 kB]\n",
            "Get:15 http://archive.ubuntu.com/ubuntu bionic-backports InRelease [74.6 kB]\n",
            "Hit:16 http://ppa.launchpad.net/graphics-drivers/ppa/ubuntu bionic InRelease\n",
            "Get:18 http://ppa.launchpad.net/c2d4u.team/c2d4u4.0+/ubuntu bionic/main Sources [1,802 kB]\n",
            "Get:19 https://cloud.r-project.org/bin/linux/ubuntu bionic-cran40/ Packages [67.4 kB]\n",
            "Get:20 http://ppa.launchpad.net/c2d4u.team/c2d4u4.0+/ubuntu bionic/main amd64 Packages [922 kB]\n",
            "Get:21 http://archive.ubuntu.com/ubuntu bionic-updates/universe amd64 Packages [2,202 kB]\n",
            "Get:22 http://archive.ubuntu.com/ubuntu bionic-updates/main amd64 Packages [2,770 kB]\n",
            "Get:23 http://archive.ubuntu.com/ubuntu bionic-updates/restricted amd64 Packages [613 kB]\n",
            "Fetched 12.4 MB in 3s (3,642 kB/s)\n",
            "Reading package lists...\n",
            "Reading package lists...\n",
            "Building dependency tree...\n",
            "Reading state information...\n",
            "The following additional packages will be installed:\n",
            "  chromium-browser chromium-browser-l10n chromium-codecs-ffmpeg-extra\n",
            "Suggested packages:\n",
            "  webaccounts-chromium-extension unity-chromium-extension\n",
            "The following NEW packages will be installed:\n",
            "  chromium-browser chromium-browser-l10n chromium-chromedriver\n",
            "  chromium-codecs-ffmpeg-extra\n",
            "0 upgraded, 4 newly installed, 0 to remove and 61 not upgraded.\n",
            "Need to get 92.6 MB of archives.\n",
            "After this operation, 317 MB of additional disk space will be used.\n",
            "Get:1 http://archive.ubuntu.com/ubuntu bionic-updates/universe amd64 chromium-codecs-ffmpeg-extra amd64 93.0.4577.63-0ubuntu0.18.04.1 [1,135 kB]\n",
            "Get:2 http://archive.ubuntu.com/ubuntu bionic-updates/universe amd64 chromium-browser amd64 93.0.4577.63-0ubuntu0.18.04.1 [82.4 MB]\n",
            "Get:3 http://archive.ubuntu.com/ubuntu bionic-updates/universe amd64 chromium-browser-l10n all 93.0.4577.63-0ubuntu0.18.04.1 [4,133 kB]\n",
            "Get:4 http://archive.ubuntu.com/ubuntu bionic-updates/universe amd64 chromium-chromedriver amd64 93.0.4577.63-0ubuntu0.18.04.1 [4,961 kB]\n",
            "Fetched 92.6 MB in 5s (19.9 MB/s)\n",
            "Selecting previously unselected package chromium-codecs-ffmpeg-extra.\n",
            "(Reading database ... 155013 files and directories currently installed.)\n",
            "Preparing to unpack .../chromium-codecs-ffmpeg-extra_93.0.4577.63-0ubuntu0.18.04.1_amd64.deb ...\n",
            "Unpacking chromium-codecs-ffmpeg-extra (93.0.4577.63-0ubuntu0.18.04.1) ...\n",
            "Selecting previously unselected package chromium-browser.\n",
            "Preparing to unpack .../chromium-browser_93.0.4577.63-0ubuntu0.18.04.1_amd64.deb ...\n",
            "Unpacking chromium-browser (93.0.4577.63-0ubuntu0.18.04.1) ...\n",
            "Selecting previously unselected package chromium-browser-l10n.\n",
            "Preparing to unpack .../chromium-browser-l10n_93.0.4577.63-0ubuntu0.18.04.1_all.deb ...\n",
            "Unpacking chromium-browser-l10n (93.0.4577.63-0ubuntu0.18.04.1) ...\n",
            "Selecting previously unselected package chromium-chromedriver.\n",
            "Preparing to unpack .../chromium-chromedriver_93.0.4577.63-0ubuntu0.18.04.1_amd64.deb ...\n",
            "Unpacking chromium-chromedriver (93.0.4577.63-0ubuntu0.18.04.1) ...\n",
            "Setting up chromium-codecs-ffmpeg-extra (93.0.4577.63-0ubuntu0.18.04.1) ...\n",
            "Setting up chromium-browser (93.0.4577.63-0ubuntu0.18.04.1) ...\n",
            "update-alternatives: using /usr/bin/chromium-browser to provide /usr/bin/x-www-browser (x-www-browser) in auto mode\n",
            "update-alternatives: using /usr/bin/chromium-browser to provide /usr/bin/gnome-www-browser (gnome-www-browser) in auto mode\n",
            "Setting up chromium-chromedriver (93.0.4577.63-0ubuntu0.18.04.1) ...\n",
            "Setting up chromium-browser-l10n (93.0.4577.63-0ubuntu0.18.04.1) ...\n",
            "Processing triggers for man-db (2.8.3-2ubuntu0.1) ...\n",
            "Processing triggers for hicolor-icon-theme (0.17-2) ...\n",
            "Processing triggers for mime-support (3.60ubuntu1) ...\n",
            "Processing triggers for libc-bin (2.27-3ubuntu1.3) ...\n",
            "/sbin/ldconfig.real: /usr/local/lib/python3.7/dist-packages/ideep4py/lib/libmkldnn.so.0 is not a symbolic link\n",
            "\n",
            "cp: '/usr/lib/chromium-browser/chromedriver' and '/usr/bin/chromedriver' are the same file\n"
          ]
        }
      ]
    },
    {
      "cell_type": "code",
      "metadata": {
        "id": "gcO6je1S5iJ3"
      },
      "source": [
        "wd = webdriver.Chrome('chromedriver',options=chrome_options)\n",
        "wd.get('https://forums.edmunds.com/discussion/2864/general/x/entry-level-luxury-performance-sedans')"
      ],
      "execution_count": 2,
      "outputs": []
    },
    {
      "cell_type": "code",
      "metadata": {
        "id": "vbYvPonA5nHy",
        "colab": {
          "base_uri": "https://localhost:8080/"
        },
        "outputId": "e45b5da9-ccda-417d-a350-9be023218194"
      },
      "source": [
        "import pandas as pd\n",
        "comments = pd.DataFrame(columns = ['Date', 'comments']) \n",
        "\n",
        "# each page has 50 comments, so looped through 100 pages for 5000 comments\n",
        "for p in range(1, 101, 1):\n",
        "    page_url = \"https://forums.edmunds.com/discussion/2864/general/x/entry-level-luxury-performance-sedans/p\" + str(p)\n",
        "    wd.get(page_url)\n",
        "\n",
        "    ids = wd.find_elements_by_xpath(\"//*[contains(@id,'Comment_')]\")\n",
        "\n",
        "    comment_ids = []\n",
        "    for i in ids:\n",
        "        comment_ids.append(i.get_attribute('id'))\n",
        "\n",
        "    for x in comment_ids:\n",
        "        user_date = wd.find_elements_by_xpath('//*[@id=\"' + x +'\"]/div/div[2]/div[2]/span[1]/a/time')[0]\n",
        "        date = user_date.get_attribute('title')\n",
        "\n",
        "        user_message = wd.find_elements_by_xpath('//*[@id=\"' + x +'\"]/div/div[3]/div/div[1]')[0]\n",
        "        comment = user_message.text\n",
        "\n",
        "        comments.loc[len(comments)] = [date, comment]\n",
        "  \n",
        "print(comments.head())\n",
        "print(comments.shape[0])"
      ],
      "execution_count": 3,
      "outputs": [
        {
          "output_type": "stream",
          "name": "stdout",
          "text": [
            "                     Date                                           comments\n",
            "0  March 24, 2002 10:54PM  I personally think that with a few tweaks the ...\n",
            "1  March 25, 2002 12:06AM  I am debating a new purchase and these two are...\n",
            "2  March 25, 2002 10:02AM  Great handling, RWD, excellent engine and the ...\n",
            "3   March 25, 2002 4:04PM  And no manual tranny. That may not matter to y...\n",
            "4   March 25, 2002 5:44PM  One beauty of BMW 3 Series is that there are s...\n",
            "5000\n"
          ]
        }
      ]
    },
    {
      "cell_type": "code",
      "metadata": {
        "id": "pf7MQYhw5w8Z",
        "colab": {
          "base_uri": "https://localhost:8080/",
          "height": 35
        },
        "outputId": "89012ae4-8195-4eff-b158-a36d3ae378b8"
      },
      "source": [
        "comments.to_csv(\"results.csv\")\n",
        "!ls\n",
        "from google.colab import files\n",
        "files.download(\"results.csv\")"
      ],
      "execution_count": 4,
      "outputs": [
        {
          "output_type": "stream",
          "name": "stdout",
          "text": [
            "results.csv  sample_data\n"
          ]
        },
        {
          "output_type": "display_data",
          "data": {
            "application/javascript": [
              "\n",
              "    async function download(id, filename, size) {\n",
              "      if (!google.colab.kernel.accessAllowed) {\n",
              "        return;\n",
              "      }\n",
              "      const div = document.createElement('div');\n",
              "      const label = document.createElement('label');\n",
              "      label.textContent = `Downloading \"${filename}\": `;\n",
              "      div.appendChild(label);\n",
              "      const progress = document.createElement('progress');\n",
              "      progress.max = size;\n",
              "      div.appendChild(progress);\n",
              "      document.body.appendChild(div);\n",
              "\n",
              "      const buffers = [];\n",
              "      let downloaded = 0;\n",
              "\n",
              "      const channel = await google.colab.kernel.comms.open(id);\n",
              "      // Send a message to notify the kernel that we're ready.\n",
              "      channel.send({})\n",
              "\n",
              "      for await (const message of channel.messages) {\n",
              "        // Send a message to notify the kernel that we're ready.\n",
              "        channel.send({})\n",
              "        if (message.buffers) {\n",
              "          for (const buffer of message.buffers) {\n",
              "            buffers.push(buffer);\n",
              "            downloaded += buffer.byteLength;\n",
              "            progress.value = downloaded;\n",
              "          }\n",
              "        }\n",
              "      }\n",
              "      const blob = new Blob(buffers, {type: 'application/binary'});\n",
              "      const a = document.createElement('a');\n",
              "      a.href = window.URL.createObjectURL(blob);\n",
              "      a.download = filename;\n",
              "      div.appendChild(a);\n",
              "      a.click();\n",
              "      div.remove();\n",
              "    }\n",
              "  "
            ],
            "text/plain": [
              "<IPython.core.display.Javascript object>"
            ]
          },
          "metadata": {}
        },
        {
          "output_type": "display_data",
          "data": {
            "application/javascript": [
              "download(\"download_a20ee87b-db52-4e02-bfbc-1c952baf94dc\", \"results.csv\", 2669724)"
            ],
            "text/plain": [
              "<IPython.core.display.Javascript object>"
            ]
          },
          "metadata": {}
        }
      ]
    },
    {
      "cell_type": "markdown",
      "metadata": {
        "id": "4aMW-4qzbpjU"
      },
      "source": [
        "### **Task A: Does the data support Zipf's Law?**"
      ]
    },
    {
      "cell_type": "code",
      "metadata": {
        "id": "-Yomqpi3bsO0",
        "colab": {
          "base_uri": "https://localhost:8080/"
        },
        "outputId": "43786f0d-d5c9-44e7-eddf-c304a6964020"
      },
      "source": [
        "import pandas as pd\n",
        "import nltk\n",
        "nltk.download('punkt')\n",
        "nltk.download('stopwords')\n",
        "from nltk import word_tokenize\n",
        "from nltk.corpus import stopwords\n",
        "import string\n",
        "%pylab inline"
      ],
      "execution_count": 5,
      "outputs": [
        {
          "output_type": "stream",
          "name": "stdout",
          "text": [
            "[nltk_data] Downloading package punkt to /root/nltk_data...\n",
            "[nltk_data]   Unzipping tokenizers/punkt.zip.\n",
            "[nltk_data] Downloading package stopwords to /root/nltk_data...\n",
            "[nltk_data]   Unzipping corpora/stopwords.zip.\n",
            "Populating the interactive namespace from numpy and matplotlib\n"
          ]
        }
      ]
    },
    {
      "cell_type": "code",
      "metadata": {
        "id": "xdQ1-20bi9By",
        "colab": {
          "base_uri": "https://localhost:8080/",
          "height": 206
        },
        "outputId": "2a117c19-9c7c-4981-b65e-a2d0ce2bb6bf"
      },
      "source": [
        "import io\n",
        "comments_df = pd.read_csv('results.csv')\n",
        "comments_df.drop(columns = 'Unnamed: 0', inplace = True)\n",
        "comments_df.head()"
      ],
      "execution_count": 6,
      "outputs": [
        {
          "output_type": "execute_result",
          "data": {
            "text/html": [
              "<div>\n",
              "<style scoped>\n",
              "    .dataframe tbody tr th:only-of-type {\n",
              "        vertical-align: middle;\n",
              "    }\n",
              "\n",
              "    .dataframe tbody tr th {\n",
              "        vertical-align: top;\n",
              "    }\n",
              "\n",
              "    .dataframe thead th {\n",
              "        text-align: right;\n",
              "    }\n",
              "</style>\n",
              "<table border=\"1\" class=\"dataframe\">\n",
              "  <thead>\n",
              "    <tr style=\"text-align: right;\">\n",
              "      <th></th>\n",
              "      <th>Date</th>\n",
              "      <th>comments</th>\n",
              "    </tr>\n",
              "  </thead>\n",
              "  <tbody>\n",
              "    <tr>\n",
              "      <th>0</th>\n",
              "      <td>March 24, 2002 10:54PM</td>\n",
              "      <td>I personally think that with a few tweaks the ...</td>\n",
              "    </tr>\n",
              "    <tr>\n",
              "      <th>1</th>\n",
              "      <td>March 25, 2002 12:06AM</td>\n",
              "      <td>I am debating a new purchase and these two are...</td>\n",
              "    </tr>\n",
              "    <tr>\n",
              "      <th>2</th>\n",
              "      <td>March 25, 2002 10:02AM</td>\n",
              "      <td>Great handling, RWD, excellent engine and the ...</td>\n",
              "    </tr>\n",
              "    <tr>\n",
              "      <th>3</th>\n",
              "      <td>March 25, 2002 4:04PM</td>\n",
              "      <td>And no manual tranny. That may not matter to y...</td>\n",
              "    </tr>\n",
              "    <tr>\n",
              "      <th>4</th>\n",
              "      <td>March 25, 2002 5:44PM</td>\n",
              "      <td>One beauty of BMW 3 Series is that there are s...</td>\n",
              "    </tr>\n",
              "  </tbody>\n",
              "</table>\n",
              "</div>"
            ],
            "text/plain": [
              "                     Date                                           comments\n",
              "0  March 24, 2002 10:54PM  I personally think that with a few tweaks the ...\n",
              "1  March 25, 2002 12:06AM  I am debating a new purchase and these two are...\n",
              "2  March 25, 2002 10:02AM  Great handling, RWD, excellent engine and the ...\n",
              "3   March 25, 2002 4:04PM  And no manual tranny. That may not matter to y...\n",
              "4   March 25, 2002 5:44PM  One beauty of BMW 3 Series is that there are s..."
            ]
          },
          "metadata": {},
          "execution_count": 6
        }
      ]
    },
    {
      "cell_type": "code",
      "metadata": {
        "id": "f9Syfz2ni-u6"
      },
      "source": [
        "#Remove punctuation and convert to lower case\n",
        "comments_df['comments'] = comments_df['comments'].astype(str)\n",
        "comments_df['comments'] = comments_df['comments'].apply(lambda x :x.translate(str.maketrans('', '', string.punctuation)))\n",
        "comments_df['comments'] = comments_df['comments'].apply(lambda x :x.lower())"
      ],
      "execution_count": 7,
      "outputs": []
    },
    {
      "cell_type": "code",
      "metadata": {
        "id": "siiykNDxi-xQ"
      },
      "source": [
        "#stitch all the words together \n",
        "def stitch_words(comment_col):\n",
        "    corpus = \"\"\n",
        "    for words in comment_col:\n",
        "        corpus += words\n",
        "    return corpus\n",
        "corpus = stitch_words(comments_df['comments']).lower()\n",
        "\n",
        "#tokenize the words for counts \n",
        "tokens = nltk.word_tokenize(corpus)\n",
        "\n",
        "#count the word frequencies \n",
        "from collections import Counter\n",
        "word_frequencies =Counter(tokens)\n",
        "\n",
        "#find the top 100 most common\n",
        "common_100= word_frequencies.most_common(100)"
      ],
      "execution_count": 8,
      "outputs": []
    },
    {
      "cell_type": "code",
      "metadata": {
        "id": "bYTxT5rAlhvQ"
      },
      "source": [
        "#create a df to check zipf's law\n",
        "zipf_df=pd.DataFrame(common_100, columns =['words','freq'])\n",
        "\n",
        "#insert rank column \n",
        "zipf_df['rank'] = zipf_df.index + 1"
      ],
      "execution_count": 9,
      "outputs": []
    },
    {
      "cell_type": "code",
      "metadata": {
        "id": "LROYz1jY8yq3"
      },
      "source": [
        "#zipf's law\n",
        "#this is predicting the frequency \n",
        "max_freq = common_100[0][1]\n",
        "counter = 1\n",
        "zipf = []\n",
        "while len(zipf) < 100:\n",
        "    zipf.append(max_freq/counter)\n",
        "    counter += 1"
      ],
      "execution_count": 10,
      "outputs": []
    },
    {
      "cell_type": "code",
      "metadata": {
        "id": "SG43lWfi81Ai",
        "colab": {
          "base_uri": "https://localhost:8080/",
          "height": 297
        },
        "outputId": "6b880d93-38d1-4f7c-993f-291c89bbe4ed"
      },
      "source": [
        "#Rank vs frequency & zipf's law \n",
        "plot(zipf_df['rank'], zipf_df['freq'], label = 'Actual Frequency')\n",
        "plot(zipf, label = 'Zipf Predicted Frequency') \n",
        "legend(loc='best')\n",
        "xlabel('Rank')\n",
        "ylabel('Frequency')"
      ],
      "execution_count": 11,
      "outputs": [
        {
          "output_type": "execute_result",
          "data": {
            "text/plain": [
              "Text(0, 0.5, 'Frequency')"
            ]
          },
          "metadata": {},
          "execution_count": 11
        },
        {
          "output_type": "display_data",
          "data": {
            "image/png": "[encoded data removed]",
            "text/plain": [
              "<Figure size 432x288 with 1 Axes>"
            ]
          },
          "metadata": {
            "needs_background": "light"
          }
        }
      ]
    },
    {
      "cell_type": "code",
      "metadata": {
        "id": "32yF1SCe82r_",
        "colab": {
          "base_uri": "https://localhost:8080/",
          "height": 297
        },
        "outputId": "034060a7-a974-4ce3-bc2d-96a4a0986809"
      },
      "source": [
        "#Log rank vs log frequency & regression fitted line\n",
        "import numpy as np\n",
        "\n",
        "scatter(np.log(zipf_df['rank']), np.log(zipf_df['freq']), label = 'Actual Frequency')\n",
        "m,b = np.polyfit(np.log(zipf_df['rank']),np.log(zipf_df['freq']), 1) \n",
        "plot(np.log(zipf_df['rank']), m*np.log(zipf_df['rank'])+b, color='green')\n",
        "#plt.xlim(0,10)\n",
        "legend(loc='best')\n",
        "xlabel('Log of Rank')\n",
        "ylabel('Log of Frequency')"
      ],
      "execution_count": 12,
      "outputs": [
        {
          "output_type": "execute_result",
          "data": {
            "text/plain": [
              "Text(0, 0.5, 'Log of Frequency')"
            ]
          },
          "metadata": {},
          "execution_count": 12
        },
        {
          "output_type": "display_data",
          "data": {
            "image/png": "[encoded data removed]",
            "text/plain": [
              "<Figure size 432x288 with 1 Axes>"
            ]
          },
          "metadata": {
            "needs_background": "light"
          }
        }
      ]
    },
    {
      "cell_type": "markdown",
      "metadata": {
        "id": "RW9C575URnHW"
      },
      "source": [
        "As we can see above, the actual frequency-rank plot is close to a straight line. Also, the log-log plot of Zipf's law gives us a straight line. Hence, our data supports the Zipf's Law."
      ]
    },
    {
      "cell_type": "markdown",
      "metadata": {
        "id": "Xrb15W5Vbsic"
      },
      "source": [
        "### **Task B: Find the top 10 brands from frequency counts?**"
      ]
    },
    {
      "cell_type": "code",
      "metadata": {
        "id": "6GgLouF0ABtR",
        "colab": {
          "resources": {
            "http://localhost:8080/nbextensions/google.colab/files.js": {
              "data": "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",
              "ok": true,
              "headers": [
                [
                  "content-type",
                  "application/javascript"
                ]
              ],
              "status": 200,
              "status_text": ""
            }
          },
          "base_uri": "https://localhost:8080/",
          "height": 73
        },
        "outputId": "d6539769-50f6-408a-cb98-81a2566c3d3e"
      },
      "source": [
        "from google.colab import files\n",
        "uploaded = files.upload()"
      ],
      "execution_count": 13,
      "outputs": [
        {
          "output_type": "display_data",
          "data": {
            "text/html": [
              "\n",
              "     <input type=\"file\" id=\"files-a7e0d00b-3f46-4d8d-8e6d-69c94ec190a2\" name=\"files[]\" multiple disabled\n",
              "        style=\"border:none\" />\n",
              "     <output id=\"result-a7e0d00b-3f46-4d8d-8e6d-69c94ec190a2\">\n",
              "      Upload widget is only available when the cell has been executed in the\n",
              "      current browser session. Please rerun this cell to enable.\n",
              "      </output>\n",
              "      <script src=\"/nbextensions/google.colab/files.js\"></script> "
            ],
            "text/plain": [
              "<IPython.core.display.HTML object>"
            ]
          },
          "metadata": {}
        },
        {
          "output_type": "stream",
          "name": "stdout",
          "text": [
            "Saving car_models_and_brands.csv to car_models_and_brands.csv\n"
          ]
        }
      ]
    },
    {
      "cell_type": "code",
      "metadata": {
        "id": "M4YGxvx5bsui",
        "colab": {
          "base_uri": "https://localhost:8080/",
          "height": 206
        },
        "outputId": "ac0e783b-586f-4ffa-cb19-9df3f191785c"
      },
      "source": [
        "brand_df = pd.read_csv('car_models_and_brands.csv')\n",
        "brand_df.columns = ['brand','model']\n",
        "brand_df.head()"
      ],
      "execution_count": 14,
      "outputs": [
        {
          "output_type": "execute_result",
          "data": {
            "text/html": [
              "<div>\n",
              "<style scoped>\n",
              "    .dataframe tbody tr th:only-of-type {\n",
              "        vertical-align: middle;\n",
              "    }\n",
              "\n",
              "    .dataframe tbody tr th {\n",
              "        vertical-align: top;\n",
              "    }\n",
              "\n",
              "    .dataframe thead th {\n",
              "        text-align: right;\n",
              "    }\n",
              "</style>\n",
              "<table border=\"1\" class=\"dataframe\">\n",
              "  <thead>\n",
              "    <tr style=\"text-align: right;\">\n",
              "      <th></th>\n",
              "      <th>brand</th>\n",
              "      <th>model</th>\n",
              "    </tr>\n",
              "  </thead>\n",
              "  <tbody>\n",
              "    <tr>\n",
              "      <th>0</th>\n",
              "      <td>acura</td>\n",
              "      <td>integra</td>\n",
              "    </tr>\n",
              "    <tr>\n",
              "      <th>1</th>\n",
              "      <td>acura</td>\n",
              "      <td>legend</td>\n",
              "    </tr>\n",
              "    <tr>\n",
              "      <th>2</th>\n",
              "      <td>acura</td>\n",
              "      <td>vigor</td>\n",
              "    </tr>\n",
              "    <tr>\n",
              "      <th>3</th>\n",
              "      <td>acura</td>\n",
              "      <td>rlx</td>\n",
              "    </tr>\n",
              "    <tr>\n",
              "      <th>4</th>\n",
              "      <td>acura</td>\n",
              "      <td>ilx</td>\n",
              "    </tr>\n",
              "  </tbody>\n",
              "</table>\n",
              "</div>"
            ],
            "text/plain": [
              "   brand    model\n",
              "0  acura  integra\n",
              "1  acura   legend\n",
              "2  acura    vigor\n",
              "3  acura      rlx\n",
              "4  acura      ilx"
            ]
          },
          "metadata": {},
          "execution_count": 14
        }
      ]
    },
    {
      "cell_type": "code",
      "metadata": {
        "id": "-FhTbYNQ2z3F"
      },
      "source": [
        "# Clean the car_models_and_brands.csv file\n",
        "brand_df['brand'].replace('mercedes-benz', 'mercedes', inplace = True)\n",
        "brand_df['brand'].replace('mercedes benz', 'mercedes', inplace = True)\n",
        "brand_df['brand'].replace('hyundai,', 'hyundai', inplace = True)\n",
        "brand_df['brand'].replace('hyundai.', 'hyundai', inplace = True)\n",
        "brand_df['brand'].replace('kia,', 'kia', inplace = True)\n",
        "brand_df['brand'].replace('kia.', 'kia', inplace = True)\n",
        "brand_df['brand'].replace('nissan.', 'nissan', inplace = True)\n",
        "brand_df['brand'].replace('toyata', 'toyota', inplace = True)\n",
        "brand_df['brand'].replace('volkwagen', 'volkswagen', inplace = True)\n",
        "\n",
        "# dropping rows\n",
        "brand_df = brand_df[brand_df.brand != 'car']\n",
        "brand_df = brand_df[brand_df.brand != 'problem']\n",
        "brand_df = brand_df[brand_df.brand != 'sedan']"
      ],
      "execution_count": 15,
      "outputs": []
    },
    {
      "cell_type": "code",
      "metadata": {
        "id": "p3GJzcNZOIDk"
      },
      "source": [
        "#Replace models by brands\n",
        "def model_to_brand(s):\n",
        "    for i in brand_df.index.values:\n",
        "        s = s.replace(brand_df[\"model\"][i].lower(),brand_df[\"brand\"][i].lower())\n",
        "    return s\n",
        "comments_df['comments_model_replace'] = comments_df['comments'].apply(model_to_brand)"
      ],
      "execution_count": 16,
      "outputs": []
    },
    {
      "cell_type": "code",
      "metadata": {
        "id": "YbBsEKxnTMzl",
        "colab": {
          "base_uri": "https://localhost:8080/",
          "height": 579
        },
        "outputId": "ce3d7c4e-3dba-4efe-cd54-59bb23c4e36f"
      },
      "source": [
        "def split_sentence(lst):\n",
        "    return (lst.split())\n",
        "\n",
        "stop_words = stopwords.words('english') \n",
        "comments_df['comments_model_replace_words'] = comments_df['comments_model_replace'].apply(split_sentence)#.apply(set)\n",
        "\n",
        "def remove_stopwords(s):\n",
        "    return [x for x in s if not x in stop_words] \n",
        "    \n",
        "comments_df['comments_model_replace_words'] =  comments_df['comments_model_replace_words'].apply(remove_stopwords)\n",
        "comments_df"
      ],
      "execution_count": 17,
      "outputs": [
        {
          "output_type": "execute_result",
          "data": {
            "text/html": [
              "<div>\n",
              "<style scoped>\n",
              "    .dataframe tbody tr th:only-of-type {\n",
              "        vertical-align: middle;\n",
              "    }\n",
              "\n",
              "    .dataframe tbody tr th {\n",
              "        vertical-align: top;\n",
              "    }\n",
              "\n",
              "    .dataframe thead th {\n",
              "        text-align: right;\n",
              "    }\n",
              "</style>\n",
              "<table border=\"1\" class=\"dataframe\">\n",
              "  <thead>\n",
              "    <tr style=\"text-align: right;\">\n",
              "      <th></th>\n",
              "      <th>Date</th>\n",
              "      <th>comments</th>\n",
              "      <th>comments_model_replace</th>\n",
              "      <th>comments_model_replace_words</th>\n",
              "    </tr>\n",
              "  </thead>\n",
              "  <tbody>\n",
              "    <tr>\n",
              "      <th>0</th>\n",
              "      <td>March 24, 2002 10:54PM</td>\n",
              "      <td>i personally think that with a few tweaks the ...</td>\n",
              "      <td>i personally think that with a few tweaks the ...</td>\n",
              "      <td>[personally, think, tweaks, c320, could, also,...</td>\n",
              "    </tr>\n",
              "    <tr>\n",
              "      <th>1</th>\n",
              "      <td>March 25, 2002 12:06AM</td>\n",
              "      <td>i am debating a new purchase and these two are...</td>\n",
              "      <td>i am debating a new purchase and these two are...</td>\n",
              "      <td>[debating, new, purchase, two, top, ltoyota, p...</td>\n",
              "    </tr>\n",
              "    <tr>\n",
              "      <th>2</th>\n",
              "      <td>March 25, 2002 10:02AM</td>\n",
              "      <td>great handling rwd excellent engine and the be...</td>\n",
              "      <td>great handling rwd excellent engine and the be...</td>\n",
              "      <td>[great, handling, rwd, excellent, engine, best...</td>\n",
              "    </tr>\n",
              "    <tr>\n",
              "      <th>3</th>\n",
              "      <td>March 25, 2002 4:04PM</td>\n",
              "      <td>and no manual tranny that may not matter to yo...</td>\n",
              "      <td>and no manual tranny that may not matter to yo...</td>\n",
              "      <td>[manual, tranny, may, matter, certainly, matte...</td>\n",
              "    </tr>\n",
              "    <tr>\n",
              "      <th>4</th>\n",
              "      <td>March 25, 2002 5:44PM</td>\n",
              "      <td>one beauty of bmw 3 series is that there are s...</td>\n",
              "      <td>one beauty of bmw 3 series is that there are s...</td>\n",
              "      <td>[one, beauty, bmw, 3, series, many, models, ch...</td>\n",
              "    </tr>\n",
              "    <tr>\n",
              "      <th>...</th>\n",
              "      <td>...</td>\n",
              "      <td>...</td>\n",
              "      <td>...</td>\n",
              "      <td>...</td>\n",
              "    </tr>\n",
              "    <tr>\n",
              "      <th>4995</th>\n",
              "      <td>January 23, 2006 9:51PM</td>\n",
              "      <td>i agree with blueguydotcom the is350 is one fa...</td>\n",
              "      <td>i agree with blueguydotcom the is350 is one fa...</td>\n",
              "      <td>[agree, blueguydotcom, is350, one, fast, ride,...</td>\n",
              "    </tr>\n",
              "    <tr>\n",
              "      <th>4996</th>\n",
              "      <td>January 23, 2006 11:29PM</td>\n",
              "      <td>dont have any interest in aftermarket tuners t...</td>\n",
              "      <td>dont have any interest in aftermarket tuners t...</td>\n",
              "      <td>[dont, interest, aftermarket, tuners, 35, 30tt...</td>\n",
              "    </tr>\n",
              "    <tr>\n",
              "      <th>4997</th>\n",
              "      <td>January 24, 2006 7:39PM</td>\n",
              "      <td>dont have any interest in aftermarket tuners\\n...</td>\n",
              "      <td>dont have any interest in aftermarket tuners\\n...</td>\n",
              "      <td>[dont, interest, aftermarket, tuners, consider...</td>\n",
              "    </tr>\n",
              "    <tr>\n",
              "      <th>4998</th>\n",
              "      <td>January 24, 2006 7:42PM</td>\n",
              "      <td>amg i have no use forits mb afterall as for m ...</td>\n",
              "      <td>amg i have no use forits mb afterall as for m ...</td>\n",
              "      <td>[amg, use, forits, mb, afterall, actual, divis...</td>\n",
              "    </tr>\n",
              "    <tr>\n",
              "      <th>4999</th>\n",
              "      <td>January 24, 2006 10:10PM</td>\n",
              "      <td>alpina is like dinan just a tuner i want nothi...</td>\n",
              "      <td>bmw is like dinan just a tuner i want nothing ...</td>\n",
              "      <td>[bmw, like, dinan, tuner, want, nothing, compa...</td>\n",
              "    </tr>\n",
              "  </tbody>\n",
              "</table>\n",
              "<p>5000 rows × 4 columns</p>\n",
              "</div>"
            ],
            "text/plain": [
              "                          Date  ...                       comments_model_replace_words\n",
              "0       March 24, 2002 10:54PM  ...  [personally, think, tweaks, c320, could, also,...\n",
              "1       March 25, 2002 12:06AM  ...  [debating, new, purchase, two, top, ltoyota, p...\n",
              "2       March 25, 2002 10:02AM  ...  [great, handling, rwd, excellent, engine, best...\n",
              "3        March 25, 2002 4:04PM  ...  [manual, tranny, may, matter, certainly, matte...\n",
              "4        March 25, 2002 5:44PM  ...  [one, beauty, bmw, 3, series, many, models, ch...\n",
              "...                        ...  ...                                                ...\n",
              "4995   January 23, 2006 9:51PM  ...  [agree, blueguydotcom, is350, one, fast, ride,...\n",
              "4996  January 23, 2006 11:29PM  ...  [dont, interest, aftermarket, tuners, 35, 30tt...\n",
              "4997   January 24, 2006 7:39PM  ...  [dont, interest, aftermarket, tuners, consider...\n",
              "4998   January 24, 2006 7:42PM  ...  [amg, use, forits, mb, afterall, actual, divis...\n",
              "4999  January 24, 2006 10:10PM  ...  [bmw, like, dinan, tuner, want, nothing, compa...\n",
              "\n",
              "[5000 rows x 4 columns]"
            ]
          },
          "metadata": {},
          "execution_count": 17
        }
      ]
    },
    {
      "cell_type": "code",
      "metadata": {
        "id": "12DSzLNyUMUU"
      },
      "source": [
        "#Creating a combined list of all words\n",
        "all_words = []\n",
        "for i in range(len(comments_df)):\n",
        "    all_words+=comments_df['comments_model_replace_words'][i]\n",
        "from nltk import FreqDist\n",
        "word_freq = nltk.FreqDist(all_words)"
      ],
      "execution_count": 18,
      "outputs": []
    },
    {
      "cell_type": "code",
      "metadata": {
        "id": "Yl4F3QiMVLzS",
        "colab": {
          "base_uri": "https://localhost:8080/"
        },
        "outputId": "eae6100b-e025-4844-8794-e8f002d1a62c"
      },
      "source": [
        "#Creating a list of all brand names\n",
        "brand_names = brand_df['brand'].unique()\n",
        "brand_names"
      ],
      "execution_count": 19,
      "outputs": [
        {
          "output_type": "execute_result",
          "data": {
            "text/plain": [
              "array(['acura', 'audi', 'bmw', 'buick', 'cadillac', 'chevrolet',\n",
              "       'chrysler', 'dodge', 'ford', 'honda', 'hyndai kia', 'hyundai',\n",
              "       'infiniti', 'kia', 'lincoln', 'mazda', 'mercedes', 'mercury',\n",
              "       'mitsubishi', 'nissan', 'pontiac', 'saturn', 'seat', 'subaru',\n",
              "       'suzuki', 'toyota', 'volkswagen', 'volvo'], dtype=object)"
            ]
          },
          "metadata": {},
          "execution_count": 19
        }
      ]
    },
    {
      "cell_type": "code",
      "metadata": {
        "id": "TGae2FW8VzqT"
      },
      "source": [
        "#Filtering counts for brands\n",
        "brand_counts = []\n",
        "for key,item in word_freq.most_common():\n",
        "    if key in brand_names:\n",
        "        temp = (key,item)\n",
        "        brand_counts.append(temp)"
      ],
      "execution_count": 20,
      "outputs": []
    },
    {
      "cell_type": "code",
      "metadata": {
        "id": "_P0_hLrzV-Eu"
      },
      "source": [
        "brands_sorted_df = pd.DataFrame(brand_counts, columns = ['Brand','Freq'])\n",
        "#brands_sorted_df.drop([0, 2, 9, 10], axis = 0, inplace =True)\n"
      ],
      "execution_count": 21,
      "outputs": []
    },
    {
      "cell_type": "markdown",
      "metadata": {
        "id": "Ofo1GVfwZ4l8"
      },
      "source": [
        "#### **2. Which 10 brands you chose – provide the frequency table**"
      ]
    },
    {
      "cell_type": "code",
      "metadata": {
        "id": "dGfstAtJabNB",
        "colab": {
          "base_uri": "https://localhost:8080/",
          "height": 363
        },
        "outputId": "f9b6f93f-39a0-48fe-94cb-32fb637d11d6"
      },
      "source": [
        "brands_sorted_df[:10]"
      ],
      "execution_count": 22,
      "outputs": [
        {
          "output_type": "execute_result",
          "data": {
            "text/html": [
              "<div>\n",
              "<style scoped>\n",
              "    .dataframe tbody tr th:only-of-type {\n",
              "        vertical-align: middle;\n",
              "    }\n",
              "\n",
              "    .dataframe tbody tr th {\n",
              "        vertical-align: top;\n",
              "    }\n",
              "\n",
              "    .dataframe thead th {\n",
              "        text-align: right;\n",
              "    }\n",
              "</style>\n",
              "<table border=\"1\" class=\"dataframe\">\n",
              "  <thead>\n",
              "    <tr style=\"text-align: right;\">\n",
              "      <th></th>\n",
              "      <th>Brand</th>\n",
              "      <th>Freq</th>\n",
              "    </tr>\n",
              "  </thead>\n",
              "  <tbody>\n",
              "    <tr>\n",
              "      <th>0</th>\n",
              "      <td>bmw</td>\n",
              "      <td>2581</td>\n",
              "    </tr>\n",
              "    <tr>\n",
              "      <th>1</th>\n",
              "      <td>acura</td>\n",
              "      <td>875</td>\n",
              "    </tr>\n",
              "    <tr>\n",
              "      <th>2</th>\n",
              "      <td>audi</td>\n",
              "      <td>844</td>\n",
              "    </tr>\n",
              "    <tr>\n",
              "      <th>3</th>\n",
              "      <td>honda</td>\n",
              "      <td>665</td>\n",
              "    </tr>\n",
              "    <tr>\n",
              "      <th>4</th>\n",
              "      <td>infiniti</td>\n",
              "      <td>550</td>\n",
              "    </tr>\n",
              "    <tr>\n",
              "      <th>5</th>\n",
              "      <td>nissan</td>\n",
              "      <td>501</td>\n",
              "    </tr>\n",
              "    <tr>\n",
              "      <th>6</th>\n",
              "      <td>toyota</td>\n",
              "      <td>438</td>\n",
              "    </tr>\n",
              "    <tr>\n",
              "      <th>7</th>\n",
              "      <td>seat</td>\n",
              "      <td>408</td>\n",
              "    </tr>\n",
              "    <tr>\n",
              "      <th>8</th>\n",
              "      <td>subaru</td>\n",
              "      <td>373</td>\n",
              "    </tr>\n",
              "    <tr>\n",
              "      <th>9</th>\n",
              "      <td>volkswagen</td>\n",
              "      <td>309</td>\n",
              "    </tr>\n",
              "  </tbody>\n",
              "</table>\n",
              "</div>"
            ],
            "text/plain": [
              "        Brand  Freq\n",
              "0         bmw  2581\n",
              "1       acura   875\n",
              "2        audi   844\n",
              "3       honda   665\n",
              "4    infiniti   550\n",
              "5      nissan   501\n",
              "6      toyota   438\n",
              "7        seat   408\n",
              "8      subaru   373\n",
              "9  volkswagen   309"
            ]
          },
          "metadata": {},
          "execution_count": 22
        }
      ]
    },
    {
      "cell_type": "markdown",
      "metadata": {
        "id": "WqwjmZxmbs_f"
      },
      "source": [
        "### **Task C: Calculate lift ratios for associations between the top-10 brands identified in Task B**"
      ]
    },
    {
      "cell_type": "code",
      "metadata": {
        "id": "cOtFn4OxhsVX",
        "colab": {
          "base_uri": "https://localhost:8080/"
        },
        "outputId": "6ffbb24c-9d9b-4bd3-b4d2-c563bddd56d3"
      },
      "source": [
        "top_brands = list(brands_sorted_df['Brand'][:10])\n",
        "top_brands"
      ],
      "execution_count": 23,
      "outputs": [
        {
          "output_type": "execute_result",
          "data": {
            "text/plain": [
              "['bmw',\n",
              " 'acura',\n",
              " 'audi',\n",
              " 'honda',\n",
              " 'infiniti',\n",
              " 'nissan',\n",
              " 'toyota',\n",
              " 'seat',\n",
              " 'subaru',\n",
              " 'volkswagen']"
            ]
          },
          "metadata": {},
          "execution_count": 23
        }
      ]
    },
    {
      "cell_type": "code",
      "metadata": {
        "id": "Ryd9iw2ZhpDW",
        "colab": {
          "base_uri": "https://localhost:8080/",
          "height": 394
        },
        "outputId": "b36443cf-98a5-4e57-d37b-7911701ca791"
      },
      "source": [
        "lifts_df = pd.DataFrame(columns = ['A', 'B', 'Lift'])\n",
        "for i in range(10):\n",
        "    for j in range(10):\n",
        "        if j != i:\n",
        "            top_brands[i]\n",
        "            top_brands[j]\n",
        "            na = 0\n",
        "            nb = 0\n",
        "            nab = 0\n",
        "            for k in comments_df['comments_model_replace_words']:\n",
        "                if top_brands[i] in k:\n",
        "                    na += 1\n",
        "                    if top_brands[j] in k:\n",
        "                        nab += 1\n",
        "                if top_brands[j] in k:\n",
        "                    nb += 1\n",
        "            lifts = ((nab * 5000) / (na * nb))\n",
        "            lifts_df.loc[len(lifts_df)] = [top_brands[i], top_brands[j], lifts]\n",
        "            \n",
        "#lifts_df = lifts_df.append({'A': 'volvo', 'B': 'bmw', 'Lift': np.nan},ignore_index=True)\n",
        "lift_matrix = lifts_df.pivot(index='A', columns='B', values='Lift')\n",
        "lift_matrix\n",
        "\n",
        "#a = pd.crosstab(lifts_df['A'], lifts_df['B'])\n",
        "#a"
      ],
      "execution_count": 24,
      "outputs": [
        {
          "output_type": "execute_result",
          "data": {
            "text/html": [
              "<div>\n",
              "<style scoped>\n",
              "    .dataframe tbody tr th:only-of-type {\n",
              "        vertical-align: middle;\n",
              "    }\n",
              "\n",
              "    .dataframe tbody tr th {\n",
              "        vertical-align: top;\n",
              "    }\n",
              "\n",
              "    .dataframe thead th {\n",
              "        text-align: right;\n",
              "    }\n",
              "</style>\n",
              "<table border=\"1\" class=\"dataframe\">\n",
              "  <thead>\n",
              "    <tr style=\"text-align: right;\">\n",
              "      <th>B</th>\n",
              "      <th>acura</th>\n",
              "      <th>audi</th>\n",
              "      <th>bmw</th>\n",
              "      <th>honda</th>\n",
              "      <th>infiniti</th>\n",
              "      <th>nissan</th>\n",
              "      <th>seat</th>\n",
              "      <th>subaru</th>\n",
              "      <th>toyota</th>\n",
              "      <th>volkswagen</th>\n",
              "    </tr>\n",
              "    <tr>\n",
              "      <th>A</th>\n",
              "      <th></th>\n",
              "      <th></th>\n",
              "      <th></th>\n",
              "      <th></th>\n",
              "      <th></th>\n",
              "      <th></th>\n",
              "      <th></th>\n",
              "      <th></th>\n",
              "      <th></th>\n",
              "      <th></th>\n",
              "    </tr>\n",
              "  </thead>\n",
              "  <tbody>\n",
              "    <tr>\n",
              "      <th>acura</th>\n",
              "      <td>NaN</td>\n",
              "      <td>2.223950</td>\n",
              "      <td>1.528881</td>\n",
              "      <td>2.560164</td>\n",
              "      <td>3.056862</td>\n",
              "      <td>2.262470</td>\n",
              "      <td>1.411114</td>\n",
              "      <td>2.153984</td>\n",
              "      <td>1.792115</td>\n",
              "      <td>1.781634</td>\n",
              "    </tr>\n",
              "    <tr>\n",
              "      <th>audi</th>\n",
              "      <td>2.223950</td>\n",
              "      <td>NaN</td>\n",
              "      <td>1.716063</td>\n",
              "      <td>1.382579</td>\n",
              "      <td>2.761044</td>\n",
              "      <td>1.561062</td>\n",
              "      <td>2.134522</td>\n",
              "      <td>1.795644</td>\n",
              "      <td>1.223943</td>\n",
              "      <td>4.650180</td>\n",
              "    </tr>\n",
              "    <tr>\n",
              "      <th>bmw</th>\n",
              "      <td>1.528881</td>\n",
              "      <td>1.716063</td>\n",
              "      <td>NaN</td>\n",
              "      <td>1.276937</td>\n",
              "      <td>2.028468</td>\n",
              "      <td>1.256938</td>\n",
              "      <td>1.533330</td>\n",
              "      <td>1.212623</td>\n",
              "      <td>1.448354</td>\n",
              "      <td>1.561768</td>\n",
              "    </tr>\n",
              "    <tr>\n",
              "      <th>honda</th>\n",
              "      <td>2.560164</td>\n",
              "      <td>1.382579</td>\n",
              "      <td>1.276937</td>\n",
              "      <td>NaN</td>\n",
              "      <td>1.402713</td>\n",
              "      <td>3.968038</td>\n",
              "      <td>1.475225</td>\n",
              "      <td>1.519996</td>\n",
              "      <td>3.903201</td>\n",
              "      <td>2.122793</td>\n",
              "    </tr>\n",
              "    <tr>\n",
              "      <th>infiniti</th>\n",
              "      <td>3.056862</td>\n",
              "      <td>2.761044</td>\n",
              "      <td>2.028468</td>\n",
              "      <td>1.402713</td>\n",
              "      <td>NaN</td>\n",
              "      <td>2.508998</td>\n",
              "      <td>1.742946</td>\n",
              "      <td>1.815405</td>\n",
              "      <td>1.116071</td>\n",
              "      <td>2.208212</td>\n",
              "    </tr>\n",
              "    <tr>\n",
              "      <th>nissan</th>\n",
              "      <td>2.262470</td>\n",
              "      <td>1.561062</td>\n",
              "      <td>1.256938</td>\n",
              "      <td>3.968038</td>\n",
              "      <td>2.508998</td>\n",
              "      <td>NaN</td>\n",
              "      <td>1.438774</td>\n",
              "      <td>1.517378</td>\n",
              "      <td>3.796868</td>\n",
              "      <td>2.817120</td>\n",
              "    </tr>\n",
              "    <tr>\n",
              "      <th>seat</th>\n",
              "      <td>1.411114</td>\n",
              "      <td>2.134522</td>\n",
              "      <td>1.533330</td>\n",
              "      <td>1.475225</td>\n",
              "      <td>1.742946</td>\n",
              "      <td>1.438774</td>\n",
              "      <td>NaN</td>\n",
              "      <td>1.324955</td>\n",
              "      <td>1.874766</td>\n",
              "      <td>2.532578</td>\n",
              "    </tr>\n",
              "    <tr>\n",
              "      <th>subaru</th>\n",
              "      <td>2.153984</td>\n",
              "      <td>1.795644</td>\n",
              "      <td>1.212623</td>\n",
              "      <td>1.519996</td>\n",
              "      <td>1.815405</td>\n",
              "      <td>1.517378</td>\n",
              "      <td>1.324955</td>\n",
              "      <td>NaN</td>\n",
              "      <td>1.373626</td>\n",
              "      <td>2.530364</td>\n",
              "    </tr>\n",
              "    <tr>\n",
              "      <th>toyota</th>\n",
              "      <td>1.792115</td>\n",
              "      <td>1.223943</td>\n",
              "      <td>1.448354</td>\n",
              "      <td>3.903201</td>\n",
              "      <td>1.116071</td>\n",
              "      <td>3.796868</td>\n",
              "      <td>1.874766</td>\n",
              "      <td>1.373626</td>\n",
              "      <td>NaN</td>\n",
              "      <td>2.134967</td>\n",
              "    </tr>\n",
              "    <tr>\n",
              "      <th>volkswagen</th>\n",
              "      <td>1.781634</td>\n",
              "      <td>4.650180</td>\n",
              "      <td>1.561768</td>\n",
              "      <td>2.122793</td>\n",
              "      <td>2.208212</td>\n",
              "      <td>2.817120</td>\n",
              "      <td>2.532578</td>\n",
              "      <td>2.530364</td>\n",
              "      <td>2.134967</td>\n",
              "      <td>NaN</td>\n",
              "    </tr>\n",
              "  </tbody>\n",
              "</table>\n",
              "</div>"
            ],
            "text/plain": [
              "B              acura      audi       bmw  ...    subaru    toyota  volkswagen\n",
              "A                                         ...                                \n",
              "acura            NaN  2.223950  1.528881  ...  2.153984  1.792115    1.781634\n",
              "audi        2.223950       NaN  1.716063  ...  1.795644  1.223943    4.650180\n",
              "bmw         1.528881  1.716063       NaN  ...  1.212623  1.448354    1.561768\n",
              "honda       2.560164  1.382579  1.276937  ...  1.519996  3.903201    2.122793\n",
              "infiniti    3.056862  2.761044  2.028468  ...  1.815405  1.116071    2.208212\n",
              "nissan      2.262470  1.561062  1.256938  ...  1.517378  3.796868    2.817120\n",
              "seat        1.411114  2.134522  1.533330  ...  1.324955  1.874766    2.532578\n",
              "subaru      2.153984  1.795644  1.212623  ...       NaN  1.373626    2.530364\n",
              "toyota      1.792115  1.223943  1.448354  ...  1.373626       NaN    2.134967\n",
              "volkswagen  1.781634  4.650180  1.561768  ...  2.530364  2.134967         NaN\n",
              "\n",
              "[10 rows x 10 columns]"
            ]
          },
          "metadata": {},
          "execution_count": 24
        }
      ]
    },
    {
      "cell_type": "markdown",
      "metadata": {
        "id": "-K34QfIs2DiE"
      },
      "source": [
        "**Heat Map of the Association/Lift values between the Top 10 Brands**"
      ]
    },
    {
      "cell_type": "code",
      "metadata": {
        "id": "pamkP1sTsHFS",
        "colab": {
          "base_uri": "https://localhost:8080/",
          "height": 515
        },
        "outputId": "c2036098-6732-49db-c598-fcb5ba5901fa"
      },
      "source": [
        "import seaborn as sns\n",
        "plt.figure(figsize=(20,8))\n",
        "\n",
        "\n",
        "sns.heatmap(lift_matrix.fillna(0),\n",
        "            annot=True,mask=np.triu(lift_matrix))"
      ],
      "execution_count": 25,
      "outputs": [
        {
          "output_type": "execute_result",
          "data": {
            "text/plain": [
              "<matplotlib.axes._subplots.AxesSubplot at 0x7f27af714a10>"
            ]
          },
          "metadata": {},
          "execution_count": 25
        },
        {
          "output_type": "display_data",
          "data": {
            "image/png": "[encoded data removed]",
            "text/plain": [
              "<Figure size 1440x576 with 2 Axes>"
            ]
          },
          "metadata": {
            "needs_background": "light"
          }
        }
      ]
    },
    {
      "cell_type": "markdown",
      "metadata": {
        "id": "pEolS6uvbwf2"
      },
      "source": [
        "### **Task D: Multi-Dimensional Scaling Map**"
      ]
    },
    {
      "cell_type": "code",
      "metadata": {
        "id": "QWIqvIjWbwvd"
      },
      "source": [
        "import matplotlib.pyplot as plt\n",
        "from sklearn.manifold import MDS\n",
        "from sklearn.preprocessing import MinMaxScaler"
      ],
      "execution_count": 26,
      "outputs": []
    },
    {
      "cell_type": "code",
      "metadata": {
        "id": "5L6jqNPdjhyQ",
        "colab": {
          "base_uri": "https://localhost:8080/",
          "height": 394
        },
        "outputId": "12421130-5628-4a61-ab2e-c0b097bfad2d"
      },
      "source": [
        "ds_matrix = lifts_df.pivot(index='A', columns='B', values='Lift').apply(lambda x: 1/x).fillna(0)\n",
        "ds_matrix"
      ],
      "execution_count": 27,
      "outputs": [
        {
          "output_type": "execute_result",
          "data": {
            "text/html": [
              "<div>\n",
              "<style scoped>\n",
              "    .dataframe tbody tr th:only-of-type {\n",
              "        vertical-align: middle;\n",
              "    }\n",
              "\n",
              "    .dataframe tbody tr th {\n",
              "        vertical-align: top;\n",
              "    }\n",
              "\n",
              "    .dataframe thead th {\n",
              "        text-align: right;\n",
              "    }\n",
              "</style>\n",
              "<table border=\"1\" class=\"dataframe\">\n",
              "  <thead>\n",
              "    <tr style=\"text-align: right;\">\n",
              "      <th>B</th>\n",
              "      <th>acura</th>\n",
              "      <th>audi</th>\n",
              "      <th>bmw</th>\n",
              "      <th>honda</th>\n",
              "      <th>infiniti</th>\n",
              "      <th>nissan</th>\n",
              "      <th>seat</th>\n",
              "      <th>subaru</th>\n",
              "      <th>toyota</th>\n",
              "      <th>volkswagen</th>\n",
              "    </tr>\n",
              "    <tr>\n",
              "      <th>A</th>\n",
              "      <th></th>\n",
              "      <th></th>\n",
              "      <th></th>\n",
              "      <th></th>\n",
              "      <th></th>\n",
              "      <th></th>\n",
              "      <th></th>\n",
              "      <th></th>\n",
              "      <th></th>\n",
              "      <th></th>\n",
              "    </tr>\n",
              "  </thead>\n",
              "  <tbody>\n",
              "    <tr>\n",
              "      <th>acura</th>\n",
              "      <td>0.000000</td>\n",
              "      <td>0.449650</td>\n",
              "      <td>0.654073</td>\n",
              "      <td>0.390600</td>\n",
              "      <td>0.327133</td>\n",
              "      <td>0.441995</td>\n",
              "      <td>0.708660</td>\n",
              "      <td>0.464256</td>\n",
              "      <td>0.558000</td>\n",
              "      <td>0.561282</td>\n",
              "    </tr>\n",
              "    <tr>\n",
              "      <th>audi</th>\n",
              "      <td>0.449650</td>\n",
              "      <td>0.000000</td>\n",
              "      <td>0.582729</td>\n",
              "      <td>0.723286</td>\n",
              "      <td>0.362182</td>\n",
              "      <td>0.640590</td>\n",
              "      <td>0.468489</td>\n",
              "      <td>0.556903</td>\n",
              "      <td>0.817031</td>\n",
              "      <td>0.215045</td>\n",
              "    </tr>\n",
              "    <tr>\n",
              "      <th>bmw</th>\n",
              "      <td>0.654073</td>\n",
              "      <td>0.582729</td>\n",
              "      <td>0.000000</td>\n",
              "      <td>0.783124</td>\n",
              "      <td>0.492983</td>\n",
              "      <td>0.795584</td>\n",
              "      <td>0.652175</td>\n",
              "      <td>0.824659</td>\n",
              "      <td>0.690439</td>\n",
              "      <td>0.640300</td>\n",
              "    </tr>\n",
              "    <tr>\n",
              "      <th>honda</th>\n",
              "      <td>0.390600</td>\n",
              "      <td>0.723286</td>\n",
              "      <td>0.783124</td>\n",
              "      <td>0.000000</td>\n",
              "      <td>0.712904</td>\n",
              "      <td>0.252014</td>\n",
              "      <td>0.677863</td>\n",
              "      <td>0.657896</td>\n",
              "      <td>0.256200</td>\n",
              "      <td>0.471077</td>\n",
              "    </tr>\n",
              "    <tr>\n",
              "      <th>infiniti</th>\n",
              "      <td>0.327133</td>\n",
              "      <td>0.362182</td>\n",
              "      <td>0.492983</td>\n",
              "      <td>0.712904</td>\n",
              "      <td>0.000000</td>\n",
              "      <td>0.398566</td>\n",
              "      <td>0.573741</td>\n",
              "      <td>0.550841</td>\n",
              "      <td>0.896000</td>\n",
              "      <td>0.452855</td>\n",
              "    </tr>\n",
              "    <tr>\n",
              "      <th>nissan</th>\n",
              "      <td>0.441995</td>\n",
              "      <td>0.640590</td>\n",
              "      <td>0.795584</td>\n",
              "      <td>0.252014</td>\n",
              "      <td>0.398566</td>\n",
              "      <td>0.000000</td>\n",
              "      <td>0.695036</td>\n",
              "      <td>0.659032</td>\n",
              "      <td>0.263375</td>\n",
              "      <td>0.354972</td>\n",
              "    </tr>\n",
              "    <tr>\n",
              "      <th>seat</th>\n",
              "      <td>0.708660</td>\n",
              "      <td>0.468489</td>\n",
              "      <td>0.652175</td>\n",
              "      <td>0.677863</td>\n",
              "      <td>0.573741</td>\n",
              "      <td>0.695036</td>\n",
              "      <td>0.000000</td>\n",
              "      <td>0.754743</td>\n",
              "      <td>0.533400</td>\n",
              "      <td>0.394855</td>\n",
              "    </tr>\n",
              "    <tr>\n",
              "      <th>subaru</th>\n",
              "      <td>0.464256</td>\n",
              "      <td>0.556903</td>\n",
              "      <td>0.824659</td>\n",
              "      <td>0.657896</td>\n",
              "      <td>0.550841</td>\n",
              "      <td>0.659032</td>\n",
              "      <td>0.754743</td>\n",
              "      <td>0.000000</td>\n",
              "      <td>0.728000</td>\n",
              "      <td>0.395200</td>\n",
              "    </tr>\n",
              "    <tr>\n",
              "      <th>toyota</th>\n",
              "      <td>0.558000</td>\n",
              "      <td>0.817031</td>\n",
              "      <td>0.690439</td>\n",
              "      <td>0.256200</td>\n",
              "      <td>0.896000</td>\n",
              "      <td>0.263375</td>\n",
              "      <td>0.533400</td>\n",
              "      <td>0.728000</td>\n",
              "      <td>0.000000</td>\n",
              "      <td>0.468391</td>\n",
              "    </tr>\n",
              "    <tr>\n",
              "      <th>volkswagen</th>\n",
              "      <td>0.561282</td>\n",
              "      <td>0.215045</td>\n",
              "      <td>0.640300</td>\n",
              "      <td>0.471077</td>\n",
              "      <td>0.452855</td>\n",
              "      <td>0.354972</td>\n",
              "      <td>0.394855</td>\n",
              "      <td>0.395200</td>\n",
              "      <td>0.468391</td>\n",
              "      <td>0.000000</td>\n",
              "    </tr>\n",
              "  </tbody>\n",
              "</table>\n",
              "</div>"
            ],
            "text/plain": [
              "B              acura      audi       bmw  ...    subaru    toyota  volkswagen\n",
              "A                                         ...                                \n",
              "acura       0.000000  0.449650  0.654073  ...  0.464256  0.558000    0.561282\n",
              "audi        0.449650  0.000000  0.582729  ...  0.556903  0.817031    0.215045\n",
              "bmw         0.654073  0.582729  0.000000  ...  0.824659  0.690439    0.640300\n",
              "honda       0.390600  0.723286  0.783124  ...  0.657896  0.256200    0.471077\n",
              "infiniti    0.327133  0.362182  0.492983  ...  0.550841  0.896000    0.452855\n",
              "nissan      0.441995  0.640590  0.795584  ...  0.659032  0.263375    0.354972\n",
              "seat        0.708660  0.468489  0.652175  ...  0.754743  0.533400    0.394855\n",
              "subaru      0.464256  0.556903  0.824659  ...  0.000000  0.728000    0.395200\n",
              "toyota      0.558000  0.817031  0.690439  ...  0.728000  0.000000    0.468391\n",
              "volkswagen  0.561282  0.215045  0.640300  ...  0.395200  0.468391    0.000000\n",
              "\n",
              "[10 rows x 10 columns]"
            ]
          },
          "metadata": {},
          "execution_count": 27
        }
      ]
    },
    {
      "cell_type": "code",
      "metadata": {
        "id": "bkxf48bKjh1H",
        "colab": {
          "base_uri": "https://localhost:8080/",
          "height": 509
        },
        "outputId": "8eb7acb3-6bc3-4100-d249-85f71ecf5f09"
      },
      "source": [
        "X = ds_matrix\n",
        "scaler = MinMaxScaler()\n",
        "X_scaled = scaler.fit_transform(X)\n",
        "mds = MDS(2, random_state=0)\n",
        "X2 = mds.fit_transform(X_scaled)\n",
        "\n",
        "x = []\n",
        "y = []\n",
        "colors = ['blue', 'orange', 'green', 'red', 'purple', 'magenta', 'black', 'cyan', 'pink', 'yellow']\n",
        "plt.rcParams['figure.figsize'] = [7, 7]\n",
        "plt.rc('font', size=14)\n",
        "for i in range(10):\n",
        "    x.append(X2[i][0])\n",
        "    y.append(X2[i][1])\n",
        "    plt.scatter(x,y)\n",
        "    plt.annotate(X.index[i], xy=(X2[i][0], X2[i][1]))\n",
        "\n",
        "plt.legend()\n",
        "plt.show()"
      ],
      "execution_count": 28,
      "outputs": [
        {
          "output_type": "stream",
          "name": "stderr",
          "text": [
            "/usr/local/lib/python3.7/dist-packages/sklearn/manifold/_mds.py:419: UserWarning: The MDS API has changed. ``fit`` now constructs an dissimilarity matrix from data. To use a custom dissimilarity matrix, set ``dissimilarity='precomputed'``.\n",
            "  warnings.warn(\"The MDS API has changed. ``fit`` now constructs an\"\n",
            "No handles with labels found to put in legend.\n"
          ]
        },
        {
          "output_type": "display_data",
          "data": {
            "image/png": "[encoded data removed]",
            "text/plain": [
              "<Figure size 504x504 with 1 Axes>"
            ]
          },
          "metadata": {
            "needs_background": "light"
          }
        }
      ]
    },
    {
      "cell_type": "markdown",
      "metadata": {
        "id": "Qw46iZB2byIG"
      },
      "source": [
        "### **Task E: Insights that can be offered to the client from analyses in Tasks C and D**"
      ]
    },
    {
      "cell_type": "markdown",
      "metadata": {
        "id": "7SI0jY6uGcwC"
      },
      "source": [
        "We can see from the Lift Matrix in Task C that there are high associations between: Toyota and Honda, Toyota and Nissan, Volkswagen and Audi, Honda and Nissan, Acura and Infiniti.\n",
        "\n",
        "We can also see from the Lift Matrix in Task C that there are low associations between: Audi and Toyota, Infiniti and Toyota, Seat and Subaru, BMW and Toyota, Subaru and BMW.\n",
        "\n",
        "From Task C, a noteworthy observation is that Audi has a high association with Volkswagen. However, our clients may not have considered Volkswagen to be as luxurious as Audi. This could suggest luxury car brand managers to not only consider other luxury brands as competitors, but to also consider a wider range of brands as competitors.\n",
        "\n",
        "From both Tasks C and D, we can analyze that BMW has low associations with the other brands in the top 10 list, but has the highest frequency. This could mean that people in the forum make less comparisons against BMW. An insight that can be offered to the client here is that BMW has relatively less competition with the other brands in the top 10. However, since we are only looking at the top 10 brands, we could deduce that BMW's potential competitor might not be included in the top 10 list.\n",
        "\n",
        "From the MDS plot in Task D, we can see that Nissan, Honda, and Toyota are close together, forming a cluster. We can offer to the client that there is a possibility of switching behaviour amongst the brands in the cluster. Not only this, the MDS plot shows a cluster with Subaru and Acura, and another cluster with Audi, Infiniti, and BMW. We can infer from the clusterings that Audi, Infiniti, and BMW may be considered to be relatively more luxurious compared to the other clusters."
      ]
    },
    {
      "cell_type": "markdown",
      "metadata": {
        "id": "mtIWGHgDbzfN"
      },
      "source": [
        "### **Task F: Five most frequently mentioned attributes or features of cars in the discussions**"
      ]
    },
    {
      "cell_type": "code",
      "metadata": {
        "id": "_2h9jEsRFw-W",
        "colab": {
          "base_uri": "https://localhost:8080/"
        },
        "outputId": "8547a970-13a2-4bae-d0fb-cbf73f38795d"
      },
      "source": [
        "words =[]\n",
        "for i in range(len(comments_df['comments_model_replace_words'] )):\n",
        "          words = words + comments_df['comments_model_replace_words'][i]\n",
        "words_frq = nltk.FreqDist(words)\n",
        "words_frq.most_common(70)"
      ],
      "execution_count": 29,
      "outputs": [
        {
          "output_type": "execute_result",
          "data": {
            "text/plain": [
              "[('car', 3812),\n",
              " ('bmw', 2581),\n",
              " ('cars', 2027),\n",
              " ('like', 1789),\n",
              " ('tl', 1780),\n",
              " ('one', 1546),\n",
              " ('would', 1427),\n",
              " ('dont', 1388),\n",
              " ('pontiac5', 1328),\n",
              " ('get', 1294),\n",
              " ('think', 1215),\n",
              " ('better', 979),\n",
              " ('drive', 967),\n",
              " ('im', 961),\n",
              " ('3', 937),\n",
              " ('performance', 927),\n",
              " ('new', 918),\n",
              " ('much', 914),\n",
              " ('acura', 875),\n",
              " ('even', 854),\n",
              " ('people', 849),\n",
              " ('audi', 844),\n",
              " ('good', 829),\n",
              " ('well', 770),\n",
              " ('really', 764),\n",
              " ('know', 741),\n",
              " ('driving', 739),\n",
              " ('best', 727),\n",
              " ('also', 724),\n",
              " ('want', 706),\n",
              " ('sedan', 703),\n",
              " ('luxury', 701),\n",
              " ('rwd', 678),\n",
              " ('honda', 665),\n",
              " ('say', 638),\n",
              " ('still', 630),\n",
              " ('330i', 618),\n",
              " ('engine', 615),\n",
              " ('time', 593),\n",
              " ('way', 577),\n",
              " ('series', 573),\n",
              " ('make', 566),\n",
              " ('fwd', 560),\n",
              " ('see', 555),\n",
              " ('thats', 551),\n",
              " ('price', 550),\n",
              " ('infiniti', 550),\n",
              " ('buy', 535),\n",
              " ('awd', 529),\n",
              " ('great', 524),\n",
              " ('go', 524),\n",
              " ('many', 511),\n",
              " ('handling', 509),\n",
              " ('interior', 504),\n",
              " ('test', 504),\n",
              " ('could', 502),\n",
              " ('power', 501),\n",
              " ('nissan', 501),\n",
              " ('g', 498),\n",
              " ('hp', 492),\n",
              " ('manual', 482),\n",
              " ('going', 479),\n",
              " ('lexus', 476),\n",
              " ('years', 475),\n",
              " ('look', 469),\n",
              " ('back', 468),\n",
              " ('ive', 463),\n",
              " ('doesnt', 454),\n",
              " ('less', 454),\n",
              " ('tires', 447)]"
            ]
          },
          "metadata": {},
          "execution_count": 29
        }
      ]
    },
    {
      "cell_type": "markdown",
      "metadata": {
        "id": "VkhbuCYCF9DM"
      },
      "source": [
        "**We manually picked top 5 features: performance, luxury, engine, price, handling.**"
      ]
    },
    {
      "cell_type": "code",
      "metadata": {
        "id": "WR0hWR57F1s8",
        "colab": {
          "base_uri": "https://localhost:8080/"
        },
        "outputId": "804086ac-8cb5-42ff-de62-e3d14efcddca"
      },
      "source": [
        "best_5features = np.array(['performance', 'luxury', 'engine', 'price', 'handling'])\n",
        "best_5features"
      ],
      "execution_count": 30,
      "outputs": [
        {
          "output_type": "execute_result",
          "data": {
            "text/plain": [
              "array(['performance', 'luxury', 'engine', 'price', 'handling'],\n",
              "      dtype='<U11')"
            ]
          },
          "metadata": {},
          "execution_count": 30
        }
      ]
    },
    {
      "cell_type": "code",
      "metadata": {
        "id": "YEptYxqvbzo-",
        "colab": {
          "base_uri": "https://localhost:8080/",
          "height": 394
        },
        "outputId": "28948801-a23c-4381-f0a9-00b214c0a568"
      },
      "source": [
        "features_lift = pd.DataFrame(columns = ['Brand', 'Feature', 'Lift'])\n",
        "for i in range(10):\n",
        "    for j in range(5):\n",
        "        top_brands[i]\n",
        "        best_5features[j]\n",
        "        na2 = 0\n",
        "        nb2 = 0\n",
        "        nab2 = 0\n",
        "        for k in comments_df['comments_model_replace_words']:\n",
        "            if top_brands[i] in k:\n",
        "                na2 += 1\n",
        "                if best_5features[j] in k:\n",
        "                    nab2 += 1\n",
        "            if best_5features[j] in k:\n",
        "                nb2 += 1\n",
        "        lifts2 = ((nab2 * 5000) / (na2 * nb2))\n",
        "        features_lift.loc[len(features_lift)] = [top_brands[i], best_5features[j], lifts2]\n",
        "features_lift = features_lift.pivot(index='Brand', columns='Feature', values='Lift')\n",
        "features_lift"
      ],
      "execution_count": 31,
      "outputs": [
        {
          "output_type": "execute_result",
          "data": {
            "text/html": [
              "<div>\n",
              "<style scoped>\n",
              "    .dataframe tbody tr th:only-of-type {\n",
              "        vertical-align: middle;\n",
              "    }\n",
              "\n",
              "    .dataframe tbody tr th {\n",
              "        vertical-align: top;\n",
              "    }\n",
              "\n",
              "    .dataframe thead th {\n",
              "        text-align: right;\n",
              "    }\n",
              "</style>\n",
              "<table border=\"1\" class=\"dataframe\">\n",
              "  <thead>\n",
              "    <tr style=\"text-align: right;\">\n",
              "      <th>Feature</th>\n",
              "      <th>engine</th>\n",
              "      <th>handling</th>\n",
              "      <th>luxury</th>\n",
              "      <th>performance</th>\n",
              "      <th>price</th>\n",
              "    </tr>\n",
              "    <tr>\n",
              "      <th>Brand</th>\n",
              "      <th></th>\n",
              "      <th></th>\n",
              "      <th></th>\n",
              "      <th></th>\n",
              "      <th></th>\n",
              "    </tr>\n",
              "  </thead>\n",
              "  <tbody>\n",
              "    <tr>\n",
              "      <th>acura</th>\n",
              "      <td>1.604568</td>\n",
              "      <td>1.501248</td>\n",
              "      <td>1.993476</td>\n",
              "      <td>1.497968</td>\n",
              "      <td>1.640668</td>\n",
              "    </tr>\n",
              "    <tr>\n",
              "      <th>audi</th>\n",
              "      <td>1.821238</td>\n",
              "      <td>1.513909</td>\n",
              "      <td>1.732774</td>\n",
              "      <td>1.446516</td>\n",
              "      <td>2.177725</td>\n",
              "    </tr>\n",
              "    <tr>\n",
              "      <th>bmw</th>\n",
              "      <td>1.509558</td>\n",
              "      <td>1.689530</td>\n",
              "      <td>1.325309</td>\n",
              "      <td>1.499463</td>\n",
              "      <td>1.506318</td>\n",
              "    </tr>\n",
              "    <tr>\n",
              "      <th>honda</th>\n",
              "      <td>1.470508</td>\n",
              "      <td>1.502017</td>\n",
              "      <td>1.736705</td>\n",
              "      <td>1.512639</td>\n",
              "      <td>1.896626</td>\n",
              "    </tr>\n",
              "    <tr>\n",
              "      <th>infiniti</th>\n",
              "      <td>1.544331</td>\n",
              "      <td>1.329352</td>\n",
              "      <td>1.726358</td>\n",
              "      <td>1.583080</td>\n",
              "      <td>1.711659</td>\n",
              "    </tr>\n",
              "    <tr>\n",
              "      <th>nissan</th>\n",
              "      <td>1.661130</td>\n",
              "      <td>1.043642</td>\n",
              "      <td>1.642465</td>\n",
              "      <td>1.312747</td>\n",
              "      <td>1.208803</td>\n",
              "    </tr>\n",
              "    <tr>\n",
              "      <th>seat</th>\n",
              "      <td>2.105841</td>\n",
              "      <td>2.421981</td>\n",
              "      <td>2.256038</td>\n",
              "      <td>1.346241</td>\n",
              "      <td>1.802151</td>\n",
              "    </tr>\n",
              "    <tr>\n",
              "      <th>subaru</th>\n",
              "      <td>1.229875</td>\n",
              "      <td>1.006847</td>\n",
              "      <td>3.295160</td>\n",
              "      <td>1.753566</td>\n",
              "      <td>1.410708</td>\n",
              "    </tr>\n",
              "    <tr>\n",
              "      <th>toyota</th>\n",
              "      <td>1.771872</td>\n",
              "      <td>1.994515</td>\n",
              "      <td>2.389870</td>\n",
              "      <td>1.447387</td>\n",
              "      <td>1.676727</td>\n",
              "    </tr>\n",
              "    <tr>\n",
              "      <th>volkswagen</th>\n",
              "      <td>1.699986</td>\n",
              "      <td>1.530878</td>\n",
              "      <td>2.234050</td>\n",
              "      <td>1.377557</td>\n",
              "      <td>2.402328</td>\n",
              "    </tr>\n",
              "  </tbody>\n",
              "</table>\n",
              "</div>"
            ],
            "text/plain": [
              "Feature       engine  handling    luxury  performance     price\n",
              "Brand                                                          \n",
              "acura       1.604568  1.501248  1.993476     1.497968  1.640668\n",
              "audi        1.821238  1.513909  1.732774     1.446516  2.177725\n",
              "bmw         1.509558  1.689530  1.325309     1.499463  1.506318\n",
              "honda       1.470508  1.502017  1.736705     1.512639  1.896626\n",
              "infiniti    1.544331  1.329352  1.726358     1.583080  1.711659\n",
              "nissan      1.661130  1.043642  1.642465     1.312747  1.208803\n",
              "seat        2.105841  2.421981  2.256038     1.346241  1.802151\n",
              "subaru      1.229875  1.006847  3.295160     1.753566  1.410708\n",
              "toyota      1.771872  1.994515  2.389870     1.447387  1.676727\n",
              "volkswagen  1.699986  1.530878  2.234050     1.377557  2.402328"
            ]
          },
          "metadata": {},
          "execution_count": 31
        }
      ]
    },
    {
      "cell_type": "markdown",
      "metadata": {
        "id": "UoqiB3tBOJrp"
      },
      "source": [
        "#### **5. Which 5 attributes you chose – provide the frequency table**"
      ]
    },
    {
      "cell_type": "code",
      "metadata": {
        "id": "GjoERJuVOOvG",
        "colab": {
          "base_uri": "https://localhost:8080/",
          "height": 206
        },
        "outputId": "916460db-f536-4af1-8842-cf887e348f40"
      },
      "source": [
        "att_freq = pd.DataFrame(columns = ['Attribute', 'Frequency'])\n",
        "\n",
        "for att in best_5features:\n",
        "  if att in words_frq.keys():\n",
        "    val = words_frq.get(att)\n",
        "    att_freq.loc[len(att_freq)] = [att, val]\n",
        "\n",
        "att_freq"
      ],
      "execution_count": 32,
      "outputs": [
        {
          "output_type": "execute_result",
          "data": {
            "text/html": [
              "<div>\n",
              "<style scoped>\n",
              "    .dataframe tbody tr th:only-of-type {\n",
              "        vertical-align: middle;\n",
              "    }\n",
              "\n",
              "    .dataframe tbody tr th {\n",
              "        vertical-align: top;\n",
              "    }\n",
              "\n",
              "    .dataframe thead th {\n",
              "        text-align: right;\n",
              "    }\n",
              "</style>\n",
              "<table border=\"1\" class=\"dataframe\">\n",
              "  <thead>\n",
              "    <tr style=\"text-align: right;\">\n",
              "      <th></th>\n",
              "      <th>Attribute</th>\n",
              "      <th>Frequency</th>\n",
              "    </tr>\n",
              "  </thead>\n",
              "  <tbody>\n",
              "    <tr>\n",
              "      <th>0</th>\n",
              "      <td>performance</td>\n",
              "      <td>927</td>\n",
              "    </tr>\n",
              "    <tr>\n",
              "      <th>1</th>\n",
              "      <td>luxury</td>\n",
              "      <td>701</td>\n",
              "    </tr>\n",
              "    <tr>\n",
              "      <th>2</th>\n",
              "      <td>engine</td>\n",
              "      <td>615</td>\n",
              "    </tr>\n",
              "    <tr>\n",
              "      <th>3</th>\n",
              "      <td>price</td>\n",
              "      <td>550</td>\n",
              "    </tr>\n",
              "    <tr>\n",
              "      <th>4</th>\n",
              "      <td>handling</td>\n",
              "      <td>509</td>\n",
              "    </tr>\n",
              "  </tbody>\n",
              "</table>\n",
              "</div>"
            ],
            "text/plain": [
              "     Attribute Frequency\n",
              "0  performance       927\n",
              "1       luxury       701\n",
              "2       engine       615\n",
              "3        price       550\n",
              "4     handling       509"
            ]
          },
          "metadata": {},
          "execution_count": 32
        }
      ]
    },
    {
      "cell_type": "markdown",
      "metadata": {
        "id": "4_7RBVSjb3Gx"
      },
      "source": [
        "### **Task G: Advice that can be given to the client from Task F?**"
      ]
    },
    {
      "cell_type": "markdown",
      "metadata": {
        "id": "TnoFygxdQbDw"
      },
      "source": [
        "All advice here is assuming that all sentiments are positive.\n",
        "\n",
        "Our client may have assumed Audi, BMW and Infiniti to have the highest associations with 'Luxury'. However, the brands that have high associations with 'Luxury' are Seat, Subaru, Toyota and Volkswagen. This could mean that these four brands are considered more as entry level luxury cars compared to Audi, BMW, and Infiniti. This reveals a possibility of a differentiation between lower-level and higher-level luxury cars since people might not comment a lot about higher-level luxury cars in a forum about entry-level luxury cars. People also might not talk about the luxurious aspect of a brand when commenting about Audi, BMW and Infiniti because 'Luxury' is given for these brands.\n",
        "\n",
        "'Price' also has high associations with Audi and Volkswagen. From Task C, we have already seen that Audi and Volkswagen have a high association, which could mean that the two brands are compared often. Both brands having high lift values with 'Price' may reveal Audi's potential competitor to unexpectedly be Volkswagen. Thus, a piece of advice we could give for companies is to focus on providing good value for money.\n",
        "\n",
        "On the other hand, while 'Performance' is the most frequently mentioned attribute in the forum, there is not a noteworthy brand with a high association with this attribute. This could mean that 'Performance' is evenly mentioned about among the brands and in the comments. We could advise companies to focus on having good performance of cars as a given.\n",
        "\n",
        "Recommended Marketing Focuses ('Performance' is a given throughout):\n",
        "- Seat - Durable, powerful and luxurious car (Good 'Handling' and 'Engine')\n",
        "- Toyota - Comfortable luxurious car (Comfortable because good 'Handling')\n",
        "- Subaru - Luxurious car\n",
        "- Volkswagen - Affordable luxurious car\n",
        "- Audi - Luxurious powerful car that has good value for money (Good 'Price' and 'Engine')\n",
        "- Acura - Luxurious car\n",
        "- Honda - Affordable car\n",
        "- BMW - Might want to focus more on performance, power, and luxury. The slogan of BMW is \"The ultimate driving machine\", but people don't seem to talk a lot about the performance, power, and luxury of BMW.\n",
        "- Nissan and Infiniti - These brands do not have strong associations with the top 5 attributes. It could mean that these brands specialize in another attribute that is below the top 5."
      ]
    },
    {
      "cell_type": "markdown",
      "metadata": {
        "id": "UaSyNMrqb_sJ"
      },
      "source": [
        "### **Task H: Most aspirational brand in the data in terms of people actually wanting to buy or own**"
      ]
    },
    {
      "cell_type": "markdown",
      "metadata": {
        "id": "X4aD_laRP4Ab"
      },
      "source": [
        "We created a list of phrases that might be linked to aspiration."
      ]
    },
    {
      "cell_type": "code",
      "metadata": {
        "id": "8bbD2UKfcBch"
      },
      "source": [
        "#These are the words/phrases we have associated with aspiration.\n",
        "aspiration_list = ['hope to', 'want to', 'prefer', 'dream car', 'dream of', 'aspire', 'looking for','love to' ,\n",
        "                  'desire', 'love','want']"
      ],
      "execution_count": 33,
      "outputs": []
    },
    {
      "cell_type": "code",
      "metadata": {
        "id": "1-sRAGm7ycVi"
      },
      "source": [
        "#Replace models with brands for all comments\n",
        "def model_to_brand(s):\n",
        "    for i in brand_df.index.values:\n",
        "        s = s.replace(brand_df[\"model\"][i].lower(),brand_df[\"brand\"][i].lower())\n",
        "    return s\n",
        "comments_df['comments_model_replace_stop_words'] = comments_df['comments'].apply(model_to_brand)"
      ],
      "execution_count": 34,
      "outputs": []
    },
    {
      "cell_type": "code",
      "metadata": {
        "id": "UPSCycfHydhG"
      },
      "source": [
        "#Replace chosen aspirational phrases with the term 'aspiration' for all comments\n",
        "def asp_words(x):\n",
        "    for i in aspiration_list:\n",
        "        x = x.replace(i,'aspiration')\n",
        "    return x\n",
        "comments_df['aspirational_words'] = comments_df['comments_model_replace_stop_words'].apply(asp_words)"
      ],
      "execution_count": 35,
      "outputs": []
    },
    {
      "cell_type": "code",
      "metadata": {
        "id": "CiLsYrPVylNz",
        "colab": {
          "base_uri": "https://localhost:8080/",
          "height": 805
        },
        "outputId": "5bcb65b6-6e90-4333-ca98-3ae4846bb3d7"
      },
      "source": [
        "comments_df"
      ],
      "execution_count": 36,
      "outputs": [
        {
          "output_type": "execute_result",
          "data": {
            "text/html": [
              "<div>\n",
              "<style scoped>\n",
              "    .dataframe tbody tr th:only-of-type {\n",
              "        vertical-align: middle;\n",
              "    }\n",
              "\n",
              "    .dataframe tbody tr th {\n",
              "        vertical-align: top;\n",
              "    }\n",
              "\n",
              "    .dataframe thead th {\n",
              "        text-align: right;\n",
              "    }\n",
              "</style>\n",
              "<table border=\"1\" class=\"dataframe\">\n",
              "  <thead>\n",
              "    <tr style=\"text-align: right;\">\n",
              "      <th></th>\n",
              "      <th>Date</th>\n",
              "      <th>comments</th>\n",
              "      <th>comments_model_replace</th>\n",
              "      <th>comments_model_replace_words</th>\n",
              "      <th>comments_model_replace_stop_words</th>\n",
              "      <th>aspirational_words</th>\n",
              "    </tr>\n",
              "  </thead>\n",
              "  <tbody>\n",
              "    <tr>\n",
              "      <th>0</th>\n",
              "      <td>March 24, 2002 10:54PM</td>\n",
              "      <td>i personally think that with a few tweaks the ...</td>\n",
              "      <td>i personally think that with a few tweaks the ...</td>\n",
              "      <td>[personally, think, tweaks, c320, could, also,...</td>\n",
              "      <td>i personally think that with a few tweaks the ...</td>\n",
              "      <td>i personally think that with a few tweaks the ...</td>\n",
              "    </tr>\n",
              "    <tr>\n",
              "      <th>1</th>\n",
              "      <td>March 25, 2002 12:06AM</td>\n",
              "      <td>i am debating a new purchase and these two are...</td>\n",
              "      <td>i am debating a new purchase and these two are...</td>\n",
              "      <td>[debating, new, purchase, two, top, ltoyota, p...</td>\n",
              "      <td>i am debating a new purchase and these two are...</td>\n",
              "      <td>i am debating a new purchase and these two are...</td>\n",
              "    </tr>\n",
              "    <tr>\n",
              "      <th>2</th>\n",
              "      <td>March 25, 2002 10:02AM</td>\n",
              "      <td>great handling rwd excellent engine and the be...</td>\n",
              "      <td>great handling rwd excellent engine and the be...</td>\n",
              "      <td>[great, handling, rwd, excellent, engine, best...</td>\n",
              "      <td>great handling rwd excellent engine and the be...</td>\n",
              "      <td>great handling rwd excellent engine and the be...</td>\n",
              "    </tr>\n",
              "    <tr>\n",
              "      <th>3</th>\n",
              "      <td>March 25, 2002 4:04PM</td>\n",
              "      <td>and no manual tranny that may not matter to yo...</td>\n",
              "      <td>and no manual tranny that may not matter to yo...</td>\n",
              "      <td>[manual, tranny, may, matter, certainly, matte...</td>\n",
              "      <td>and no manual tranny that may not matter to yo...</td>\n",
              "      <td>and no manual tranny that may not matter to yo...</td>\n",
              "    </tr>\n",
              "    <tr>\n",
              "      <th>4</th>\n",
              "      <td>March 25, 2002 5:44PM</td>\n",
              "      <td>one beauty of bmw 3 series is that there are s...</td>\n",
              "      <td>one beauty of bmw 3 series is that there are s...</td>\n",
              "      <td>[one, beauty, bmw, 3, series, many, models, ch...</td>\n",
              "      <td>one beauty of bmw 3 series is that there are s...</td>\n",
              "      <td>one beauty of bmw 3 series is that there are s...</td>\n",
              "    </tr>\n",
              "    <tr>\n",
              "      <th>...</th>\n",
              "      <td>...</td>\n",
              "      <td>...</td>\n",
              "      <td>...</td>\n",
              "      <td>...</td>\n",
              "      <td>...</td>\n",
              "      <td>...</td>\n",
              "    </tr>\n",
              "    <tr>\n",
              "      <th>4995</th>\n",
              "      <td>January 23, 2006 9:51PM</td>\n",
              "      <td>i agree with blueguydotcom the is350 is one fa...</td>\n",
              "      <td>i agree with blueguydotcom the is350 is one fa...</td>\n",
              "      <td>[agree, blueguydotcom, is350, one, fast, ride,...</td>\n",
              "      <td>i agree with blueguydotcom the is350 is one fa...</td>\n",
              "      <td>i agree with blueguydotcom the is350 is one fa...</td>\n",
              "    </tr>\n",
              "    <tr>\n",
              "      <th>4996</th>\n",
              "      <td>January 23, 2006 11:29PM</td>\n",
              "      <td>dont have any interest in aftermarket tuners t...</td>\n",
              "      <td>dont have any interest in aftermarket tuners t...</td>\n",
              "      <td>[dont, interest, aftermarket, tuners, 35, 30tt...</td>\n",
              "      <td>dont have any interest in aftermarket tuners t...</td>\n",
              "      <td>dont have any interest in aftermarket tuners t...</td>\n",
              "    </tr>\n",
              "    <tr>\n",
              "      <th>4997</th>\n",
              "      <td>January 24, 2006 7:39PM</td>\n",
              "      <td>dont have any interest in aftermarket tuners\\n...</td>\n",
              "      <td>dont have any interest in aftermarket tuners\\n...</td>\n",
              "      <td>[dont, interest, aftermarket, tuners, consider...</td>\n",
              "      <td>dont have any interest in aftermarket tuners\\n...</td>\n",
              "      <td>dont have any interest in aftermarket tuners\\n...</td>\n",
              "    </tr>\n",
              "    <tr>\n",
              "      <th>4998</th>\n",
              "      <td>January 24, 2006 7:42PM</td>\n",
              "      <td>amg i have no use forits mb afterall as for m ...</td>\n",
              "      <td>amg i have no use forits mb afterall as for m ...</td>\n",
              "      <td>[amg, use, forits, mb, afterall, actual, divis...</td>\n",
              "      <td>amg i have no use forits mb afterall as for m ...</td>\n",
              "      <td>amg i have no use forits mb afterall as for m ...</td>\n",
              "    </tr>\n",
              "    <tr>\n",
              "      <th>4999</th>\n",
              "      <td>January 24, 2006 10:10PM</td>\n",
              "      <td>alpina is like dinan just a tuner i want nothi...</td>\n",
              "      <td>bmw is like dinan just a tuner i want nothing ...</td>\n",
              "      <td>[bmw, like, dinan, tuner, want, nothing, compa...</td>\n",
              "      <td>bmw is like dinan just a tuner i want nothing ...</td>\n",
              "      <td>bmw is like dinan just a tuner i aspiration no...</td>\n",
              "    </tr>\n",
              "  </tbody>\n",
              "</table>\n",
              "<p>5000 rows × 6 columns</p>\n",
              "</div>"
            ],
            "text/plain": [
              "                          Date  ...                                 aspirational_words\n",
              "0       March 24, 2002 10:54PM  ...  i personally think that with a few tweaks the ...\n",
              "1       March 25, 2002 12:06AM  ...  i am debating a new purchase and these two are...\n",
              "2       March 25, 2002 10:02AM  ...  great handling rwd excellent engine and the be...\n",
              "3        March 25, 2002 4:04PM  ...  and no manual tranny that may not matter to yo...\n",
              "4        March 25, 2002 5:44PM  ...  one beauty of bmw 3 series is that there are s...\n",
              "...                        ...  ...                                                ...\n",
              "4995   January 23, 2006 9:51PM  ...  i agree with blueguydotcom the is350 is one fa...\n",
              "4996  January 23, 2006 11:29PM  ...  dont have any interest in aftermarket tuners t...\n",
              "4997   January 24, 2006 7:39PM  ...  dont have any interest in aftermarket tuners\\n...\n",
              "4998   January 24, 2006 7:42PM  ...  amg i have no use forits mb afterall as for m ...\n",
              "4999  January 24, 2006 10:10PM  ...  bmw is like dinan just a tuner i aspiration no...\n",
              "\n",
              "[5000 rows x 6 columns]"
            ]
          },
          "metadata": {},
          "execution_count": 36
        }
      ]
    },
    {
      "cell_type": "code",
      "metadata": {
        "id": "dVk9GVkQylh8"
      },
      "source": [
        "#Creating a raw structure of lift table\n",
        "lift_df = pd.DataFrame(columns = ['brand', 'brandcount', 'asp_count', 'lift', 'percent_aspirational'])\n",
        "lift_df['brand'] = brand_df['brand'].unique()"
      ],
      "execution_count": 37,
      "outputs": []
    },
    {
      "cell_type": "code",
      "metadata": {
        "id": "dP6rV4gwyl0s",
        "colab": {
          "base_uri": "https://localhost:8080/"
        },
        "outputId": "42112188-9734-49f6-e71b-01ca1301c990"
      },
      "source": [
        "#Finding the total comments with 'aspiration' in it\n",
        "overall_asp_count = 0\n",
        "for comment in comments_df['aspirational_words']:\n",
        "    if 'aspiration' in comment:\n",
        "        overall_asp_count += 1\n",
        "n = len(comments_df)\n",
        "n"
      ],
      "execution_count": 38,
      "outputs": [
        {
          "output_type": "execute_result",
          "data": {
            "text/plain": [
              "5000"
            ]
          },
          "metadata": {},
          "execution_count": 38
        }
      ]
    },
    {
      "cell_type": "code",
      "metadata": {
        "id": "r6uZhforyqkc"
      },
      "source": [
        "index = 0\n",
        "for brand in lift_df['brand']:\n",
        "    brandcount = 0\n",
        "    asp_count = 0\n",
        "    for comment in comments_df['aspirational_words']:\n",
        "        if brand in comment:\n",
        "            brandcount += 1\n",
        "        if 'aspiration' in comment and brand in comment:\n",
        "            asp_count += 1\n",
        "        \n",
        "    lift_df['brandcount'][index] = brandcount\n",
        "    lift_df['asp_count'][index] = asp_count\n",
        "    index += 1\n",
        "  "
      ],
      "execution_count": 39,
      "outputs": []
    },
    {
      "cell_type": "code",
      "metadata": {
        "id": "dkBJqL81yyn1",
        "colab": {
          "base_uri": "https://localhost:8080/",
          "height": 363
        },
        "outputId": "28840a1b-e3fb-421e-8b0b-055ff207afc8"
      },
      "source": [
        "#Finding the lift table for brands\n",
        "lift_df['percent_aspirational'] = lift_df['asp_count']/lift_df['brandcount']\n",
        "lift_df['lift'] = (n*lift_df['asp_count'])/(lift_df['brandcount']*overall_asp_count)\n",
        "lift_df.sort_values(by = 'lift', ascending = False)[:10]"
      ],
      "execution_count": 40,
      "outputs": [
        {
          "output_type": "execute_result",
          "data": {
            "text/html": [
              "<div>\n",
              "<style scoped>\n",
              "    .dataframe tbody tr th:only-of-type {\n",
              "        vertical-align: middle;\n",
              "    }\n",
              "\n",
              "    .dataframe tbody tr th {\n",
              "        vertical-align: top;\n",
              "    }\n",
              "\n",
              "    .dataframe thead th {\n",
              "        text-align: right;\n",
              "    }\n",
              "</style>\n",
              "<table border=\"1\" class=\"dataframe\">\n",
              "  <thead>\n",
              "    <tr style=\"text-align: right;\">\n",
              "      <th></th>\n",
              "      <th>brand</th>\n",
              "      <th>brandcount</th>\n",
              "      <th>asp_count</th>\n",
              "      <th>lift</th>\n",
              "      <th>percent_aspirational</th>\n",
              "    </tr>\n",
              "  </thead>\n",
              "  <tbody>\n",
              "    <tr>\n",
              "      <th>10</th>\n",
              "      <td>hyndai kia</td>\n",
              "      <td>2</td>\n",
              "      <td>1</td>\n",
              "      <td>2.29148</td>\n",
              "      <td>0.5</td>\n",
              "    </tr>\n",
              "    <tr>\n",
              "      <th>18</th>\n",
              "      <td>mitsubishi</td>\n",
              "      <td>23</td>\n",
              "      <td>11</td>\n",
              "      <td>2.19185</td>\n",
              "      <td>0.478261</td>\n",
              "    </tr>\n",
              "    <tr>\n",
              "      <th>22</th>\n",
              "      <td>seat</td>\n",
              "      <td>289</td>\n",
              "      <td>125</td>\n",
              "      <td>1.98225</td>\n",
              "      <td>0.432526</td>\n",
              "    </tr>\n",
              "    <tr>\n",
              "      <th>3</th>\n",
              "      <td>buick</td>\n",
              "      <td>37</td>\n",
              "      <td>16</td>\n",
              "      <td>1.98182</td>\n",
              "      <td>0.432432</td>\n",
              "    </tr>\n",
              "    <tr>\n",
              "      <th>24</th>\n",
              "      <td>suzuki</td>\n",
              "      <td>24</td>\n",
              "      <td>10</td>\n",
              "      <td>1.90956</td>\n",
              "      <td>0.416667</td>\n",
              "    </tr>\n",
              "    <tr>\n",
              "      <th>15</th>\n",
              "      <td>mazda</td>\n",
              "      <td>109</td>\n",
              "      <td>44</td>\n",
              "      <td>1.85</td>\n",
              "      <td>0.40367</td>\n",
              "    </tr>\n",
              "    <tr>\n",
              "      <th>6</th>\n",
              "      <td>chrysler</td>\n",
              "      <td>81</td>\n",
              "      <td>32</td>\n",
              "      <td>1.81055</td>\n",
              "      <td>0.395062</td>\n",
              "    </tr>\n",
              "    <tr>\n",
              "      <th>26</th>\n",
              "      <td>volkswagen</td>\n",
              "      <td>218</td>\n",
              "      <td>86</td>\n",
              "      <td>1.80795</td>\n",
              "      <td>0.394495</td>\n",
              "    </tr>\n",
              "    <tr>\n",
              "      <th>14</th>\n",
              "      <td>lincoln</td>\n",
              "      <td>64</td>\n",
              "      <td>25</td>\n",
              "      <td>1.79022</td>\n",
              "      <td>0.390625</td>\n",
              "    </tr>\n",
              "    <tr>\n",
              "      <th>8</th>\n",
              "      <td>ford</td>\n",
              "      <td>255</td>\n",
              "      <td>98</td>\n",
              "      <td>1.76129</td>\n",
              "      <td>0.384314</td>\n",
              "    </tr>\n",
              "  </tbody>\n",
              "</table>\n",
              "</div>"
            ],
            "text/plain": [
              "         brand brandcount asp_count     lift percent_aspirational\n",
              "10  hyndai kia          2         1  2.29148                  0.5\n",
              "18  mitsubishi         23        11  2.19185             0.478261\n",
              "22        seat        289       125  1.98225             0.432526\n",
              "3        buick         37        16  1.98182             0.432432\n",
              "24      suzuki         24        10  1.90956             0.416667\n",
              "15       mazda        109        44     1.85              0.40367\n",
              "6     chrysler         81        32  1.81055             0.395062\n",
              "26  volkswagen        218        86  1.80795             0.394495\n",
              "14     lincoln         64        25  1.79022             0.390625\n",
              "8         ford        255        98  1.76129             0.384314"
            ]
          },
          "metadata": {},
          "execution_count": 40
        }
      ]
    },
    {
      "cell_type": "markdown",
      "metadata": {
        "id": "i6EtrwBHQ2fi"
      },
      "source": [
        "\n",
        "To assess which brands were the most 'aspirational', we decided to create a list of aspirational words (want to, hope to, desire, etc.) and replace those words with the word 'aspiration', similar to what we did with the brands and models. From there, we calculated how many times the brand appears in post, and then how many times the word 'aspirational' appears with that brand. From there, we calculated lifts, which can be found in the table above.\n",
        "\n",
        "When we take the list of all brands, we find that Hyndai Kia is the most aspirational brand, followed by Mitsubishi. But Hyndai Kia has been mentioned only 2 times amongst all the 5000 comments. Thus, it might be better to calculate association between aspiration and brands that have enough comments about them.\n",
        "\n",
        "Hence, we next find the most aspirational brand amongst the top 10 brands."
      ]
    },
    {
      "cell_type": "markdown",
      "metadata": {
        "id": "WtCvi4F1-rkO"
      },
      "source": [
        "**Most aspirational brand among the top 10**"
      ]
    },
    {
      "cell_type": "code",
      "metadata": {
        "id": "m7YtjbN1-uQa",
        "colab": {
          "base_uri": "https://localhost:8080/",
          "height": 363
        },
        "outputId": "c0c359ac-0618-4534-af9b-d390dd8e9983"
      },
      "source": [
        "lift_df = pd.DataFrame(columns = ['brand', 'brandcount', 'asp_count', 'lift', 'percent_aspirational'])\n",
        "lift_df['brand'] = top_brands\n",
        "\n",
        "overall_asp_count = 0\n",
        "for comment in comments_df['aspirational_words']:\n",
        "    if 'aspiration' in comment:\n",
        "        overall_asp_count += 1\n",
        "n = len(comments_df)\n",
        "\n",
        "index = 0\n",
        "for brand in lift_df['brand']:\n",
        "    brandcount = 0\n",
        "    asp_count = 0\n",
        "    for comment in comments_df['aspirational_words']:\n",
        "        if brand in comment:\n",
        "            brandcount += 1\n",
        "        if 'aspiration' in comment and brand in comment:\n",
        "            asp_count += 1\n",
        "        \n",
        "    lift_df['brandcount'][index] = brandcount\n",
        "    lift_df['asp_count'][index] = asp_count\n",
        "    index += 1\n",
        "lift_df\n",
        "lift_df['percent_aspirational'] = lift_df['asp_count']/lift_df['brandcount']\n",
        "lift_df['lift'] = (n*lift_df['asp_count'])/(lift_df['brandcount']*overall_asp_count)\n",
        "lift_df.sort_values(by = 'lift', ascending = False)[:10]"
      ],
      "execution_count": 41,
      "outputs": [
        {
          "output_type": "execute_result",
          "data": {
            "text/html": [
              "<div>\n",
              "<style scoped>\n",
              "    .dataframe tbody tr th:only-of-type {\n",
              "        vertical-align: middle;\n",
              "    }\n",
              "\n",
              "    .dataframe tbody tr th {\n",
              "        vertical-align: top;\n",
              "    }\n",
              "\n",
              "    .dataframe thead th {\n",
              "        text-align: right;\n",
              "    }\n",
              "</style>\n",
              "<table border=\"1\" class=\"dataframe\">\n",
              "  <thead>\n",
              "    <tr style=\"text-align: right;\">\n",
              "      <th></th>\n",
              "      <th>brand</th>\n",
              "      <th>brandcount</th>\n",
              "      <th>asp_count</th>\n",
              "      <th>lift</th>\n",
              "      <th>percent_aspirational</th>\n",
              "    </tr>\n",
              "  </thead>\n",
              "  <tbody>\n",
              "    <tr>\n",
              "      <th>7</th>\n",
              "      <td>seat</td>\n",
              "      <td>289</td>\n",
              "      <td>125</td>\n",
              "      <td>1.98225</td>\n",
              "      <td>0.432526</td>\n",
              "    </tr>\n",
              "    <tr>\n",
              "      <th>9</th>\n",
              "      <td>volkswagen</td>\n",
              "      <td>218</td>\n",
              "      <td>86</td>\n",
              "      <td>1.80795</td>\n",
              "      <td>0.394495</td>\n",
              "    </tr>\n",
              "    <tr>\n",
              "      <th>4</th>\n",
              "      <td>infiniti</td>\n",
              "      <td>424</td>\n",
              "      <td>150</td>\n",
              "      <td>1.62133</td>\n",
              "      <td>0.353774</td>\n",
              "    </tr>\n",
              "    <tr>\n",
              "      <th>3</th>\n",
              "      <td>honda</td>\n",
              "      <td>611</td>\n",
              "      <td>200</td>\n",
              "      <td>1.50015</td>\n",
              "      <td>0.327332</td>\n",
              "    </tr>\n",
              "    <tr>\n",
              "      <th>5</th>\n",
              "      <td>nissan</td>\n",
              "      <td>382</td>\n",
              "      <td>125</td>\n",
              "      <td>1.49966</td>\n",
              "      <td>0.327225</td>\n",
              "    </tr>\n",
              "    <tr>\n",
              "      <th>0</th>\n",
              "      <td>bmw</td>\n",
              "      <td>1405</td>\n",
              "      <td>454</td>\n",
              "      <td>1.4809</td>\n",
              "      <td>0.323132</td>\n",
              "    </tr>\n",
              "    <tr>\n",
              "      <th>2</th>\n",
              "      <td>audi</td>\n",
              "      <td>505</td>\n",
              "      <td>162</td>\n",
              "      <td>1.47017</td>\n",
              "      <td>0.320792</td>\n",
              "    </tr>\n",
              "    <tr>\n",
              "      <th>1</th>\n",
              "      <td>acura</td>\n",
              "      <td>624</td>\n",
              "      <td>197</td>\n",
              "      <td>1.44686</td>\n",
              "      <td>0.315705</td>\n",
              "    </tr>\n",
              "    <tr>\n",
              "      <th>6</th>\n",
              "      <td>toyota</td>\n",
              "      <td>1416</td>\n",
              "      <td>430</td>\n",
              "      <td>1.39172</td>\n",
              "      <td>0.303672</td>\n",
              "    </tr>\n",
              "    <tr>\n",
              "      <th>8</th>\n",
              "      <td>subaru</td>\n",
              "      <td>282</td>\n",
              "      <td>80</td>\n",
              "      <td>1.30013</td>\n",
              "      <td>0.283688</td>\n",
              "    </tr>\n",
              "  </tbody>\n",
              "</table>\n",
              "</div>"
            ],
            "text/plain": [
              "        brand brandcount asp_count     lift percent_aspirational\n",
              "7        seat        289       125  1.98225             0.432526\n",
              "9  volkswagen        218        86  1.80795             0.394495\n",
              "4    infiniti        424       150  1.62133             0.353774\n",
              "3       honda        611       200  1.50015             0.327332\n",
              "5      nissan        382       125  1.49966             0.327225\n",
              "0         bmw       1405       454   1.4809             0.323132\n",
              "2        audi        505       162  1.47017             0.320792\n",
              "1       acura        624       197  1.44686             0.315705\n",
              "6      toyota       1416       430  1.39172             0.303672\n",
              "8      subaru        282        80  1.30013             0.283688"
            ]
          },
          "metadata": {},
          "execution_count": 41
        }
      ]
    },
    {
      "cell_type": "markdown",
      "metadata": {
        "id": "pEM7Vo6FAQ53"
      },
      "source": [
        "\n",
        "Thus, Seat is the most aspirational brand according to our analysis, followed by Volkswagen and Infiniti. \n",
        "\n",
        "The business implications for Seat are that now they know they are one of the most desirable cars in the entry-level luxury car market in the USA, they can begin to play on that knowledge and advertise this fact. From the previous question we know that Seat can be considered as a durable, luxurious car, so we should encourage them to create marketing campaigns that let people who want to enter the luxury market know to start with them. The can play on people's aspirations and create an image of customers one day owning the product. This can help build brand loyalty where the price of the product may not matter as much as owning it.\n",
        "\n",
        "According to articles, young, cosmopolitan people make up a sizeable amount of the aspirational consumers market. With this information, Seat will want to focus a their marketing dollars on appealing to the younger generation consumers. Younger customers want to feel cool and exclusive so creating experiencial events, pop ups and wild social media stunts, would appeal to this crowd. \n",
        "\n",
        "Becuase of all this, Seat should expect a younger crowd as customers and may want to think about making their products look as appealing as possible while keeping pricing low so that it is accessible to those who are most likely to buy it.\n",
        "\n",
        "\n"
      ]
    },
    {
      "cell_type": "code",
      "metadata": {
        "id": "wfCFwKq7GPw8"
      },
      "source": [
        ""
      ],
      "execution_count": 41,
      "outputs": []
    }
  ]
}