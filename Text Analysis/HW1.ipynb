{
  "nbformat": 4,
  "nbformat_minor": 0,
  "metadata": {
    "colab": {
      "name": "Copy of HW1.ipynb",
      "provenance": [],
      "collapsed_sections": []
    },
    "kernelspec": {
      "name": "python3",
      "display_name": "Python 3"
    },
    "language_info": {
      "name": "python"
    },
    "accelerator": "GPU"
  },
  "cells": [
    {
      "cell_type": "markdown",
      "metadata": {
        "id": "uu8_CD65DVBv"
      },
      "source": [
        "# **ANALYTICS FOR UNSTRUCTURED DATA: GROUP ASSIGNMENT #1**\n",
        "\n",
        "Group Members: Ohyoon Kwon, Samuel Oh, Ankita Kundra, Seun Ibitoye, Ambikha Maharaj"
      ]
    },
    {
      "cell_type": "markdown",
      "metadata": {
        "id": "LMVRWFXW2_xz"
      },
      "source": [
        "#### **1. Which forum you chose (provide URL)**"
      ]
    },
    {
      "cell_type": "markdown",
      "metadata": {
        "id": "9vza3lbF35x2"
      },
      "source": [
        "#### We chose the 5000 oldest posts from the Edmunds.com Entry Level Luxury discussion forum : https://forums.edmunds.com/discussion/2864/general/x/entry-level-luxury-performance-sedans"
      ]
    },
    {
      "cell_type": "markdown",
      "metadata": {
        "id": "kb9D4KF04nK1"
      },
      "source": [
        "   ### **Task 1 & 2: Web Scrapping:**"
      ]
    },
    {
      "cell_type": "code",
      "metadata": {
        "colab": {
          "base_uri": "https://localhost:8080/"
        },
        "id": "ZUJaSrXq5Epv",
        "outputId": "04a12652-2bf1-4899-bcad-f2e37a5f30ac"
      },
      "source": [
        "#Selenium is an open-source tool that automates web browsers.\n",
        "!pip install selenium\n",
        "!apt-get -q update   #Used to handle installation and removal of softwares and libraries\n",
        "!apt install -yq chromium-chromedriver #ChromeDriver is a separate executable that Selenium WebDriver uses to control Chrome.\n",
        "!cp /usr/lib/chromium-browser/chromedriver /usr/bin\n",
        "\n",
        "import sys\n",
        "sys.path.insert(0,'/usr/lib/chromium-browser/chromedriver')\n",
        "from selenium import webdriver \n",
        "#WebDriver is a browser automation framework that works with open source APIs. \n",
        "#The framework operates by accepting commands, sending those commands to a browser, and interacting with applications.\n",
        "chrome_options = webdriver.ChromeOptions()\n",
        "chrome_options.add_argument('--headless')\n",
        "chrome_options.add_argument('--no-sandbox')\n",
        "chrome_options.add_argument('--disable-dev-shm-usage')"
      ],
      "execution_count": null,
      "outputs": [
        {
          "output_type": "stream",
          "name": "stdout",
          "text": [
            "Collecting selenium\n",
            "  Downloading selenium-3.141.0-py2.py3-none-any.whl (904 kB)\n",
            "\u001b[?25l\r\u001b[K     |▍                               | 10 kB 26.4 MB/s eta 0:00:01\r\u001b[K     |▊                               | 20 kB 25.8 MB/s eta 0:00:01\r\u001b[K     |█                               | 30 kB 12.5 MB/s eta 0:00:01\r\u001b[K     |█▌                              | 40 kB 9.9 MB/s eta 0:00:01\r\u001b[K     |█▉                              | 51 kB 9.4 MB/s eta 0:00:01\r\u001b[K     |██▏                             | 61 kB 10.5 MB/s eta 0:00:01\r\u001b[K     |██▌                             | 71 kB 10.8 MB/s eta 0:00:01\r\u001b[K     |███                             | 81 kB 11.9 MB/s eta 0:00:01\r\u001b[K     |███▎                            | 92 kB 10.7 MB/s eta 0:00:01\r\u001b[K     |███▋                            | 102 kB 11.0 MB/s eta 0:00:01\r\u001b[K     |████                            | 112 kB 11.0 MB/s eta 0:00:01\r\u001b[K     |████▍                           | 122 kB 11.0 MB/s eta 0:00:01\r\u001b[K     |████▊                           | 133 kB 11.0 MB/s eta 0:00:01\r\u001b[K     |█████                           | 143 kB 11.0 MB/s eta 0:00:01\r\u001b[K     |█████▍                          | 153 kB 11.0 MB/s eta 0:00:01\r\u001b[K     |█████▉                          | 163 kB 11.0 MB/s eta 0:00:01\r\u001b[K     |██████▏                         | 174 kB 11.0 MB/s eta 0:00:01\r\u001b[K     |██████▌                         | 184 kB 11.0 MB/s eta 0:00:01\r\u001b[K     |██████▉                         | 194 kB 11.0 MB/s eta 0:00:01\r\u001b[K     |███████▎                        | 204 kB 11.0 MB/s eta 0:00:01\r\u001b[K     |███████▋                        | 215 kB 11.0 MB/s eta 0:00:01\r\u001b[K     |████████                        | 225 kB 11.0 MB/s eta 0:00:01\r\u001b[K     |████████▎                       | 235 kB 11.0 MB/s eta 0:00:01\r\u001b[K     |████████▊                       | 245 kB 11.0 MB/s eta 0:00:01\r\u001b[K     |█████████                       | 256 kB 11.0 MB/s eta 0:00:01\r\u001b[K     |█████████▍                      | 266 kB 11.0 MB/s eta 0:00:01\r\u001b[K     |█████████▉                      | 276 kB 11.0 MB/s eta 0:00:01\r\u001b[K     |██████████▏                     | 286 kB 11.0 MB/s eta 0:00:01\r\u001b[K     |██████████▌                     | 296 kB 11.0 MB/s eta 0:00:01\r\u001b[K     |██████████▉                     | 307 kB 11.0 MB/s eta 0:00:01\r\u001b[K     |███████████▎                    | 317 kB 11.0 MB/s eta 0:00:01\r\u001b[K     |███████████▋                    | 327 kB 11.0 MB/s eta 0:00:01\r\u001b[K     |████████████                    | 337 kB 11.0 MB/s eta 0:00:01\r\u001b[K     |████████████▎                   | 348 kB 11.0 MB/s eta 0:00:01\r\u001b[K     |████████████▊                   | 358 kB 11.0 MB/s eta 0:00:01\r\u001b[K     |█████████████                   | 368 kB 11.0 MB/s eta 0:00:01\r\u001b[K     |█████████████▍                  | 378 kB 11.0 MB/s eta 0:00:01\r\u001b[K     |█████████████▊                  | 389 kB 11.0 MB/s eta 0:00:01\r\u001b[K     |██████████████▏                 | 399 kB 11.0 MB/s eta 0:00:01\r\u001b[K     |██████████████▌                 | 409 kB 11.0 MB/s eta 0:00:01\r\u001b[K     |██████████████▉                 | 419 kB 11.0 MB/s eta 0:00:01\r\u001b[K     |███████████████▏                | 430 kB 11.0 MB/s eta 0:00:01\r\u001b[K     |███████████████▋                | 440 kB 11.0 MB/s eta 0:00:01\r\u001b[K     |████████████████                | 450 kB 11.0 MB/s eta 0:00:01\r\u001b[K     |████████████████▎               | 460 kB 11.0 MB/s eta 0:00:01\r\u001b[K     |████████████████▋               | 471 kB 11.0 MB/s eta 0:00:01\r\u001b[K     |█████████████████               | 481 kB 11.0 MB/s eta 0:00:01\r\u001b[K     |█████████████████▍              | 491 kB 11.0 MB/s eta 0:00:01\r\u001b[K     |█████████████████▊              | 501 kB 11.0 MB/s eta 0:00:01\r\u001b[K     |██████████████████▏             | 512 kB 11.0 MB/s eta 0:00:01\r\u001b[K     |██████████████████▌             | 522 kB 11.0 MB/s eta 0:00:01\r\u001b[K     |██████████████████▉             | 532 kB 11.0 MB/s eta 0:00:01\r\u001b[K     |███████████████████▏            | 542 kB 11.0 MB/s eta 0:00:01\r\u001b[K     |███████████████████▋            | 552 kB 11.0 MB/s eta 0:00:01\r\u001b[K     |████████████████████            | 563 kB 11.0 MB/s eta 0:00:01\r\u001b[K     |████████████████████▎           | 573 kB 11.0 MB/s eta 0:00:01\r\u001b[K     |████████████████████▋           | 583 kB 11.0 MB/s eta 0:00:01\r\u001b[K     |█████████████████████           | 593 kB 11.0 MB/s eta 0:00:01\r\u001b[K     |█████████████████████▍          | 604 kB 11.0 MB/s eta 0:00:01\r\u001b[K     |█████████████████████▊          | 614 kB 11.0 MB/s eta 0:00:01\r\u001b[K     |██████████████████████          | 624 kB 11.0 MB/s eta 0:00:01\r\u001b[K     |██████████████████████▌         | 634 kB 11.0 MB/s eta 0:00:01\r\u001b[K     |██████████████████████▉         | 645 kB 11.0 MB/s eta 0:00:01\r\u001b[K     |███████████████████████▏        | 655 kB 11.0 MB/s eta 0:00:01\r\u001b[K     |███████████████████████▌        | 665 kB 11.0 MB/s eta 0:00:01\r\u001b[K     |████████████████████████        | 675 kB 11.0 MB/s eta 0:00:01\r\u001b[K     |████████████████████████▎       | 686 kB 11.0 MB/s eta 0:00:01\r\u001b[K     |████████████████████████▋       | 696 kB 11.0 MB/s eta 0:00:01\r\u001b[K     |█████████████████████████       | 706 kB 11.0 MB/s eta 0:00:01\r\u001b[K     |█████████████████████████▍      | 716 kB 11.0 MB/s eta 0:00:01\r\u001b[K     |█████████████████████████▊      | 727 kB 11.0 MB/s eta 0:00:01\r\u001b[K     |██████████████████████████      | 737 kB 11.0 MB/s eta 0:00:01\r\u001b[K     |██████████████████████████▍     | 747 kB 11.0 MB/s eta 0:00:01\r\u001b[K     |██████████████████████████▉     | 757 kB 11.0 MB/s eta 0:00:01\r\u001b[K     |███████████████████████████▏    | 768 kB 11.0 MB/s eta 0:00:01\r\u001b[K     |███████████████████████████▌    | 778 kB 11.0 MB/s eta 0:00:01\r\u001b[K     |████████████████████████████    | 788 kB 11.0 MB/s eta 0:00:01\r\u001b[K     |████████████████████████████▎   | 798 kB 11.0 MB/s eta 0:00:01\r\u001b[K     |████████████████████████████▋   | 808 kB 11.0 MB/s eta 0:00:01\r\u001b[K     |█████████████████████████████   | 819 kB 11.0 MB/s eta 0:00:01\r\u001b[K     |█████████████████████████████▍  | 829 kB 11.0 MB/s eta 0:00:01\r\u001b[K     |█████████████████████████████▊  | 839 kB 11.0 MB/s eta 0:00:01\r\u001b[K     |██████████████████████████████  | 849 kB 11.0 MB/s eta 0:00:01\r\u001b[K     |██████████████████████████████▍ | 860 kB 11.0 MB/s eta 0:00:01\r\u001b[K     |██████████████████████████████▉ | 870 kB 11.0 MB/s eta 0:00:01\r\u001b[K     |███████████████████████████████▏| 880 kB 11.0 MB/s eta 0:00:01\r\u001b[K     |███████████████████████████████▌| 890 kB 11.0 MB/s eta 0:00:01\r\u001b[K     |███████████████████████████████▉| 901 kB 11.0 MB/s eta 0:00:01\r\u001b[K     |████████████████████████████████| 904 kB 11.0 MB/s \n",
            "\u001b[?25hRequirement already satisfied: urllib3 in /usr/local/lib/python3.7/dist-packages (from selenium) (1.24.3)\n",
            "Installing collected packages: selenium\n",
            "Successfully installed selenium-3.141.0\n",
            "Get:1 http://ppa.launchpad.net/c2d4u.team/c2d4u4.0+/ubuntu bionic InRelease [15.9 kB]\n",
            "Hit:2 http://archive.ubuntu.com/ubuntu bionic InRelease\n",
            "Get:3 http://archive.ubuntu.com/ubuntu bionic-updates InRelease [88.7 kB]\n",
            "Hit:4 http://ppa.launchpad.net/cran/libgit2/ubuntu bionic InRelease\n",
            "Hit:5 http://ppa.launchpad.net/deadsnakes/ppa/ubuntu bionic InRelease\n",
            "Get:6 http://archive.ubuntu.com/ubuntu bionic-backports InRelease [74.6 kB]\n",
            "Hit:7 http://ppa.launchpad.net/graphics-drivers/ppa/ubuntu bionic InRelease\n",
            "Get:8 https://cloud.r-project.org/bin/linux/ubuntu bionic-cran40/ InRelease [3,626 B]\n",
            "Get:9 http://security.ubuntu.com/ubuntu bionic-security InRelease [88.7 kB]\n",
            "Ign:10 https://developer.download.nvidia.com/compute/cuda/repos/ubuntu1804/x86_64  InRelease\n",
            "Get:11 http://ppa.launchpad.net/c2d4u.team/c2d4u4.0+/ubuntu bionic/main Sources [1,802 kB]\n",
            "Ign:12 https://developer.download.nvidia.com/compute/machine-learning/repos/ubuntu1804/x86_64  InRelease\n",
            "Hit:13 https://developer.download.nvidia.com/compute/cuda/repos/ubuntu1804/x86_64  Release\n",
            "Hit:14 https://developer.download.nvidia.com/compute/machine-learning/repos/ubuntu1804/x86_64  Release\n",
            "Get:15 http://ppa.launchpad.net/c2d4u.team/c2d4u4.0+/ubuntu bionic/main amd64 Packages [922 kB]\n",
            "Get:16 http://archive.ubuntu.com/ubuntu bionic-updates/main amd64 Packages [2,761 kB]\n",
            "Get:17 http://archive.ubuntu.com/ubuntu bionic-updates/universe amd64 Packages [2,202 kB]\n",
            "Get:18 https://cloud.r-project.org/bin/linux/ubuntu bionic-cran40/ Packages [67.4 kB]\n",
            "Get:21 http://security.ubuntu.com/ubuntu bionic-security/universe amd64 Packages [1,428 kB]\n",
            "Get:22 http://security.ubuntu.com/ubuntu bionic-security/main amd64 Packages [2,326 kB]\n",
            "Fetched 11.8 MB in 3s (3,546 kB/s)\n",
            "Reading package lists...\n",
            "Reading package lists...\n",
            "Building dependency tree...\n",
            "Reading state information...\n",
            "The following additional packages will be installed:\n",
            "  chromium-browser chromium-browser-l10n chromium-codecs-ffmpeg-extra\n",
            "Suggested packages:\n",
            "  webaccounts-chromium-extension unity-chromium-extension\n",
            "The following NEW packages will be installed:\n",
            "  chromium-browser chromium-browser-l10n chromium-chromedriver\n",
            "  chromium-codecs-ffmpeg-extra\n",
            "0 upgraded, 4 newly installed, 0 to remove and 56 not upgraded.\n",
            "Need to get 91.8 MB of archives.\n",
            "After this operation, 315 MB of additional disk space will be used.\n",
            "Get:1 http://archive.ubuntu.com/ubuntu bionic-updates/universe amd64 chromium-codecs-ffmpeg-extra amd64 92.0.4515.159-0ubuntu0.18.04.1 [1,124 kB]\n",
            "Get:2 http://archive.ubuntu.com/ubuntu bionic-updates/universe amd64 chromium-browser amd64 92.0.4515.159-0ubuntu0.18.04.1 [81.7 MB]\n",
            "Get:3 http://archive.ubuntu.com/ubuntu bionic-updates/universe amd64 chromium-browser-l10n all 92.0.4515.159-0ubuntu0.18.04.1 [4,026 kB]\n",
            "Get:4 http://archive.ubuntu.com/ubuntu bionic-updates/universe amd64 chromium-chromedriver amd64 92.0.4515.159-0ubuntu0.18.04.1 [4,902 kB]\n",
            "Fetched 91.8 MB in 2s (50.1 MB/s)\n",
            "Selecting previously unselected package chromium-codecs-ffmpeg-extra.\n",
            "(Reading database ... 155013 files and directories currently installed.)\n",
            "Preparing to unpack .../chromium-codecs-ffmpeg-extra_92.0.4515.159-0ubuntu0.18.04.1_amd64.deb ...\n",
            "Unpacking chromium-codecs-ffmpeg-extra (92.0.4515.159-0ubuntu0.18.04.1) ...\n",
            "Selecting previously unselected package chromium-browser.\n",
            "Preparing to unpack .../chromium-browser_92.0.4515.159-0ubuntu0.18.04.1_amd64.deb ...\n",
            "Unpacking chromium-browser (92.0.4515.159-0ubuntu0.18.04.1) ...\n",
            "Selecting previously unselected package chromium-browser-l10n.\n",
            "Preparing to unpack .../chromium-browser-l10n_92.0.4515.159-0ubuntu0.18.04.1_all.deb ...\n",
            "Unpacking chromium-browser-l10n (92.0.4515.159-0ubuntu0.18.04.1) ...\n",
            "Selecting previously unselected package chromium-chromedriver.\n",
            "Preparing to unpack .../chromium-chromedriver_92.0.4515.159-0ubuntu0.18.04.1_amd64.deb ...\n",
            "Unpacking chromium-chromedriver (92.0.4515.159-0ubuntu0.18.04.1) ...\n",
            "Setting up chromium-codecs-ffmpeg-extra (92.0.4515.159-0ubuntu0.18.04.1) ...\n",
            "Setting up chromium-browser (92.0.4515.159-0ubuntu0.18.04.1) ...\n",
            "update-alternatives: using /usr/bin/chromium-browser to provide /usr/bin/x-www-browser (x-www-browser) in auto mode\n",
            "update-alternatives: using /usr/bin/chromium-browser to provide /usr/bin/gnome-www-browser (gnome-www-browser) in auto mode\n",
            "Setting up chromium-chromedriver (92.0.4515.159-0ubuntu0.18.04.1) ...\n",
            "Setting up chromium-browser-l10n (92.0.4515.159-0ubuntu0.18.04.1) ...\n",
            "Processing triggers for man-db (2.8.3-2ubuntu0.1) ...\n",
            "Processing triggers for hicolor-icon-theme (0.17-2) ...\n",
            "Processing triggers for mime-support (3.60ubuntu1) ...\n",
            "Processing triggers for libc-bin (2.27-3ubuntu1.3) ...\n",
            "/sbin/ldconfig.real: /usr/local/lib/python3.7/dist-packages/ideep4py/lib/libmkldnn.so.0 is not a symbolic link\n",
            "\n",
            "cp: '/usr/lib/chromium-browser/chromedriver' and '/usr/bin/chromedriver' are the same file\n"
          ]
        }
      ]
    },
    {
      "cell_type": "code",
      "metadata": {
        "id": "gcO6je1S5iJ3"
      },
      "source": [
        "wd = webdriver.Chrome('chromedriver',options=chrome_options)\n",
        "wd.get('https://forums.edmunds.com/discussion/2864/general/x/entry-level-luxury-performance-sedans')"
      ],
      "execution_count": null,
      "outputs": []
    },
    {
      "cell_type": "code",
      "metadata": {
        "colab": {
          "base_uri": "https://localhost:8080/"
        },
        "id": "vbYvPonA5nHy",
        "outputId": "790079f0-8760-4b06-cc66-4bb0e894f510"
      },
      "source": [
        "import pandas as pd\n",
        "comments = pd.DataFrame(columns = ['Date', 'comments']) \n",
        "\n",
        "for p in range(1, 101, 1):\n",
        "    page_url = \"https://forums.edmunds.com/discussion/2864/general/x/entry-level-luxury-performance-sedans/p\" + str(p)\n",
        "    wd.get(page_url)\n",
        "\n",
        "    ids = wd.find_elements_by_xpath(\"//*[contains(@id,'Comment_')]\")\n",
        "\n",
        "    comment_ids = []\n",
        "    for i in ids:\n",
        "        comment_ids.append(i.get_attribute('id'))\n",
        "\n",
        "    for x in comment_ids:\n",
        "        user_date = wd.find_elements_by_xpath('//*[@id=\"' + x +'\"]/div/div[2]/div[2]/span[1]/a/time')[0]\n",
        "        date = user_date.get_attribute('title')\n",
        "\n",
        "        user_message = wd.find_elements_by_xpath('//*[@id=\"' + x +'\"]/div/div[3]/div/div[1]')[0]\n",
        "        comment = user_message.text\n",
        "\n",
        "        comments.loc[len(comments)] = [date, comment]\n",
        "  \n",
        "print(comments.head())\n",
        "print(comments.shape[0])"
      ],
      "execution_count": null,
      "outputs": [
        {
          "output_type": "stream",
          "name": "stdout",
          "text": [
            "                     Date                                           comments\n",
            "0  March 24, 2002 10:54PM  I personally think that with a few tweaks the ...\n",
            "1  March 25, 2002 12:06AM  I am debating a new purchase and these two are...\n",
            "2  March 25, 2002 10:02AM  Great handling, RWD, excellent engine and the ...\n",
            "3   March 25, 2002 4:04PM  And no manual tranny. That may not matter to y...\n",
            "4   March 25, 2002 5:44PM  One beauty of BMW 3 Series is that there are s...\n",
            "5000\n"
          ]
        }
      ]
    },
    {
      "cell_type": "code",
      "metadata": {
        "colab": {
          "base_uri": "https://localhost:8080/",
          "height": 34
        },
        "id": "pf7MQYhw5w8Z",
        "outputId": "b1dbf932-8f3d-48ce-c374-eedb6cf8fd2f"
      },
      "source": [
        "comments.to_csv(\"results.csv\")\n",
        "!ls\n",
        "from google.colab import files\n",
        "files.download(\"results.csv\")"
      ],
      "execution_count": null,
      "outputs": [
        {
          "output_type": "stream",
          "name": "stdout",
          "text": [
            "results.csv  sample_data\n"
          ]
        },
        {
          "output_type": "display_data",
          "data": {
            "application/javascript": [
              "\n",
              "    async function download(id, filename, size) {\n",
              "      if (!google.colab.kernel.accessAllowed) {\n",
              "        return;\n",
              "      }\n",
              "      const div = document.createElement('div');\n",
              "      const label = document.createElement('label');\n",
              "      label.textContent = `Downloading \"${filename}\": `;\n",
              "      div.appendChild(label);\n",
              "      const progress = document.createElement('progress');\n",
              "      progress.max = size;\n",
              "      div.appendChild(progress);\n",
              "      document.body.appendChild(div);\n",
              "\n",
              "      const buffers = [];\n",
              "      let downloaded = 0;\n",
              "\n",
              "      const channel = await google.colab.kernel.comms.open(id);\n",
              "      // Send a message to notify the kernel that we're ready.\n",
              "      channel.send({})\n",
              "\n",
              "      for await (const message of channel.messages) {\n",
              "        // Send a message to notify the kernel that we're ready.\n",
              "        channel.send({})\n",
              "        if (message.buffers) {\n",
              "          for (const buffer of message.buffers) {\n",
              "            buffers.push(buffer);\n",
              "            downloaded += buffer.byteLength;\n",
              "            progress.value = downloaded;\n",
              "          }\n",
              "        }\n",
              "      }\n",
              "      const blob = new Blob(buffers, {type: 'application/binary'});\n",
              "      const a = document.createElement('a');\n",
              "      a.href = window.URL.createObjectURL(blob);\n",
              "      a.download = filename;\n",
              "      div.appendChild(a);\n",
              "      a.click();\n",
              "      div.remove();\n",
              "    }\n",
              "  "
            ],
            "text/plain": [
              "<IPython.core.display.Javascript object>"
            ]
          },
          "metadata": {}
        },
        {
          "output_type": "display_data",
          "data": {
            "application/javascript": [
              "download(\"download_e7393d61-b1f7-4a60-9c6b-27e154896be3\", \"results.csv\", 2669724)"
            ],
            "text/plain": [
              "<IPython.core.display.Javascript object>"
            ]
          },
          "metadata": {}
        }
      ]
    },
    {
      "cell_type": "markdown",
      "metadata": {
        "id": "4aMW-4qzbpjU"
      },
      "source": [
        "### **Task A: Does the data support Zipf's Law?**"
      ]
    },
    {
      "cell_type": "code",
      "metadata": {
        "id": "-Yomqpi3bsO0",
        "colab": {
          "base_uri": "https://localhost:8080/"
        },
        "outputId": "2554f900-3f6f-4d29-e8f1-c7d4354f85ea"
      },
      "source": [
        "import pandas as pd\n",
        "import nltk\n",
        "nltk.download('punkt')\n",
        "nltk.download('stopwords')\n",
        "from nltk import word_tokenize\n",
        "from nltk.corpus import stopwords\n",
        "import string\n",
        "%pylab inline"
      ],
      "execution_count": null,
      "outputs": [
        {
          "output_type": "stream",
          "name": "stdout",
          "text": [
            "[nltk_data] Downloading package punkt to /root/nltk_data...\n",
            "[nltk_data]   Package punkt is already up-to-date!\n",
            "[nltk_data] Downloading package stopwords to /root/nltk_data...\n",
            "[nltk_data]   Package stopwords is already up-to-date!\n",
            "Populating the interactive namespace from numpy and matplotlib\n"
          ]
        }
      ]
    },
    {
      "cell_type": "code",
      "metadata": {
        "id": "xdQ1-20bi9By",
        "colab": {
          "base_uri": "https://localhost:8080/",
          "height": 204
        },
        "outputId": "f8572071-2779-44e8-fd9e-bfc5e8d288fb"
      },
      "source": [
        "import io\n",
        "comments_df = pd.read_csv('results.csv')\n",
        "comments_df.drop(columns = 'Unnamed: 0', inplace = True)\n",
        "comments_df.head()"
      ],
      "execution_count": null,
      "outputs": [
        {
          "output_type": "execute_result",
          "data": {
            "text/html": [
              "<div>\n",
              "<style scoped>\n",
              "    .dataframe tbody tr th:only-of-type {\n",
              "        vertical-align: middle;\n",
              "    }\n",
              "\n",
              "    .dataframe tbody tr th {\n",
              "        vertical-align: top;\n",
              "    }\n",
              "\n",
              "    .dataframe thead th {\n",
              "        text-align: right;\n",
              "    }\n",
              "</style>\n",
              "<table border=\"1\" class=\"dataframe\">\n",
              "  <thead>\n",
              "    <tr style=\"text-align: right;\">\n",
              "      <th></th>\n",
              "      <th>Date</th>\n",
              "      <th>comments</th>\n",
              "    </tr>\n",
              "  </thead>\n",
              "  <tbody>\n",
              "    <tr>\n",
              "      <th>0</th>\n",
              "      <td>March 24, 2002 10:54PM</td>\n",
              "      <td>I personally think that with a few tweaks the ...</td>\n",
              "    </tr>\n",
              "    <tr>\n",
              "      <th>1</th>\n",
              "      <td>March 25, 2002 12:06AM</td>\n",
              "      <td>I am debating a new purchase and these two are...</td>\n",
              "    </tr>\n",
              "    <tr>\n",
              "      <th>2</th>\n",
              "      <td>March 25, 2002 10:02AM</td>\n",
              "      <td>Great handling, RWD, excellent engine and the ...</td>\n",
              "    </tr>\n",
              "    <tr>\n",
              "      <th>3</th>\n",
              "      <td>March 25, 2002 4:04PM</td>\n",
              "      <td>And no manual tranny. That may not matter to y...</td>\n",
              "    </tr>\n",
              "    <tr>\n",
              "      <th>4</th>\n",
              "      <td>March 25, 2002 5:44PM</td>\n",
              "      <td>One beauty of BMW 3 Series is that there are s...</td>\n",
              "    </tr>\n",
              "  </tbody>\n",
              "</table>\n",
              "</div>"
            ],
            "text/plain": [
              "                     Date                                           comments\n",
              "0  March 24, 2002 10:54PM  I personally think that with a few tweaks the ...\n",
              "1  March 25, 2002 12:06AM  I am debating a new purchase and these two are...\n",
              "2  March 25, 2002 10:02AM  Great handling, RWD, excellent engine and the ...\n",
              "3   March 25, 2002 4:04PM  And no manual tranny. That may not matter to y...\n",
              "4   March 25, 2002 5:44PM  One beauty of BMW 3 Series is that there are s..."
            ]
          },
          "metadata": {},
          "execution_count": 46
        }
      ]
    },
    {
      "cell_type": "code",
      "metadata": {
        "id": "f9Syfz2ni-u6"
      },
      "source": [
        "#Remove punctuation and convert to lower case\n",
        "comments_df['comments'] = comments_df['comments'].astype(str)\n",
        "comments_df['comments'] = comments_df['comments'].apply(lambda x :x.translate(str.maketrans('', '', string.punctuation)))\n",
        "comments_df['comments'] = comments_df['comments'].apply(lambda x :x.lower())"
      ],
      "execution_count": null,
      "outputs": []
    },
    {
      "cell_type": "code",
      "metadata": {
        "id": "siiykNDxi-xQ"
      },
      "source": [
        "#stitch all the words together \n",
        "def stitch_words(comment_col):\n",
        "    corpus = \"\"\n",
        "    for words in comment_col:\n",
        "        corpus += words\n",
        "    return corpus\n",
        "corpus = stitch_words(comments_df['comments']).lower()\n",
        "\n",
        "#tokenize the words for counts \n",
        "tokens = nltk.word_tokenize(corpus)\n",
        "\n",
        "#count the word frequencies \n",
        "from collections import Counter\n",
        "word_frequencies =Counter(tokens)\n",
        "\n",
        "#find the top 100 most common\n",
        "common_100= word_frequencies.most_common(100)"
      ],
      "execution_count": null,
      "outputs": []
    },
    {
      "cell_type": "code",
      "metadata": {
        "id": "bYTxT5rAlhvQ"
      },
      "source": [
        "#create a df to check zipf's law\n",
        "zipf_df=pd.DataFrame(common_100, columns =['words','freq'])\n",
        "\n",
        "#insert rank column \n",
        "zipf_df['rank'] = zipf_df.index + 1"
      ],
      "execution_count": null,
      "outputs": []
    },
    {
      "cell_type": "code",
      "metadata": {
        "id": "LROYz1jY8yq3"
      },
      "source": [
        "#zipf's law\n",
        "#this is predicting the frequency \n",
        "max_freq = common_100[0][1]\n",
        "counter = 1\n",
        "zipf = []\n",
        "while len(zipf) < 100:\n",
        "    zipf.append(max_freq/counter)\n",
        "    counter += 1"
      ],
      "execution_count": null,
      "outputs": []
    },
    {
      "cell_type": "code",
      "metadata": {
        "id": "SG43lWfi81Ai",
        "colab": {
          "base_uri": "https://localhost:8080/",
          "height": 296
        },
        "outputId": "e6cb7da8-b375-45db-9b29-57db1eb93757"
      },
      "source": [
        "#Rank vs frequency & zipf's law \n",
        "plot(zipf_df['rank'], zipf_df['freq'], label = 'Actual Frequency')\n",
        "plot(zipf, label = 'Zipf Predicted Frequency') \n",
        "legend(loc='best')\n",
        "xlabel('Rank')\n",
        "ylabel('Frequency')"
      ],
      "execution_count": null,
      "outputs": [
        {
          "output_type": "execute_result",
          "data": {
            "text/plain": [
              "Text(0, 0.5, 'Frequency')"
            ]
          },
          "metadata": {},
          "execution_count": 34
        },
        {
          "output_type": "display_data",
          "data": {
            "image/png": "[encoded data removed]",
            "text/plain": [
              "<Figure size 432x288 with 1 Axes>"
            ]
          },
          "metadata": {
            "needs_background": "light"
          }
        }
      ]
    },
    {
      "cell_type": "code",
      "metadata": {
        "id": "32yF1SCe82r_",
        "colab": {
          "base_uri": "https://localhost:8080/",
          "height": 296
        },
        "outputId": "c48b6862-5a52-4335-f909-db52a2c8278e"
      },
      "source": [
        "#Log rank vs log frequency & regression fitted line\n",
        "import numpy as np\n",
        "\n",
        "scatter(np.log(zipf_df['rank']), np.log(zipf_df['freq']), label = 'Actual Frequency')\n",
        "m,b = np.polyfit(np.log(zipf_df['rank']),np.log(zipf_df['freq']), 1) \n",
        "plot(np.log(zipf_df['rank']), m*np.log(zipf_df['rank'])+b, color='green')\n",
        "#plt.xlim(0,10)\n",
        "legend(loc='best')\n",
        "xlabel('Rank')\n",
        "ylabel('Frequency')"
      ],
      "execution_count": null,
      "outputs": [
        {
          "output_type": "execute_result",
          "data": {
            "text/plain": [
              "Text(0, 0.5, 'Frequency')"
            ]
          },
          "metadata": {},
          "execution_count": 35
        },
        {
          "output_type": "display_data",
          "data": {
            "image/png": "[encoded data removed]",
            "text/plain": [
              "<Figure size 432x288 with 1 Axes>"
            ]
          },
          "metadata": {
            "needs_background": "light"
          }
        }
      ]
    },
    {
      "cell_type": "markdown",
      "metadata": {
        "id": "Xrb15W5Vbsic"
      },
      "source": [
        "### **Task B: Find the top 10 brands from frequency counts?**"
      ]
    },
    {
      "cell_type": "code",
      "metadata": {
        "colab": {
          "resources": {
            "http://localhost:8080/nbextensions/google.colab/files.js": {
              "data": "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",
              "ok": true,
              "headers": [
                [
                  "content-type",
                  "application/javascript"
                ]
              ],
              "status": 200,
              "status_text": ""
            }
          },
          "base_uri": "https://localhost:8080/",
          "height": 72
        },
        "id": "6GgLouF0ABtR",
        "outputId": "6c04f129-55e8-4406-859c-02fe785d1f91"
      },
      "source": [
        "from google.colab import files\n",
        "uploaded = files.upload()"
      ],
      "execution_count": null,
      "outputs": [
        {
          "output_type": "display_data",
          "data": {
            "text/html": [
              "\n",
              "     <input type=\"file\" id=\"files-53e49b3c-6c2c-4467-a502-ca5d701d14da\" name=\"files[]\" multiple disabled\n",
              "        style=\"border:none\" />\n",
              "     <output id=\"result-53e49b3c-6c2c-4467-a502-ca5d701d14da\">\n",
              "      Upload widget is only available when the cell has been executed in the\n",
              "      current browser session. Please rerun this cell to enable.\n",
              "      </output>\n",
              "      <script src=\"/nbextensions/google.colab/files.js\"></script> "
            ],
            "text/plain": [
              "<IPython.core.display.HTML object>"
            ]
          },
          "metadata": {}
        },
        {
          "output_type": "stream",
          "name": "stdout",
          "text": [
            "Saving car_models_and_brands.csv to car_models_and_brands.csv\n"
          ]
        }
      ]
    },
    {
      "cell_type": "code",
      "metadata": {
        "id": "M4YGxvx5bsui",
        "colab": {
          "base_uri": "https://localhost:8080/",
          "height": 204
        },
        "outputId": "0f45cf19-36a2-4753-abd1-3c8ad42ea30d"
      },
      "source": [
        "brand_df = pd.read_csv('car_models_and_brands.csv')\n",
        "brand_df.columns = ['brand','model']\n",
        "brand_df.head()"
      ],
      "execution_count": null,
      "outputs": [
        {
          "output_type": "execute_result",
          "data": {
            "text/html": [
              "<div>\n",
              "<style scoped>\n",
              "    .dataframe tbody tr th:only-of-type {\n",
              "        vertical-align: middle;\n",
              "    }\n",
              "\n",
              "    .dataframe tbody tr th {\n",
              "        vertical-align: top;\n",
              "    }\n",
              "\n",
              "    .dataframe thead th {\n",
              "        text-align: right;\n",
              "    }\n",
              "</style>\n",
              "<table border=\"1\" class=\"dataframe\">\n",
              "  <thead>\n",
              "    <tr style=\"text-align: right;\">\n",
              "      <th></th>\n",
              "      <th>brand</th>\n",
              "      <th>model</th>\n",
              "    </tr>\n",
              "  </thead>\n",
              "  <tbody>\n",
              "    <tr>\n",
              "      <th>0</th>\n",
              "      <td>acura</td>\n",
              "      <td>integra</td>\n",
              "    </tr>\n",
              "    <tr>\n",
              "      <th>1</th>\n",
              "      <td>acura</td>\n",
              "      <td>legend</td>\n",
              "    </tr>\n",
              "    <tr>\n",
              "      <th>2</th>\n",
              "      <td>acura</td>\n",
              "      <td>vigor</td>\n",
              "    </tr>\n",
              "    <tr>\n",
              "      <th>3</th>\n",
              "      <td>acura</td>\n",
              "      <td>rlx</td>\n",
              "    </tr>\n",
              "    <tr>\n",
              "      <th>4</th>\n",
              "      <td>acura</td>\n",
              "      <td>ilx</td>\n",
              "    </tr>\n",
              "  </tbody>\n",
              "</table>\n",
              "</div>"
            ],
            "text/plain": [
              "   brand    model\n",
              "0  acura  integra\n",
              "1  acura   legend\n",
              "2  acura    vigor\n",
              "3  acura      rlx\n",
              "4  acura      ilx"
            ]
          },
          "metadata": {},
          "execution_count": 40
        }
      ]
    },
    {
      "cell_type": "code",
      "metadata": {
        "id": "p3GJzcNZOIDk"
      },
      "source": [
        "#Replace models by brands\n",
        "def model_to_brand(s):\n",
        "    for i in brand_df.index.values:\n",
        "        s = s.replace(brand_df[\"model\"][i].lower(),brand_df[\"brand\"][i].lower())\n",
        "    return s\n",
        "comments_df['comments_model_replace'] = comments_df['comments'].apply(model_to_brand)"
      ],
      "execution_count": null,
      "outputs": []
    },
    {
      "cell_type": "code",
      "metadata": {
        "colab": {
          "base_uri": "https://localhost:8080/",
          "height": 419
        },
        "id": "YbBsEKxnTMzl",
        "outputId": "5e6c227d-7b6c-40e5-9254-781935e1d56b"
      },
      "source": [
        "stop_words = stopwords.words('english') \n",
        "comments_df['comments_model_replace_words'] = comments_df['comments_model_replace'].apply(word_tokenize).apply(set)\n",
        "\n",
        "def remove_stopwords(s):\n",
        "    return [x for x in s if not x in stop_words] \n",
        "    \n",
        "comments_df['comments_model_replace_words'] =  comments_df['comments_model_replace_words'].apply(remove_stopwords)\n",
        "comments_df"
      ],
      "execution_count": null,
      "outputs": [
        {
          "output_type": "execute_result",
          "data": {
            "text/html": [
              "<div>\n",
              "<style scoped>\n",
              "    .dataframe tbody tr th:only-of-type {\n",
              "        vertical-align: middle;\n",
              "    }\n",
              "\n",
              "    .dataframe tbody tr th {\n",
              "        vertical-align: top;\n",
              "    }\n",
              "\n",
              "    .dataframe thead th {\n",
              "        text-align: right;\n",
              "    }\n",
              "</style>\n",
              "<table border=\"1\" class=\"dataframe\">\n",
              "  <thead>\n",
              "    <tr style=\"text-align: right;\">\n",
              "      <th></th>\n",
              "      <th>Date</th>\n",
              "      <th>comments</th>\n",
              "      <th>comments_model_replace</th>\n",
              "      <th>comments_model_replace_words</th>\n",
              "    </tr>\n",
              "  </thead>\n",
              "  <tbody>\n",
              "    <tr>\n",
              "      <th>0</th>\n",
              "      <td>March 24, 2002 10:54PM</td>\n",
              "      <td>i personally think that with a few tweaks the ...</td>\n",
              "      <td>i personally think that with a few tweaks the ...</td>\n",
              "      <td>[inch, driver, could, see, faults, without, ja...</td>\n",
              "    </tr>\n",
              "    <tr>\n",
              "      <th>1</th>\n",
              "      <td>March 25, 2002 12:06AM</td>\n",
              "      <td>i am debating a new purchase and these two are...</td>\n",
              "      <td>i am debating a new purchase and these two are...</td>\n",
              "      <td>[appreciate, worth, prices, dont, lot, dilemma...</td>\n",
              "    </tr>\n",
              "    <tr>\n",
              "      <th>2</th>\n",
              "      <td>March 25, 2002 10:02AM</td>\n",
              "      <td>great handling rwd excellent engine and the be...</td>\n",
              "      <td>great handling rwd excellent engine and the be...</td>\n",
              "      <td>[easy, rwd, warranty, excellent, great, best, ...</td>\n",
              "    </tr>\n",
              "    <tr>\n",
              "      <th>3</th>\n",
              "      <td>March 25, 2002 4:04PM</td>\n",
              "      <td>and no manual tranny that may not matter to yo...</td>\n",
              "      <td>and no manual tranny that may not matter to yo...</td>\n",
              "      <td>[may, board, even, imo, certainly, manual, mat...</td>\n",
              "    </tr>\n",
              "    <tr>\n",
              "      <th>4</th>\n",
              "      <td>March 25, 2002 5:44PM</td>\n",
              "      <td>one beauty of bmw 3 series is that there are s...</td>\n",
              "      <td>one beauty of bmw 3 series is that there are s...</td>\n",
              "      <td>[absolutely, basic, awd, models, convertible, ...</td>\n",
              "    </tr>\n",
              "    <tr>\n",
              "      <th>...</th>\n",
              "      <td>...</td>\n",
              "      <td>...</td>\n",
              "      <td>...</td>\n",
              "      <td>...</td>\n",
              "    </tr>\n",
              "    <tr>\n",
              "      <th>4995</th>\n",
              "      <td>January 23, 2006 9:51PM</td>\n",
              "      <td>i agree with blueguydotcom the is350 is one fa...</td>\n",
              "      <td>i agree with blueguydotcom the is350 is one fa...</td>\n",
              "      <td>[fun, suspension, crawling, nice, deficiencies...</td>\n",
              "    </tr>\n",
              "    <tr>\n",
              "      <th>4996</th>\n",
              "      <td>January 23, 2006 11:29PM</td>\n",
              "      <td>dont have any interest in aftermarket tuners t...</td>\n",
              "      <td>dont have any interest in aftermarket tuners t...</td>\n",
              "      <td>[trick, aftermarket, produce, tuners, dont, 35...</td>\n",
              "    </tr>\n",
              "    <tr>\n",
              "      <th>4997</th>\n",
              "      <td>January 24, 2006 7:39PM</td>\n",
              "      <td>dont have any interest in aftermarket tuners\\n...</td>\n",
              "      <td>dont have any interest in aftermarket tuners\\n...</td>\n",
              "      <td>[naturally, pushing, works, aftermarket, v8, t...</td>\n",
              "    </tr>\n",
              "    <tr>\n",
              "      <th>4998</th>\n",
              "      <td>January 24, 2006 7:42PM</td>\n",
              "      <td>amg i have no use forits mb afterall as for m ...</td>\n",
              "      <td>amg i have no use forits mb afterall as for m ...</td>\n",
              "      <td>[mb, division, forits, afterall, dinan, want, ...</td>\n",
              "    </tr>\n",
              "    <tr>\n",
              "      <th>4999</th>\n",
              "      <td>January 24, 2006 10:10PM</td>\n",
              "      <td>alpina is like dinan just a tuner i want nothi...</td>\n",
              "      <td>bmw is like dinan just a tuner i want nothing ...</td>\n",
              "      <td>[anyway, mph, makes, car, schnitzer, e90, serv...</td>\n",
              "    </tr>\n",
              "  </tbody>\n",
              "</table>\n",
              "<p>5000 rows × 4 columns</p>\n",
              "</div>"
            ],
            "text/plain": [
              "                          Date  ...                       comments_model_replace_words\n",
              "0       March 24, 2002 10:54PM  ...  [inch, driver, could, see, faults, without, ja...\n",
              "1       March 25, 2002 12:06AM  ...  [appreciate, worth, prices, dont, lot, dilemma...\n",
              "2       March 25, 2002 10:02AM  ...  [easy, rwd, warranty, excellent, great, best, ...\n",
              "3        March 25, 2002 4:04PM  ...  [may, board, even, imo, certainly, manual, mat...\n",
              "4        March 25, 2002 5:44PM  ...  [absolutely, basic, awd, models, convertible, ...\n",
              "...                        ...  ...                                                ...\n",
              "4995   January 23, 2006 9:51PM  ...  [fun, suspension, crawling, nice, deficiencies...\n",
              "4996  January 23, 2006 11:29PM  ...  [trick, aftermarket, produce, tuners, dont, 35...\n",
              "4997   January 24, 2006 7:39PM  ...  [naturally, pushing, works, aftermarket, v8, t...\n",
              "4998   January 24, 2006 7:42PM  ...  [mb, division, forits, afterall, dinan, want, ...\n",
              "4999  January 24, 2006 10:10PM  ...  [anyway, mph, makes, car, schnitzer, e90, serv...\n",
              "\n",
              "[5000 rows x 4 columns]"
            ]
          },
          "metadata": {},
          "execution_count": 86
        }
      ]
    },
    {
      "cell_type": "code",
      "metadata": {
        "id": "12DSzLNyUMUU"
      },
      "source": [
        "#Creating a combined list of all words\n",
        "all_words = []\n",
        "for i in range(len(comments_df)):\n",
        "    all_words+=comments_df['comments_model_replace_words'][i]\n",
        "from nltk import FreqDist\n",
        "word_freq = nltk.FreqDist(all_words)"
      ],
      "execution_count": null,
      "outputs": []
    },
    {
      "cell_type": "code",
      "metadata": {
        "colab": {
          "base_uri": "https://localhost:8080/"
        },
        "id": "Yl4F3QiMVLzS",
        "outputId": "a3c690ea-e0c6-43f5-f74b-fef38fd8d3b0"
      },
      "source": [
        "#Creating a list of all brand names\n",
        "brand_names = brand_df['brand'].unique()\n",
        "brand_names"
      ],
      "execution_count": null,
      "outputs": [
        {
          "output_type": "execute_result",
          "data": {
            "text/plain": [
              "array(['acura', 'audi', 'bmw', 'buick', 'cadillac', 'car', 'chevrolet',\n",
              "       'chrysler', 'dodge', 'ford', 'honda', 'hyndai kia', 'hyundai',\n",
              "       'hyundai,', 'hyundai.', 'infiniti', 'kia', 'kia,', 'kia.',\n",
              "       'lincoln', 'mazda', 'mercedes', 'mercedes benz', 'mercedes-benz',\n",
              "       'mercury', 'mitsubishi', 'nissan', 'nissan.', 'pontiac', 'problem',\n",
              "       'saturn', 'seat', 'sedan', 'subaru', 'suzuki', 'toyata', 'toyota',\n",
              "       'volkswagen', 'volkwagen', 'volvo'], dtype=object)"
            ]
          },
          "metadata": {},
          "execution_count": 88
        }
      ]
    },
    {
      "cell_type": "code",
      "metadata": {
        "id": "TGae2FW8VzqT"
      },
      "source": [
        "#Filtering counts for brands\n",
        "brand_counts = []\n",
        "for key,item in word_freq.most_common():\n",
        "    if key in brand_names:\n",
        "        temp = (key,item)\n",
        "        brand_counts.append(temp)"
      ],
      "execution_count": null,
      "outputs": []
    },
    {
      "cell_type": "code",
      "metadata": {
        "id": "_P0_hLrzV-Eu"
      },
      "source": [
        "brands_sorted_df = pd.DataFrame(brand_counts, columns = ['Brand','Freq'])\n",
        "brands_sorted_df.drop([0, 2, 9, 10], axis = 0, inplace =True)\n"
      ],
      "execution_count": null,
      "outputs": []
    },
    {
      "cell_type": "markdown",
      "metadata": {
        "id": "Ofo1GVfwZ4l8"
      },
      "source": [
        "#### **2. Which 10 brands you chose – provide the frequency table**"
      ]
    },
    {
      "cell_type": "code",
      "metadata": {
        "colab": {
          "base_uri": "https://localhost:8080/",
          "height": 359
        },
        "id": "dGfstAtJabNB",
        "outputId": "8c5f9b36-919f-471d-f895-103bf33f74bd"
      },
      "source": [
        "brands_sorted_df[:10]"
      ],
      "execution_count": null,
      "outputs": [
        {
          "output_type": "execute_result",
          "data": {
            "text/html": [
              "<div>\n",
              "<style scoped>\n",
              "    .dataframe tbody tr th:only-of-type {\n",
              "        vertical-align: middle;\n",
              "    }\n",
              "\n",
              "    .dataframe tbody tr th {\n",
              "        vertical-align: top;\n",
              "    }\n",
              "\n",
              "    .dataframe thead th {\n",
              "        text-align: right;\n",
              "    }\n",
              "</style>\n",
              "<table border=\"1\" class=\"dataframe\">\n",
              "  <thead>\n",
              "    <tr style=\"text-align: right;\">\n",
              "      <th></th>\n",
              "      <th>Brand</th>\n",
              "      <th>Freq</th>\n",
              "    </tr>\n",
              "  </thead>\n",
              "  <tbody>\n",
              "    <tr>\n",
              "      <th>1</th>\n",
              "      <td>bmw</td>\n",
              "      <td>1348</td>\n",
              "    </tr>\n",
              "    <tr>\n",
              "      <th>3</th>\n",
              "      <td>acura</td>\n",
              "      <td>558</td>\n",
              "    </tr>\n",
              "    <tr>\n",
              "      <th>4</th>\n",
              "      <td>honda</td>\n",
              "      <td>427</td>\n",
              "    </tr>\n",
              "    <tr>\n",
              "      <th>5</th>\n",
              "      <td>audi</td>\n",
              "      <td>415</td>\n",
              "    </tr>\n",
              "    <tr>\n",
              "      <th>6</th>\n",
              "      <td>infiniti</td>\n",
              "      <td>384</td>\n",
              "    </tr>\n",
              "    <tr>\n",
              "      <th>7</th>\n",
              "      <td>toyota</td>\n",
              "      <td>315</td>\n",
              "    </tr>\n",
              "    <tr>\n",
              "      <th>8</th>\n",
              "      <td>nissan</td>\n",
              "      <td>301</td>\n",
              "    </tr>\n",
              "    <tr>\n",
              "      <th>11</th>\n",
              "      <td>subaru</td>\n",
              "      <td>208</td>\n",
              "    </tr>\n",
              "    <tr>\n",
              "      <th>12</th>\n",
              "      <td>mercedes-benz</td>\n",
              "      <td>178</td>\n",
              "    </tr>\n",
              "    <tr>\n",
              "      <th>13</th>\n",
              "      <td>volkswagen</td>\n",
              "      <td>171</td>\n",
              "    </tr>\n",
              "  </tbody>\n",
              "</table>\n",
              "</div>"
            ],
            "text/plain": [
              "            Brand  Freq\n",
              "1             bmw  1348\n",
              "3           acura   558\n",
              "4           honda   427\n",
              "5            audi   415\n",
              "6        infiniti   384\n",
              "7          toyota   315\n",
              "8          nissan   301\n",
              "11         subaru   208\n",
              "12  mercedes-benz   178\n",
              "13     volkswagen   171"
            ]
          },
          "metadata": {},
          "execution_count": 91
        }
      ]
    },
    {
      "cell_type": "markdown",
      "metadata": {
        "id": "WqwjmZxmbs_f"
      },
      "source": [
        "### **Task C: Calculate lift ratios for associations between the top-10 brands identified in Task B**"
      ]
    },
    {
      "cell_type": "code",
      "metadata": {
        "colab": {
          "base_uri": "https://localhost:8080/"
        },
        "id": "cOtFn4OxhsVX",
        "outputId": "4353cfe7-a86d-4595-9fb8-3a296de8e386"
      },
      "source": [
        "top_brands = list(brands_sorted_df['Brand'][:10])\n",
        "top_brands"
      ],
      "execution_count": null,
      "outputs": [
        {
          "output_type": "execute_result",
          "data": {
            "text/plain": [
              "['bmw',\n",
              " 'acura',\n",
              " 'honda',\n",
              " 'audi',\n",
              " 'infiniti',\n",
              " 'toyota',\n",
              " 'nissan',\n",
              " 'subaru',\n",
              " 'mercedes-benz',\n",
              " 'volkswagen']"
            ]
          },
          "metadata": {},
          "execution_count": 96
        }
      ]
    },
    {
      "cell_type": "code",
      "metadata": {
        "colab": {
          "base_uri": "https://localhost:8080/",
          "height": 390
        },
        "id": "Ryd9iw2ZhpDW",
        "outputId": "b5f5c050-a4d5-4919-ee18-38367ea2794d"
      },
      "source": [
        "lifts_df = pd.DataFrame(columns = ['A', 'B', 'Lift'])\n",
        "for i in range(10):\n",
        "    for j in range(10):\n",
        "        if j != i:\n",
        "            top_brands[i]\n",
        "            top_brands[j]\n",
        "            na = 0\n",
        "            nb = 0\n",
        "            nab = 0\n",
        "            for k in comments_df['comments_model_replace_words']:\n",
        "                if top_brands[i] in k:\n",
        "                    na += 1\n",
        "                    if top_brands[j] in k:\n",
        "                        nab += 1\n",
        "                if top_brands[j] in k:\n",
        "                    nb += 1\n",
        "            lifts = ((nab * 5000) / (na * nb))\n",
        "            lifts_df.loc[len(lifts_df)] = [top_brands[i], top_brands[j], lifts]\n",
        "            \n",
        "#lifts_df = lifts_df.append({'A': 'volvo', 'B': 'bmw', 'Lift': np.nan},ignore_index=True)\n",
        "lift_matrix = lifts_df.pivot(index='A', columns='B', values='Lift')\n",
        "lift_matrix\n",
        "\n",
        "#a = pd.crosstab(lifts_df['A'], lifts_df['B'])\n",
        "#a"
      ],
      "execution_count": null,
      "outputs": [
        {
          "output_type": "execute_result",
          "data": {
            "text/html": [
              "<div>\n",
              "<style scoped>\n",
              "    .dataframe tbody tr th:only-of-type {\n",
              "        vertical-align: middle;\n",
              "    }\n",
              "\n",
              "    .dataframe tbody tr th {\n",
              "        vertical-align: top;\n",
              "    }\n",
              "\n",
              "    .dataframe thead th {\n",
              "        text-align: right;\n",
              "    }\n",
              "</style>\n",
              "<table border=\"1\" class=\"dataframe\">\n",
              "  <thead>\n",
              "    <tr style=\"text-align: right;\">\n",
              "      <th>B</th>\n",
              "      <th>acura</th>\n",
              "      <th>audi</th>\n",
              "      <th>bmw</th>\n",
              "      <th>honda</th>\n",
              "      <th>infiniti</th>\n",
              "      <th>mercedes-benz</th>\n",
              "      <th>nissan</th>\n",
              "      <th>subaru</th>\n",
              "      <th>toyota</th>\n",
              "      <th>volkswagen</th>\n",
              "    </tr>\n",
              "    <tr>\n",
              "      <th>A</th>\n",
              "      <th></th>\n",
              "      <th></th>\n",
              "      <th></th>\n",
              "      <th></th>\n",
              "      <th></th>\n",
              "      <th></th>\n",
              "      <th></th>\n",
              "      <th></th>\n",
              "      <th></th>\n",
              "      <th></th>\n",
              "    </tr>\n",
              "  </thead>\n",
              "  <tbody>\n",
              "    <tr>\n",
              "      <th>acura</th>\n",
              "      <td>NaN</td>\n",
              "      <td>2.223950</td>\n",
              "      <td>1.528881</td>\n",
              "      <td>2.560164</td>\n",
              "      <td>3.056862</td>\n",
              "      <td>2.063952</td>\n",
              "      <td>2.262470</td>\n",
              "      <td>2.153984</td>\n",
              "      <td>1.792115</td>\n",
              "      <td>1.781634</td>\n",
              "    </tr>\n",
              "    <tr>\n",
              "      <th>audi</th>\n",
              "      <td>2.223950</td>\n",
              "      <td>NaN</td>\n",
              "      <td>1.716063</td>\n",
              "      <td>1.382579</td>\n",
              "      <td>2.761044</td>\n",
              "      <td>3.384324</td>\n",
              "      <td>1.561062</td>\n",
              "      <td>1.795644</td>\n",
              "      <td>1.223943</td>\n",
              "      <td>4.650180</td>\n",
              "    </tr>\n",
              "    <tr>\n",
              "      <th>bmw</th>\n",
              "      <td>1.528881</td>\n",
              "      <td>1.716063</td>\n",
              "      <td>NaN</td>\n",
              "      <td>1.276937</td>\n",
              "      <td>2.028468</td>\n",
              "      <td>1.958790</td>\n",
              "      <td>1.256938</td>\n",
              "      <td>1.212623</td>\n",
              "      <td>1.448354</td>\n",
              "      <td>1.561768</td>\n",
              "    </tr>\n",
              "    <tr>\n",
              "      <th>honda</th>\n",
              "      <td>2.560164</td>\n",
              "      <td>1.382579</td>\n",
              "      <td>1.276937</td>\n",
              "      <td>NaN</td>\n",
              "      <td>1.402713</td>\n",
              "      <td>1.710391</td>\n",
              "      <td>3.968038</td>\n",
              "      <td>1.519996</td>\n",
              "      <td>3.903201</td>\n",
              "      <td>2.122793</td>\n",
              "    </tr>\n",
              "    <tr>\n",
              "      <th>infiniti</th>\n",
              "      <td>3.056862</td>\n",
              "      <td>2.761044</td>\n",
              "      <td>2.028468</td>\n",
              "      <td>1.402713</td>\n",
              "      <td>NaN</td>\n",
              "      <td>2.779728</td>\n",
              "      <td>2.508998</td>\n",
              "      <td>1.815405</td>\n",
              "      <td>1.116071</td>\n",
              "      <td>2.208212</td>\n",
              "    </tr>\n",
              "    <tr>\n",
              "      <th>mercedes-benz</th>\n",
              "      <td>2.063952</td>\n",
              "      <td>3.384324</td>\n",
              "      <td>1.958790</td>\n",
              "      <td>1.710391</td>\n",
              "      <td>2.779728</td>\n",
              "      <td>NaN</td>\n",
              "      <td>1.679794</td>\n",
              "      <td>1.080380</td>\n",
              "      <td>2.051008</td>\n",
              "      <td>3.449635</td>\n",
              "    </tr>\n",
              "    <tr>\n",
              "      <th>nissan</th>\n",
              "      <td>2.262470</td>\n",
              "      <td>1.561062</td>\n",
              "      <td>1.256938</td>\n",
              "      <td>3.968038</td>\n",
              "      <td>2.508998</td>\n",
              "      <td>1.679794</td>\n",
              "      <td>NaN</td>\n",
              "      <td>1.517378</td>\n",
              "      <td>3.796868</td>\n",
              "      <td>2.817120</td>\n",
              "    </tr>\n",
              "    <tr>\n",
              "      <th>subaru</th>\n",
              "      <td>2.153984</td>\n",
              "      <td>1.795644</td>\n",
              "      <td>1.212623</td>\n",
              "      <td>1.519996</td>\n",
              "      <td>1.815405</td>\n",
              "      <td>1.080380</td>\n",
              "      <td>1.517378</td>\n",
              "      <td>NaN</td>\n",
              "      <td>1.373626</td>\n",
              "      <td>2.530364</td>\n",
              "    </tr>\n",
              "    <tr>\n",
              "      <th>toyota</th>\n",
              "      <td>1.792115</td>\n",
              "      <td>1.223943</td>\n",
              "      <td>1.448354</td>\n",
              "      <td>3.903201</td>\n",
              "      <td>1.116071</td>\n",
              "      <td>2.051008</td>\n",
              "      <td>3.796868</td>\n",
              "      <td>1.373626</td>\n",
              "      <td>NaN</td>\n",
              "      <td>2.134967</td>\n",
              "    </tr>\n",
              "    <tr>\n",
              "      <th>volkswagen</th>\n",
              "      <td>1.781634</td>\n",
              "      <td>4.650180</td>\n",
              "      <td>1.561768</td>\n",
              "      <td>2.122793</td>\n",
              "      <td>2.208212</td>\n",
              "      <td>3.449635</td>\n",
              "      <td>2.817120</td>\n",
              "      <td>2.530364</td>\n",
              "      <td>2.134967</td>\n",
              "      <td>NaN</td>\n",
              "    </tr>\n",
              "  </tbody>\n",
              "</table>\n",
              "</div>"
            ],
            "text/plain": [
              "B                 acura      audi       bmw  ...    subaru    toyota  volkswagen\n",
              "A                                            ...                                \n",
              "acura               NaN  2.223950  1.528881  ...  2.153984  1.792115    1.781634\n",
              "audi           2.223950       NaN  1.716063  ...  1.795644  1.223943    4.650180\n",
              "bmw            1.528881  1.716063       NaN  ...  1.212623  1.448354    1.561768\n",
              "honda          2.560164  1.382579  1.276937  ...  1.519996  3.903201    2.122793\n",
              "infiniti       3.056862  2.761044  2.028468  ...  1.815405  1.116071    2.208212\n",
              "mercedes-benz  2.063952  3.384324  1.958790  ...  1.080380  2.051008    3.449635\n",
              "nissan         2.262470  1.561062  1.256938  ...  1.517378  3.796868    2.817120\n",
              "subaru         2.153984  1.795644  1.212623  ...       NaN  1.373626    2.530364\n",
              "toyota         1.792115  1.223943  1.448354  ...  1.373626       NaN    2.134967\n",
              "volkswagen     1.781634  4.650180  1.561768  ...  2.530364  2.134967         NaN\n",
              "\n",
              "[10 rows x 10 columns]"
            ]
          },
          "metadata": {},
          "execution_count": 107
        }
      ]
    },
    {
      "cell_type": "code",
      "metadata": {
        "colab": {
          "base_uri": "https://localhost:8080/",
          "height": 514
        },
        "id": "pamkP1sTsHFS",
        "outputId": "ced23fe9-6563-4160-f7a2-2a5ec2946fc0"
      },
      "source": [
        "import seaborn as sns\n",
        "plt.figure(figsize=(20,8))\n",
        "\n",
        "\n",
        "sns.heatmap(lift_matrix.fillna(0),\n",
        "            annot=True,mask=np.triu(lift_matrix))"
      ],
      "execution_count": null,
      "outputs": [
        {
          "output_type": "execute_result",
          "data": {
            "text/plain": [
              "<matplotlib.axes._subplots.AxesSubplot at 0x7fb5273472d0>"
            ]
          },
          "metadata": {},
          "execution_count": 108
        },
        {
          "output_type": "display_data",
          "data": {
            "image/png": "[encoded data removed]",
            "text/plain": [
              "<Figure size 1440x576 with 2 Axes>"
            ]
          },
          "metadata": {
            "needs_background": "light"
          }
        }
      ]
    },
    {
      "cell_type": "markdown",
      "metadata": {
        "id": "KbIlSlARsjOS"
      },
      "source": [
        ""
      ]
    },
    {
      "cell_type": "markdown",
      "metadata": {
        "id": "pEolS6uvbwf2"
      },
      "source": [
        "### **Task D: Multi-Dimensional Scaling Map**"
      ]
    },
    {
      "cell_type": "code",
      "metadata": {
        "id": "QWIqvIjWbwvd"
      },
      "source": [
        "import matplotlib.pyplot as plt\n",
        "from sklearn.manifold import MDS\n",
        "from sklearn.preprocessing import MinMaxScaler"
      ],
      "execution_count": null,
      "outputs": []
    },
    {
      "cell_type": "code",
      "metadata": {
        "id": "5L6jqNPdjhyQ",
        "colab": {
          "base_uri": "https://localhost:8080/",
          "height": 390
        },
        "outputId": "80c01e17-5bec-436c-cd99-72c1d218e712"
      },
      "source": [
        "ds_matrix = lifts_df.pivot(index='A', columns='B', values='Lift').apply(lambda x: 1/x).fillna(0)\n",
        "ds_matrix"
      ],
      "execution_count": null,
      "outputs": [
        {
          "output_type": "execute_result",
          "data": {
            "text/html": [
              "<div>\n",
              "<style scoped>\n",
              "    .dataframe tbody tr th:only-of-type {\n",
              "        vertical-align: middle;\n",
              "    }\n",
              "\n",
              "    .dataframe tbody tr th {\n",
              "        vertical-align: top;\n",
              "    }\n",
              "\n",
              "    .dataframe thead th {\n",
              "        text-align: right;\n",
              "    }\n",
              "</style>\n",
              "<table border=\"1\" class=\"dataframe\">\n",
              "  <thead>\n",
              "    <tr style=\"text-align: right;\">\n",
              "      <th>B</th>\n",
              "      <th>acura</th>\n",
              "      <th>audi</th>\n",
              "      <th>bmw</th>\n",
              "      <th>honda</th>\n",
              "      <th>infiniti</th>\n",
              "      <th>mercedes-benz</th>\n",
              "      <th>nissan</th>\n",
              "      <th>subaru</th>\n",
              "      <th>toyota</th>\n",
              "      <th>volkswagen</th>\n",
              "    </tr>\n",
              "    <tr>\n",
              "      <th>A</th>\n",
              "      <th></th>\n",
              "      <th></th>\n",
              "      <th></th>\n",
              "      <th></th>\n",
              "      <th></th>\n",
              "      <th></th>\n",
              "      <th></th>\n",
              "      <th></th>\n",
              "      <th></th>\n",
              "      <th></th>\n",
              "    </tr>\n",
              "  </thead>\n",
              "  <tbody>\n",
              "    <tr>\n",
              "      <th>acura</th>\n",
              "      <td>0.000000</td>\n",
              "      <td>0.449650</td>\n",
              "      <td>0.654073</td>\n",
              "      <td>0.390600</td>\n",
              "      <td>0.327133</td>\n",
              "      <td>0.484507</td>\n",
              "      <td>0.441995</td>\n",
              "      <td>0.464256</td>\n",
              "      <td>0.558000</td>\n",
              "      <td>0.561282</td>\n",
              "    </tr>\n",
              "    <tr>\n",
              "      <th>audi</th>\n",
              "      <td>0.449650</td>\n",
              "      <td>0.000000</td>\n",
              "      <td>0.582729</td>\n",
              "      <td>0.723286</td>\n",
              "      <td>0.362182</td>\n",
              "      <td>0.295480</td>\n",
              "      <td>0.640590</td>\n",
              "      <td>0.556903</td>\n",
              "      <td>0.817031</td>\n",
              "      <td>0.215045</td>\n",
              "    </tr>\n",
              "    <tr>\n",
              "      <th>bmw</th>\n",
              "      <td>0.654073</td>\n",
              "      <td>0.582729</td>\n",
              "      <td>0.000000</td>\n",
              "      <td>0.783124</td>\n",
              "      <td>0.492983</td>\n",
              "      <td>0.510519</td>\n",
              "      <td>0.795584</td>\n",
              "      <td>0.824659</td>\n",
              "      <td>0.690439</td>\n",
              "      <td>0.640300</td>\n",
              "    </tr>\n",
              "    <tr>\n",
              "      <th>honda</th>\n",
              "      <td>0.390600</td>\n",
              "      <td>0.723286</td>\n",
              "      <td>0.783124</td>\n",
              "      <td>0.000000</td>\n",
              "      <td>0.712904</td>\n",
              "      <td>0.584662</td>\n",
              "      <td>0.252014</td>\n",
              "      <td>0.657896</td>\n",
              "      <td>0.256200</td>\n",
              "      <td>0.471077</td>\n",
              "    </tr>\n",
              "    <tr>\n",
              "      <th>infiniti</th>\n",
              "      <td>0.327133</td>\n",
              "      <td>0.362182</td>\n",
              "      <td>0.492983</td>\n",
              "      <td>0.712904</td>\n",
              "      <td>0.000000</td>\n",
              "      <td>0.359747</td>\n",
              "      <td>0.398566</td>\n",
              "      <td>0.550841</td>\n",
              "      <td>0.896000</td>\n",
              "      <td>0.452855</td>\n",
              "    </tr>\n",
              "    <tr>\n",
              "      <th>mercedes-benz</th>\n",
              "      <td>0.484507</td>\n",
              "      <td>0.295480</td>\n",
              "      <td>0.510519</td>\n",
              "      <td>0.584662</td>\n",
              "      <td>0.359747</td>\n",
              "      <td>0.000000</td>\n",
              "      <td>0.595311</td>\n",
              "      <td>0.925600</td>\n",
              "      <td>0.487565</td>\n",
              "      <td>0.289886</td>\n",
              "    </tr>\n",
              "    <tr>\n",
              "      <th>nissan</th>\n",
              "      <td>0.441995</td>\n",
              "      <td>0.640590</td>\n",
              "      <td>0.795584</td>\n",
              "      <td>0.252014</td>\n",
              "      <td>0.398566</td>\n",
              "      <td>0.595311</td>\n",
              "      <td>0.000000</td>\n",
              "      <td>0.659032</td>\n",
              "      <td>0.263375</td>\n",
              "      <td>0.354972</td>\n",
              "    </tr>\n",
              "    <tr>\n",
              "      <th>subaru</th>\n",
              "      <td>0.464256</td>\n",
              "      <td>0.556903</td>\n",
              "      <td>0.824659</td>\n",
              "      <td>0.657896</td>\n",
              "      <td>0.550841</td>\n",
              "      <td>0.925600</td>\n",
              "      <td>0.659032</td>\n",
              "      <td>0.000000</td>\n",
              "      <td>0.728000</td>\n",
              "      <td>0.395200</td>\n",
              "    </tr>\n",
              "    <tr>\n",
              "      <th>toyota</th>\n",
              "      <td>0.558000</td>\n",
              "      <td>0.817031</td>\n",
              "      <td>0.690439</td>\n",
              "      <td>0.256200</td>\n",
              "      <td>0.896000</td>\n",
              "      <td>0.487565</td>\n",
              "      <td>0.263375</td>\n",
              "      <td>0.728000</td>\n",
              "      <td>0.000000</td>\n",
              "      <td>0.468391</td>\n",
              "    </tr>\n",
              "    <tr>\n",
              "      <th>volkswagen</th>\n",
              "      <td>0.561282</td>\n",
              "      <td>0.215045</td>\n",
              "      <td>0.640300</td>\n",
              "      <td>0.471077</td>\n",
              "      <td>0.452855</td>\n",
              "      <td>0.289886</td>\n",
              "      <td>0.354972</td>\n",
              "      <td>0.395200</td>\n",
              "      <td>0.468391</td>\n",
              "      <td>0.000000</td>\n",
              "    </tr>\n",
              "  </tbody>\n",
              "</table>\n",
              "</div>"
            ],
            "text/plain": [
              "B                 acura      audi       bmw  ...    subaru    toyota  volkswagen\n",
              "A                                            ...                                \n",
              "acura          0.000000  0.449650  0.654073  ...  0.464256  0.558000    0.561282\n",
              "audi           0.449650  0.000000  0.582729  ...  0.556903  0.817031    0.215045\n",
              "bmw            0.654073  0.582729  0.000000  ...  0.824659  0.690439    0.640300\n",
              "honda          0.390600  0.723286  0.783124  ...  0.657896  0.256200    0.471077\n",
              "infiniti       0.327133  0.362182  0.492983  ...  0.550841  0.896000    0.452855\n",
              "mercedes-benz  0.484507  0.295480  0.510519  ...  0.925600  0.487565    0.289886\n",
              "nissan         0.441995  0.640590  0.795584  ...  0.659032  0.263375    0.354972\n",
              "subaru         0.464256  0.556903  0.824659  ...  0.000000  0.728000    0.395200\n",
              "toyota         0.558000  0.817031  0.690439  ...  0.728000  0.000000    0.468391\n",
              "volkswagen     0.561282  0.215045  0.640300  ...  0.395200  0.468391    0.000000\n",
              "\n",
              "[10 rows x 10 columns]"
            ]
          },
          "metadata": {},
          "execution_count": 110
        }
      ]
    },
    {
      "cell_type": "code",
      "metadata": {
        "id": "bkxf48bKjh1H",
        "colab": {
          "base_uri": "https://localhost:8080/",
          "height": 503
        },
        "outputId": "8a55135e-429b-44ad-a638-b451f645b262"
      },
      "source": [
        "X = ds_matrix\n",
        "scaler = MinMaxScaler()\n",
        "X_scaled = scaler.fit_transform(X)\n",
        "mds = MDS(2, random_state=0)\n",
        "X2 = mds.fit_transform(X_scaled)\n",
        "\n",
        "x = []\n",
        "y = []\n",
        "colors = ['blue', 'orange', 'green', 'red', 'purple', 'magenta', 'black', 'cyan', 'pink', 'yellow']\n",
        "plt.rcParams['figure.figsize'] = [7, 7]\n",
        "plt.rc('font', size=14)\n",
        "for i in range(10):\n",
        "    x.append(X2[i][0])\n",
        "    y.append(X2[i][1])\n",
        "    plt.scatter(x,y)\n",
        "    plt.annotate(X.index[i], xy=(X2[i][0], X2[i][1]))\n",
        "\n",
        "plt.legend()\n",
        "plt.show()"
      ],
      "execution_count": null,
      "outputs": [
        {
          "output_type": "stream",
          "name": "stderr",
          "text": [
            "/usr/local/lib/python3.7/dist-packages/sklearn/manifold/_mds.py:419: UserWarning: The MDS API has changed. ``fit`` now constructs an dissimilarity matrix from data. To use a custom dissimilarity matrix, set ``dissimilarity='precomputed'``.\n",
            "  warnings.warn(\"The MDS API has changed. ``fit`` now constructs an\"\n",
            "No handles with labels found to put in legend.\n"
          ]
        },
        {
          "output_type": "display_data",
          "data": {
            "image/png": "[encoded data removed]",
            "text/plain": [
              "<Figure size 504x504 with 1 Axes>"
            ]
          },
          "metadata": {
            "needs_background": "light"
          }
        }
      ]
    },
    {
      "cell_type": "markdown",
      "metadata": {
        "id": "Qw46iZB2byIG"
      },
      "source": [
        "### **Task E: Insights that can you offered to the client from analyses in Tasks C and D**"
      ]
    },
    {
      "cell_type": "markdown",
      "metadata": {
        "id": "7SI0jY6uGcwC"
      },
      "source": [
        "**Task C:**\n",
        "\n",
        "High Association: It can be seen from the Lift Matrix that there is high association between Toyota and Honda, Toyota and Nissan, Volkswagen and Audi, Mercedes and Volkswagen, Toyota and Honda, Honda and Nissan, Toyota and Nissan\n",
        "\n",
        "Low Association: BMW and Toyota, Subaru and BMW, Honda and Audi, Honda and BMW \n",
        "\n",
        "**Task D:**\n",
        "\n",
        "BMW: BMW has relatively less competition. It has low lifts with other brands in the top 10, but highest frequency. This could mean that BMW's competitor brand is not in the top 10. This could also mean people tend to make less comparisons with BMW and simply say more about its performance. \n",
        "\n",
        "Volkswagen: High lifts with other brands but lowest frequency. When people discuss about Volkswagen, it is usually when making comparisons with other brands. Low frequency, but high lift. It is not really considered as an entry level luxury car. It is considered more in comparison brand against other entry level luxury brands.\n",
        "\n",
        "Possibility of 'switching behaviour' amongst brands in the cluster. Volvo, Volks, subaru, toyota, Nissan. "
      ]
    },
    {
      "cell_type": "markdown",
      "metadata": {
        "id": "mtIWGHgDbzfN"
      },
      "source": [
        "### **Task F: Five most frequently mentioned attributes or features of cars in the discussions**"
      ]
    },
    {
      "cell_type": "code",
      "metadata": {
        "id": "_2h9jEsRFw-W",
        "colab": {
          "base_uri": "https://localhost:8080/"
        },
        "outputId": "4549bc08-0851-41b3-b437-baf875055fb8"
      },
      "source": [
        "words =[]\n",
        "for i in range(len(comments_df['comments_model_replace_words'] )):\n",
        "          words = words + comments_df['comments_model_replace_words'][i]\n",
        "words_frq = nltk.FreqDist(words)\n",
        "words_frq.most_common(70)"
      ],
      "execution_count": null,
      "outputs": [
        {
          "output_type": "execute_result",
          "data": {
            "text/plain": [
              "[('car', 2546),\n",
              " ('bmw', 1348),\n",
              " ('like', 1251),\n",
              " ('one', 1110),\n",
              " ('dont', 1068),\n",
              " ('would', 1026),\n",
              " ('get', 991),\n",
              " ('tl', 975),\n",
              " ('think', 942),\n",
              " ('pontiac5', 803),\n",
              " ('much', 740),\n",
              " ('im', 723),\n",
              " ('better', 722),\n",
              " ('drive', 718),\n",
              " ('even', 683),\n",
              " ('sedan', 675),\n",
              " ('new', 666),\n",
              " ('performance', 658),\n",
              " ('3', 656),\n",
              " ('good', 635),\n",
              " ('know', 633),\n",
              " ('people', 626),\n",
              " ('really', 622),\n",
              " ('well', 610),\n",
              " ('best', 592),\n",
              " ('also', 566),\n",
              " ('acura', 558),\n",
              " ('driving', 551),\n",
              " ('want', 544),\n",
              " ('still', 534),\n",
              " ('say', 512),\n",
              " ('time', 499),\n",
              " ('way', 499),\n",
              " ('see', 486),\n",
              " ('thats', 486),\n",
              " ('make', 478),\n",
              " ('go', 455),\n",
              " ('luxury', 445),\n",
              " ('engine', 430),\n",
              " ('honda', 427),\n",
              " ('price', 426),\n",
              " ('could', 424),\n",
              " ('buy', 423),\n",
              " ('audi', 415),\n",
              " ('series', 414),\n",
              " ('great', 409),\n",
              " ('going', 409),\n",
              " ('doesnt', 404),\n",
              " ('330i', 400),\n",
              " ('many', 397),\n",
              " ('years', 394),\n",
              " ('right', 387),\n",
              " ('take', 387),\n",
              " ('less', 386),\n",
              " ('ive', 384),\n",
              " ('infiniti', 384),\n",
              " ('handling', 382),\n",
              " ('cant', 380),\n",
              " ('back', 379),\n",
              " ('rwd', 376),\n",
              " ('power', 373),\n",
              " ('look', 371),\n",
              " ('got', 369),\n",
              " ('never', 359),\n",
              " ('test', 351),\n",
              " ('sure', 351),\n",
              " ('toyotad', 350),\n",
              " ('two', 347),\n",
              " ('point', 340),\n",
              " ('interior', 339)]"
            ]
          },
          "metadata": {},
          "execution_count": 122
        }
      ]
    },
    {
      "cell_type": "markdown",
      "metadata": {
        "id": "VkhbuCYCF9DM"
      },
      "source": [
        "**We manually picked top 5 features: performance, luxury, engine, price, power.**"
      ]
    },
    {
      "cell_type": "code",
      "metadata": {
        "colab": {
          "base_uri": "https://localhost:8080/"
        },
        "id": "WR0hWR57F1s8",
        "outputId": "9e79cd3d-e638-4a1e-df65-1f409ed73a3c"
      },
      "source": [
        "best_5features = np.array(['performance', 'luxury', 'engine', 'price', 'power'])\n",
        "best_5features"
      ],
      "execution_count": null,
      "outputs": [
        {
          "output_type": "execute_result",
          "data": {
            "text/plain": [
              "array(['performance', 'luxury', 'engine', 'price', 'power'], dtype='<U11')"
            ]
          },
          "metadata": {},
          "execution_count": 120
        }
      ]
    },
    {
      "cell_type": "code",
      "metadata": {
        "id": "YEptYxqvbzo-",
        "colab": {
          "base_uri": "https://localhost:8080/",
          "height": 390
        },
        "outputId": "2e5330c0-8da4-4baa-bcda-ec03302e4b7f"
      },
      "source": [
        "features_lift = pd.DataFrame(columns = ['Brand', 'Feature', 'Lift'])\n",
        "for i in range(10):\n",
        "    for j in range(5):\n",
        "        top_brands[i]\n",
        "        best_5features[j]\n",
        "        na2 = 0\n",
        "        nb2 = 0\n",
        "        nab2 = 0\n",
        "        for k in comments_df['comments_model_replace_words']:\n",
        "            if top_brands[i] in k:\n",
        "                na2 += 1\n",
        "                if best_5features[j] in k:\n",
        "                    nab2 += 1\n",
        "            if best_5features[j] in k:\n",
        "                nb2 += 1\n",
        "        lifts2 = ((nab2 * 5000) / (na2 * nb2))\n",
        "        features_lift.loc[len(features_lift)] = [top_brands[i], best_5features[j], lifts2]\n",
        "features_lift = features_lift.pivot(index='Brand', columns='Feature', values='Lift')\n",
        "features_lift"
      ],
      "execution_count": null,
      "outputs": [
        {
          "output_type": "execute_result",
          "data": {
            "text/html": [
              "<div>\n",
              "<style scoped>\n",
              "    .dataframe tbody tr th:only-of-type {\n",
              "        vertical-align: middle;\n",
              "    }\n",
              "\n",
              "    .dataframe tbody tr th {\n",
              "        vertical-align: top;\n",
              "    }\n",
              "\n",
              "    .dataframe thead th {\n",
              "        text-align: right;\n",
              "    }\n",
              "</style>\n",
              "<table border=\"1\" class=\"dataframe\">\n",
              "  <thead>\n",
              "    <tr style=\"text-align: right;\">\n",
              "      <th>Feature</th>\n",
              "      <th>engine</th>\n",
              "      <th>luxury</th>\n",
              "      <th>performance</th>\n",
              "      <th>power</th>\n",
              "      <th>price</th>\n",
              "    </tr>\n",
              "    <tr>\n",
              "      <th>Brand</th>\n",
              "      <th></th>\n",
              "      <th></th>\n",
              "      <th></th>\n",
              "      <th></th>\n",
              "      <th></th>\n",
              "    </tr>\n",
              "  </thead>\n",
              "  <tbody>\n",
              "    <tr>\n",
              "      <th>acura</th>\n",
              "      <td>1.604568</td>\n",
              "      <td>1.993476</td>\n",
              "      <td>1.497968</td>\n",
              "      <td>1.801724</td>\n",
              "      <td>1.640668</td>\n",
              "    </tr>\n",
              "    <tr>\n",
              "      <th>audi</th>\n",
              "      <td>1.821238</td>\n",
              "      <td>1.732774</td>\n",
              "      <td>1.446516</td>\n",
              "      <td>1.905746</td>\n",
              "      <td>2.177725</td>\n",
              "    </tr>\n",
              "    <tr>\n",
              "      <th>bmw</th>\n",
              "      <td>1.509558</td>\n",
              "      <td>1.325309</td>\n",
              "      <td>1.499463</td>\n",
              "      <td>1.591077</td>\n",
              "      <td>1.506318</td>\n",
              "    </tr>\n",
              "    <tr>\n",
              "      <th>honda</th>\n",
              "      <td>1.470508</td>\n",
              "      <td>1.736705</td>\n",
              "      <td>1.512639</td>\n",
              "      <td>1.789403</td>\n",
              "      <td>1.896626</td>\n",
              "    </tr>\n",
              "    <tr>\n",
              "      <th>infiniti</th>\n",
              "      <td>1.544331</td>\n",
              "      <td>1.726358</td>\n",
              "      <td>1.583080</td>\n",
              "      <td>1.501061</td>\n",
              "      <td>1.711659</td>\n",
              "    </tr>\n",
              "    <tr>\n",
              "      <th>mercedes-benz</th>\n",
              "      <td>1.698458</td>\n",
              "      <td>2.083070</td>\n",
              "      <td>1.067245</td>\n",
              "      <td>1.430852</td>\n",
              "      <td>1.252835</td>\n",
              "    </tr>\n",
              "    <tr>\n",
              "      <th>nissan</th>\n",
              "      <td>1.661130</td>\n",
              "      <td>1.642465</td>\n",
              "      <td>1.312747</td>\n",
              "      <td>2.093112</td>\n",
              "      <td>1.208803</td>\n",
              "    </tr>\n",
              "    <tr>\n",
              "      <th>subaru</th>\n",
              "      <td>1.229875</td>\n",
              "      <td>3.295160</td>\n",
              "      <td>1.753566</td>\n",
              "      <td>1.933388</td>\n",
              "      <td>1.410708</td>\n",
              "    </tr>\n",
              "    <tr>\n",
              "      <th>toyota</th>\n",
              "      <td>1.771872</td>\n",
              "      <td>2.389870</td>\n",
              "      <td>1.447387</td>\n",
              "      <td>1.063875</td>\n",
              "      <td>1.676727</td>\n",
              "    </tr>\n",
              "    <tr>\n",
              "      <th>volkswagen</th>\n",
              "      <td>1.699986</td>\n",
              "      <td>2.234050</td>\n",
              "      <td>1.377557</td>\n",
              "      <td>2.194942</td>\n",
              "      <td>2.402328</td>\n",
              "    </tr>\n",
              "  </tbody>\n",
              "</table>\n",
              "</div>"
            ],
            "text/plain": [
              "Feature          engine    luxury  performance     power     price\n",
              "Brand                                                             \n",
              "acura          1.604568  1.993476     1.497968  1.801724  1.640668\n",
              "audi           1.821238  1.732774     1.446516  1.905746  2.177725\n",
              "bmw            1.509558  1.325309     1.499463  1.591077  1.506318\n",
              "honda          1.470508  1.736705     1.512639  1.789403  1.896626\n",
              "infiniti       1.544331  1.726358     1.583080  1.501061  1.711659\n",
              "mercedes-benz  1.698458  2.083070     1.067245  1.430852  1.252835\n",
              "nissan         1.661130  1.642465     1.312747  2.093112  1.208803\n",
              "subaru         1.229875  3.295160     1.753566  1.933388  1.410708\n",
              "toyota         1.771872  2.389870     1.447387  1.063875  1.676727\n",
              "volkswagen     1.699986  2.234050     1.377557  2.194942  2.402328"
            ]
          },
          "metadata": {},
          "execution_count": 124
        }
      ]
    },
    {
      "cell_type": "markdown",
      "metadata": {
        "id": "4_7RBVSjb3Gx"
      },
      "source": [
        "### **Task G: Advice that can be given to the client from Task F?**"
      ]
    },
    {
      "cell_type": "markdown",
      "metadata": {
        "id": "TnoFygxdQbDw"
      },
      "source": [
        "\n",
        "Volkswagen, Subaru and Toyota have high association with Luxury.\n",
        "\n",
        "Unexpectedly, there is low association between BMW and luxury.\n",
        "\n",
        "\n",
        "Volkswagen has high association with price, luxury and power. Hence, used in comparison to other brands.\n",
        "\n",
        "Strong association with Luxury:\n",
        "Low association with Luxury:\n",
        "\n",
        "Strong association with Price: \n",
        "Low association with Price:\n",
        "\n",
        "Strong association with Engine: \n",
        "Low association with Price:\n",
        "\n",
        "Strong association with Power: \n",
        "Low association with Price:\n",
        "\n",
        "Strong association with Performance: \n",
        "Low association with Price:"
      ]
    },
    {
      "cell_type": "markdown",
      "metadata": {
        "id": "UaSyNMrqb_sJ"
      },
      "source": [
        "### **Task H: Most aspirational brand in the data in terms of people actually wanting to buy or own**"
      ]
    },
    {
      "cell_type": "code",
      "metadata": {
        "id": "8bbD2UKfcBch"
      },
      "source": [
        "#These are the words/phrases we have associated with aspiration.\n",
        "aspiration_list = ['hope to', 'want to', 'prefer', 'dream car', 'dream of', 'aspire', 'looking for','love to' ,\n",
        "                  'desire', 'love','want']"
      ],
      "execution_count": null,
      "outputs": []
    },
    {
      "cell_type": "code",
      "metadata": {
        "id": "DfhwMpvjyaEh"
      },
      "source": [
        "\n",
        "brand_df['Brand'] = brand_df['brand'].apply(lambda x :x.translate(str.maketrans('', '', string.punctuation)))"
      ],
      "execution_count": null,
      "outputs": []
    },
    {
      "cell_type": "code",
      "metadata": {
        "id": "1-sRAGm7ycVi"
      },
      "source": [
        "def model_to_brand(s):\n",
        "    for i in brand_df.index.values:\n",
        "        s = s.replace(brand_df[\"model\"][i].lower(),brand_df[\"Brand\"][i].lower())\n",
        "    return s\n",
        "comments_df['comments_model_replace_stop_words'] = comments_df['comments'].apply(model_to_brand)"
      ],
      "execution_count": null,
      "outputs": []
    },
    {
      "cell_type": "code",
      "metadata": {
        "id": "UPSCycfHydhG"
      },
      "source": [
        "def asp_words(x):\n",
        "    for i in aspiration_list:\n",
        "        x = x.replace(i,'aspiration')\n",
        "    return x\n",
        "comments_df['aspirational_words'] = comments_df['comments_model_replace_stop_words'].apply(asp_words)"
      ],
      "execution_count": null,
      "outputs": []
    },
    {
      "cell_type": "code",
      "metadata": {
        "id": "CiLsYrPVylNz",
        "colab": {
          "base_uri": "https://localhost:8080/",
          "height": 725
        },
        "outputId": "51e9934c-59b4-4b42-b78a-b067bc2dd90f"
      },
      "source": [
        "comments_df"
      ],
      "execution_count": null,
      "outputs": [
        {
          "output_type": "execute_result",
          "data": {
            "text/html": [
              "<div>\n",
              "<style scoped>\n",
              "    .dataframe tbody tr th:only-of-type {\n",
              "        vertical-align: middle;\n",
              "    }\n",
              "\n",
              "    .dataframe tbody tr th {\n",
              "        vertical-align: top;\n",
              "    }\n",
              "\n",
              "    .dataframe thead th {\n",
              "        text-align: right;\n",
              "    }\n",
              "</style>\n",
              "<table border=\"1\" class=\"dataframe\">\n",
              "  <thead>\n",
              "    <tr style=\"text-align: right;\">\n",
              "      <th></th>\n",
              "      <th>Date</th>\n",
              "      <th>comments</th>\n",
              "      <th>comments_model_replace</th>\n",
              "      <th>comments_model_replace_words</th>\n",
              "      <th>aspirational_words</th>\n",
              "      <th>comments_model_replace_stop_words</th>\n",
              "    </tr>\n",
              "  </thead>\n",
              "  <tbody>\n",
              "    <tr>\n",
              "      <th>0</th>\n",
              "      <td>March 24, 2002 10:54PM</td>\n",
              "      <td>i personally think that with a few tweaks the ...</td>\n",
              "      <td>i personally think that with a few tweaks the ...</td>\n",
              "      <td>[inch, driver, could, see, faults, without, ja...</td>\n",
              "      <td>i personally think that with a few tweaks the ...</td>\n",
              "      <td>i personally think that with a few tweaks the ...</td>\n",
              "    </tr>\n",
              "    <tr>\n",
              "      <th>1</th>\n",
              "      <td>March 25, 2002 12:06AM</td>\n",
              "      <td>i am debating a new purchase and these two are...</td>\n",
              "      <td>i am debating a new purchase and these two are...</td>\n",
              "      <td>[appreciate, worth, prices, dont, lot, dilemma...</td>\n",
              "      <td>i am debating a new purchase and these two are...</td>\n",
              "      <td>i am debating a new purchase and these two are...</td>\n",
              "    </tr>\n",
              "    <tr>\n",
              "      <th>2</th>\n",
              "      <td>March 25, 2002 10:02AM</td>\n",
              "      <td>great handling rwd excellent engine and the be...</td>\n",
              "      <td>great handling rwd excellent engine and the be...</td>\n",
              "      <td>[easy, rwd, warranty, excellent, great, best, ...</td>\n",
              "      <td>great handling rwd excellent engine and the be...</td>\n",
              "      <td>great handling rwd excellent engine and the be...</td>\n",
              "    </tr>\n",
              "    <tr>\n",
              "      <th>3</th>\n",
              "      <td>March 25, 2002 4:04PM</td>\n",
              "      <td>and no manual tranny that may not matter to yo...</td>\n",
              "      <td>and no manual tranny that may not matter to yo...</td>\n",
              "      <td>[may, board, even, imo, certainly, manual, mat...</td>\n",
              "      <td>and no manual tranny that may not matter to yo...</td>\n",
              "      <td>and no manual tranny that may not matter to yo...</td>\n",
              "    </tr>\n",
              "    <tr>\n",
              "      <th>4</th>\n",
              "      <td>March 25, 2002 5:44PM</td>\n",
              "      <td>one beauty of bmw 3 series is that there are s...</td>\n",
              "      <td>one beauty of bmw 3 series is that there are s...</td>\n",
              "      <td>[absolutely, basic, awd, models, convertible, ...</td>\n",
              "      <td>one beauty of bmw 3 series is that there are s...</td>\n",
              "      <td>one beauty of bmw 3 series is that there are s...</td>\n",
              "    </tr>\n",
              "    <tr>\n",
              "      <th>...</th>\n",
              "      <td>...</td>\n",
              "      <td>...</td>\n",
              "      <td>...</td>\n",
              "      <td>...</td>\n",
              "      <td>...</td>\n",
              "      <td>...</td>\n",
              "    </tr>\n",
              "    <tr>\n",
              "      <th>4995</th>\n",
              "      <td>January 23, 2006 9:51PM</td>\n",
              "      <td>i agree with blueguydotcom the is350 is one fa...</td>\n",
              "      <td>i agree with blueguydotcom the is350 is one fa...</td>\n",
              "      <td>[fun, suspension, crawling, nice, deficiencies...</td>\n",
              "      <td>i agree with blueguydotcom the is350 is one fa...</td>\n",
              "      <td>i agree with blueguydotcom the is350 is one fa...</td>\n",
              "    </tr>\n",
              "    <tr>\n",
              "      <th>4996</th>\n",
              "      <td>January 23, 2006 11:29PM</td>\n",
              "      <td>dont have any interest in aftermarket tuners t...</td>\n",
              "      <td>dont have any interest in aftermarket tuners t...</td>\n",
              "      <td>[trick, aftermarket, produce, tuners, dont, 35...</td>\n",
              "      <td>dont have any interest in aftermarket tuners t...</td>\n",
              "      <td>dont have any interest in aftermarket tuners t...</td>\n",
              "    </tr>\n",
              "    <tr>\n",
              "      <th>4997</th>\n",
              "      <td>January 24, 2006 7:39PM</td>\n",
              "      <td>dont have any interest in aftermarket tuners\\n...</td>\n",
              "      <td>dont have any interest in aftermarket tuners\\n...</td>\n",
              "      <td>[naturally, pushing, works, aftermarket, v8, t...</td>\n",
              "      <td>dont have any interest in aftermarket tuners\\n...</td>\n",
              "      <td>dont have any interest in aftermarket tuners\\n...</td>\n",
              "    </tr>\n",
              "    <tr>\n",
              "      <th>4998</th>\n",
              "      <td>January 24, 2006 7:42PM</td>\n",
              "      <td>amg i have no use forits mb afterall as for m ...</td>\n",
              "      <td>amg i have no use forits mb afterall as for m ...</td>\n",
              "      <td>[mb, division, forits, afterall, dinan, want, ...</td>\n",
              "      <td>amg i have no use forits mb afterall as for m ...</td>\n",
              "      <td>amg i have no use forits mb afterall as for m ...</td>\n",
              "    </tr>\n",
              "    <tr>\n",
              "      <th>4999</th>\n",
              "      <td>January 24, 2006 10:10PM</td>\n",
              "      <td>alpina is like dinan just a tuner i want nothi...</td>\n",
              "      <td>bmw is like dinan just a tuner i want nothing ...</td>\n",
              "      <td>[anyway, mph, makes, car, schnitzer, e90, serv...</td>\n",
              "      <td>bmw is like dinan just a tuner i aspiration no...</td>\n",
              "      <td>bmw is like dinan just a tuner i want nothing ...</td>\n",
              "    </tr>\n",
              "  </tbody>\n",
              "</table>\n",
              "<p>5000 rows × 6 columns</p>\n",
              "</div>"
            ],
            "text/plain": [
              "                          Date  ...                  comments_model_replace_stop_words\n",
              "0       March 24, 2002 10:54PM  ...  i personally think that with a few tweaks the ...\n",
              "1       March 25, 2002 12:06AM  ...  i am debating a new purchase and these two are...\n",
              "2       March 25, 2002 10:02AM  ...  great handling rwd excellent engine and the be...\n",
              "3        March 25, 2002 4:04PM  ...  and no manual tranny that may not matter to yo...\n",
              "4        March 25, 2002 5:44PM  ...  one beauty of bmw 3 series is that there are s...\n",
              "...                        ...  ...                                                ...\n",
              "4995   January 23, 2006 9:51PM  ...  i agree with blueguydotcom the is350 is one fa...\n",
              "4996  January 23, 2006 11:29PM  ...  dont have any interest in aftermarket tuners t...\n",
              "4997   January 24, 2006 7:39PM  ...  dont have any interest in aftermarket tuners\\n...\n",
              "4998   January 24, 2006 7:42PM  ...  amg i have no use forits mb afterall as for m ...\n",
              "4999  January 24, 2006 10:10PM  ...  bmw is like dinan just a tuner i want nothing ...\n",
              "\n",
              "[5000 rows x 6 columns]"
            ]
          },
          "metadata": {},
          "execution_count": 140
        }
      ]
    },
    {
      "cell_type": "code",
      "metadata": {
        "id": "dVk9GVkQylh8"
      },
      "source": [
        "lift_df = pd.DataFrame(columns = ['brand', 'brandcount', 'asp_count', 'lift', 'percent_aspirational'])\n",
        "lift_df['brand'] = brand_df['Brand'].unique()"
      ],
      "execution_count": null,
      "outputs": []
    },
    {
      "cell_type": "code",
      "metadata": {
        "id": "dP6rV4gwyl0s",
        "colab": {
          "base_uri": "https://localhost:8080/"
        },
        "outputId": "89d21eed-e8ee-4a8d-f4d5-4b799ef5136a"
      },
      "source": [
        "overall_asp_count = 0\n",
        "for comment in comments_df['aspirational_words']:\n",
        "    if 'aspiration' in comment:\n",
        "        overall_asp_count += 1\n",
        "n = len(comments_df)\n",
        "n"
      ],
      "execution_count": null,
      "outputs": [
        {
          "output_type": "execute_result",
          "data": {
            "text/plain": [
              "5000"
            ]
          },
          "metadata": {},
          "execution_count": 154
        }
      ]
    },
    {
      "cell_type": "code",
      "metadata": {
        "id": "r6uZhforyqkc"
      },
      "source": [
        "index = 0\n",
        "for brand in lift_df['brand']:\n",
        "    brandcount = 0\n",
        "    asp_count = 0\n",
        "    for comment in comments_df['aspirational_words']:\n",
        "        if brand in comment:\n",
        "            brandcount += 1\n",
        "        if 'aspiration' in comment and brand in comment:\n",
        "            asp_count += 1\n",
        "        \n",
        "    lift_df['brandcount'][index] = brandcount\n",
        "    lift_df['asp_count'][index] = asp_count\n",
        "    index += 1\n",
        "  "
      ],
      "execution_count": null,
      "outputs": []
    },
    {
      "cell_type": "code",
      "metadata": {
        "id": "lV92eoycyrbk"
      },
      "source": [
        "lift_df.drop([5,18,26,27,24,30,33], axis = 0, inplace =True)"
      ],
      "execution_count": null,
      "outputs": []
    },
    {
      "cell_type": "code",
      "metadata": {
        "id": "dkBJqL81yyn1",
        "colab": {
          "base_uri": "https://localhost:8080/",
          "height": 359
        },
        "outputId": "1481346d-a59d-4556-f9bf-7e4f866b8293"
      },
      "source": [
        "lift_df['percent_aspirational'] = lift_df['asp_count']/lift_df['brandcount']\n",
        "lift_df['lift'] = (n*lift_df['asp_count'])/(lift_df['brandcount']*overall_asp_count)\n",
        "lift_df.sort_values(by = 'lift', ascending = False)[:10]"
      ],
      "execution_count": null,
      "outputs": [
        {
          "output_type": "execute_result",
          "data": {
            "text/html": [
              "<div>\n",
              "<style scoped>\n",
              "    .dataframe tbody tr th:only-of-type {\n",
              "        vertical-align: middle;\n",
              "    }\n",
              "\n",
              "    .dataframe tbody tr th {\n",
              "        vertical-align: top;\n",
              "    }\n",
              "\n",
              "    .dataframe thead th {\n",
              "        text-align: right;\n",
              "    }\n",
              "</style>\n",
              "<table border=\"1\" class=\"dataframe\">\n",
              "  <thead>\n",
              "    <tr style=\"text-align: right;\">\n",
              "      <th></th>\n",
              "      <th>brand</th>\n",
              "      <th>brandcount</th>\n",
              "      <th>asp_count</th>\n",
              "      <th>lift</th>\n",
              "      <th>percent_aspirational</th>\n",
              "    </tr>\n",
              "  </thead>\n",
              "  <tbody>\n",
              "    <tr>\n",
              "      <th>10</th>\n",
              "      <td>honda</td>\n",
              "      <td>2</td>\n",
              "      <td>1</td>\n",
              "      <td>2.29148</td>\n",
              "      <td>0.5</td>\n",
              "    </tr>\n",
              "    <tr>\n",
              "      <th>19</th>\n",
              "      <td>mercedesbenz</td>\n",
              "      <td>23</td>\n",
              "      <td>11</td>\n",
              "      <td>2.19185</td>\n",
              "      <td>0.478261</td>\n",
              "    </tr>\n",
              "    <tr>\n",
              "      <th>3</th>\n",
              "      <td>buick</td>\n",
              "      <td>37</td>\n",
              "      <td>16</td>\n",
              "      <td>1.98182</td>\n",
              "      <td>0.432432</td>\n",
              "    </tr>\n",
              "    <tr>\n",
              "      <th>29</th>\n",
              "      <td>suzuki</td>\n",
              "      <td>24</td>\n",
              "      <td>10</td>\n",
              "      <td>1.90956</td>\n",
              "      <td>0.416667</td>\n",
              "    </tr>\n",
              "    <tr>\n",
              "      <th>15</th>\n",
              "      <td>lincoln</td>\n",
              "      <td>109</td>\n",
              "      <td>44</td>\n",
              "      <td>1.85</td>\n",
              "      <td>0.40367</td>\n",
              "    </tr>\n",
              "    <tr>\n",
              "      <th>6</th>\n",
              "      <td>chevrolet</td>\n",
              "      <td>81</td>\n",
              "      <td>32</td>\n",
              "      <td>1.81055</td>\n",
              "      <td>0.395062</td>\n",
              "    </tr>\n",
              "    <tr>\n",
              "      <th>32</th>\n",
              "      <td>volkswagen</td>\n",
              "      <td>218</td>\n",
              "      <td>86</td>\n",
              "      <td>1.80795</td>\n",
              "      <td>0.394495</td>\n",
              "    </tr>\n",
              "    <tr>\n",
              "      <th>14</th>\n",
              "      <td>kia</td>\n",
              "      <td>64</td>\n",
              "      <td>25</td>\n",
              "      <td>1.79022</td>\n",
              "      <td>0.390625</td>\n",
              "    </tr>\n",
              "    <tr>\n",
              "      <th>8</th>\n",
              "      <td>dodge</td>\n",
              "      <td>255</td>\n",
              "      <td>98</td>\n",
              "      <td>1.76129</td>\n",
              "      <td>0.384314</td>\n",
              "    </tr>\n",
              "    <tr>\n",
              "      <th>7</th>\n",
              "      <td>chrysler</td>\n",
              "      <td>200</td>\n",
              "      <td>73</td>\n",
              "      <td>1.67278</td>\n",
              "      <td>0.365</td>\n",
              "    </tr>\n",
              "  </tbody>\n",
              "</table>\n",
              "</div>"
            ],
            "text/plain": [
              "           brand brandcount asp_count     lift percent_aspirational\n",
              "10         honda          2         1  2.29148                  0.5\n",
              "19  mercedesbenz         23        11  2.19185             0.478261\n",
              "3          buick         37        16  1.98182             0.432432\n",
              "29        suzuki         24        10  1.90956             0.416667\n",
              "15       lincoln        109        44     1.85              0.40367\n",
              "6      chevrolet         81        32  1.81055             0.395062\n",
              "32    volkswagen        218        86  1.80795             0.394495\n",
              "14           kia         64        25  1.79022             0.390625\n",
              "8          dodge        255        98  1.76129             0.384314\n",
              "7       chrysler        200        73  1.67278                0.365"
            ]
          },
          "metadata": {},
          "execution_count": 162
        }
      ]
    },
    {
      "cell_type": "markdown",
      "metadata": {
        "id": "WtCvi4F1-rkO"
      },
      "source": [
        "**Most aspirational brand among the top 10**"
      ]
    },
    {
      "cell_type": "code",
      "metadata": {
        "colab": {
          "base_uri": "https://localhost:8080/",
          "height": 359
        },
        "id": "m7YtjbN1-uQa",
        "outputId": "c05711a7-3649-4173-feba-f5aa1aa71a8a"
      },
      "source": [
        "lift_df = pd.DataFrame(columns = ['brand', 'brandcount', 'asp_count', 'lift', 'percent_aspirational'])\n",
        "lift_df['brand'] = top_brands\n",
        "lift_df['brand'].replace('mercedes-benz', 'mercedes', inplace = True)\n",
        "\n",
        "overall_asp_count = 0\n",
        "for comment in comments_df['aspirational_words']:\n",
        "    if 'aspiration' in comment:\n",
        "        overall_asp_count += 1\n",
        "n = len(comments_df)\n",
        "\n",
        "index = 0\n",
        "for brand in lift_df['brand']:\n",
        "    brandcount = 0\n",
        "    asp_count = 0\n",
        "    for comment in comments_df['aspirational_words']:\n",
        "        if brand in comment:\n",
        "            brandcount += 1\n",
        "        if 'aspiration' in comment and brand in comment:\n",
        "            asp_count += 1\n",
        "        \n",
        "    lift_df['brandcount'][index] = brandcount\n",
        "    lift_df['asp_count'][index] = asp_count\n",
        "    index += 1\n",
        "lift_df\n",
        "lift_df['percent_aspirational'] = lift_df['asp_count']/lift_df['brandcount']\n",
        "lift_df['lift'] = (n*lift_df['asp_count'])/(lift_df['brandcount']*overall_asp_count)\n",
        "lift_df.sort_values(by = 'lift', ascending = False)[:10]"
      ],
      "execution_count": null,
      "outputs": [
        {
          "output_type": "execute_result",
          "data": {
            "text/html": [
              "<div>\n",
              "<style scoped>\n",
              "    .dataframe tbody tr th:only-of-type {\n",
              "        vertical-align: middle;\n",
              "    }\n",
              "\n",
              "    .dataframe tbody tr th {\n",
              "        vertical-align: top;\n",
              "    }\n",
              "\n",
              "    .dataframe thead th {\n",
              "        text-align: right;\n",
              "    }\n",
              "</style>\n",
              "<table border=\"1\" class=\"dataframe\">\n",
              "  <thead>\n",
              "    <tr style=\"text-align: right;\">\n",
              "      <th></th>\n",
              "      <th>brand</th>\n",
              "      <th>brandcount</th>\n",
              "      <th>asp_count</th>\n",
              "      <th>lift</th>\n",
              "      <th>percent_aspirational</th>\n",
              "    </tr>\n",
              "  </thead>\n",
              "  <tbody>\n",
              "    <tr>\n",
              "      <th>9</th>\n",
              "      <td>volkswagen</td>\n",
              "      <td>218</td>\n",
              "      <td>86</td>\n",
              "      <td>1.80795</td>\n",
              "      <td>0.394495</td>\n",
              "    </tr>\n",
              "    <tr>\n",
              "      <th>4</th>\n",
              "      <td>infiniti</td>\n",
              "      <td>424</td>\n",
              "      <td>150</td>\n",
              "      <td>1.62133</td>\n",
              "      <td>0.353774</td>\n",
              "    </tr>\n",
              "    <tr>\n",
              "      <th>2</th>\n",
              "      <td>honda</td>\n",
              "      <td>611</td>\n",
              "      <td>200</td>\n",
              "      <td>1.50015</td>\n",
              "      <td>0.327332</td>\n",
              "    </tr>\n",
              "    <tr>\n",
              "      <th>6</th>\n",
              "      <td>nissan</td>\n",
              "      <td>382</td>\n",
              "      <td>125</td>\n",
              "      <td>1.49966</td>\n",
              "      <td>0.327225</td>\n",
              "    </tr>\n",
              "    <tr>\n",
              "      <th>0</th>\n",
              "      <td>bmw</td>\n",
              "      <td>1405</td>\n",
              "      <td>454</td>\n",
              "      <td>1.4809</td>\n",
              "      <td>0.323132</td>\n",
              "    </tr>\n",
              "    <tr>\n",
              "      <th>3</th>\n",
              "      <td>audi</td>\n",
              "      <td>505</td>\n",
              "      <td>162</td>\n",
              "      <td>1.47017</td>\n",
              "      <td>0.320792</td>\n",
              "    </tr>\n",
              "    <tr>\n",
              "      <th>1</th>\n",
              "      <td>acura</td>\n",
              "      <td>624</td>\n",
              "      <td>197</td>\n",
              "      <td>1.44686</td>\n",
              "      <td>0.315705</td>\n",
              "    </tr>\n",
              "    <tr>\n",
              "      <th>5</th>\n",
              "      <td>toyota</td>\n",
              "      <td>1416</td>\n",
              "      <td>430</td>\n",
              "      <td>1.39172</td>\n",
              "      <td>0.303672</td>\n",
              "    </tr>\n",
              "    <tr>\n",
              "      <th>7</th>\n",
              "      <td>subaru</td>\n",
              "      <td>283</td>\n",
              "      <td>80</td>\n",
              "      <td>1.29553</td>\n",
              "      <td>0.282686</td>\n",
              "    </tr>\n",
              "    <tr>\n",
              "      <th>8</th>\n",
              "      <td>mercedes</td>\n",
              "      <td>184</td>\n",
              "      <td>50</td>\n",
              "      <td>1.24537</td>\n",
              "      <td>0.271739</td>\n",
              "    </tr>\n",
              "  </tbody>\n",
              "</table>\n",
              "</div>"
            ],
            "text/plain": [
              "        brand brandcount asp_count     lift percent_aspirational\n",
              "9  volkswagen        218        86  1.80795             0.394495\n",
              "4    infiniti        424       150  1.62133             0.353774\n",
              "2       honda        611       200  1.50015             0.327332\n",
              "6      nissan        382       125  1.49966             0.327225\n",
              "0         bmw       1405       454   1.4809             0.323132\n",
              "3        audi        505       162  1.47017             0.320792\n",
              "1       acura        624       197  1.44686             0.315705\n",
              "5      toyota       1416       430  1.39172             0.303672\n",
              "7      subaru        283        80  1.29553             0.282686\n",
              "8    mercedes        184        50  1.24537             0.271739"
            ]
          },
          "metadata": {},
          "execution_count": 170
        }
      ]
    },
    {
      "cell_type": "markdown",
      "metadata": {
        "id": "pEM7Vo6FAQ53"
      },
      "source": [
        "Thus, Volkswagen is the most aspirational brand according to our analysis followed by infiniti and honda.\n",
        "\n",
        "\n"
      ]
    },
    {
      "cell_type": "code",
      "metadata": {
        "id": "vUpIG-5BAYvf"
      },
      "source": [
        ""
      ],
      "execution_count": null,
      "outputs": []
    }
  ]
}
